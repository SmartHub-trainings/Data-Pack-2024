{
 "cells": [
  {
   "cell_type": "code",
   "execution_count": 1,
   "id": "ddd5402b-779f-4e24-9fb3-1b5099021571",
   "metadata": {},
   "outputs": [],
   "source": [
    "import pandas as pd"
   ]
  },
  {
   "cell_type": "code",
   "execution_count": 2,
   "id": "d8810a2f-fddb-4eaf-bda1-31dc77aadfb6",
   "metadata": {},
   "outputs": [],
   "source": [
    "scores1 = pd.Series([30,50,50,50,70])"
   ]
  },
  {
   "cell_type": "code",
   "execution_count": 3,
   "id": "ef653f0d-f137-4904-bd70-244ecdce1fbd",
   "metadata": {},
   "outputs": [
    {
     "data": {
      "text/plain": [
       "0    30\n",
       "1    50\n",
       "2    50\n",
       "3    50\n",
       "4    70\n",
       "dtype: int64"
      ]
     },
     "execution_count": 3,
     "metadata": {},
     "output_type": "execute_result"
    }
   ],
   "source": [
    "scores1"
   ]
  },
  {
   "cell_type": "code",
   "execution_count": 6,
   "id": "12925ba8-1cfc-4738-8396-2e58a25594e5",
   "metadata": {},
   "outputs": [],
   "source": [
    "scores3 = pd.Series([30,50,50,50,70],\n",
    "                    [\"Ola\",\"Precious\",\"David\",\"Henry\",\"Mike\"])"
   ]
  },
  {
   "cell_type": "code",
   "execution_count": 7,
   "id": "f435eaa3-c62a-4f3a-a429-8fbb50b935e3",
   "metadata": {},
   "outputs": [
    {
     "data": {
      "text/plain": [
       "Ola         30\n",
       "Precious    50\n",
       "David       50\n",
       "Henry       50\n",
       "Mike        70\n",
       "dtype: int64"
      ]
     },
     "execution_count": 7,
     "metadata": {},
     "output_type": "execute_result"
    }
   ],
   "source": [
    "scores3"
   ]
  },
  {
   "cell_type": "code",
   "execution_count": 8,
   "id": "c900171d-f316-43ec-ad8a-5076f555f1b8",
   "metadata": {},
   "outputs": [
    {
     "data": {
      "text/plain": [
       "(5,)"
      ]
     },
     "execution_count": 8,
     "metadata": {},
     "output_type": "execute_result"
    }
   ],
   "source": [
    "scores3.shape"
   ]
  },
  {
   "cell_type": "code",
   "execution_count": 9,
   "id": "c26dd338-4bed-44fb-8b3f-91955ba5dd10",
   "metadata": {},
   "outputs": [
    {
     "data": {
      "text/plain": [
       "1"
      ]
     },
     "execution_count": 9,
     "metadata": {},
     "output_type": "execute_result"
    }
   ],
   "source": [
    "scores3.ndim"
   ]
  },
  {
   "cell_type": "code",
   "execution_count": 10,
   "id": "ba1e8b7c-48b0-4d41-afd4-32a2506626bb",
   "metadata": {},
   "outputs": [
    {
     "data": {
      "text/plain": [
       "Ola         30\n",
       "Precious    50\n",
       "David       50\n",
       "Henry       50\n",
       "Mike        70\n",
       "dtype: int64"
      ]
     },
     "execution_count": 10,
     "metadata": {},
     "output_type": "execute_result"
    }
   ],
   "source": [
    "scores3"
   ]
  },
  {
   "cell_type": "code",
   "execution_count": 11,
   "id": "2dbbcbb3-1f27-4a00-8603-356af9f418bd",
   "metadata": {},
   "outputs": [
    {
     "data": {
      "text/plain": [
       "50"
      ]
     },
     "execution_count": 11,
     "metadata": {},
     "output_type": "execute_result"
    }
   ],
   "source": [
    "scores3[1]"
   ]
  },
  {
   "cell_type": "code",
   "execution_count": 12,
   "id": "b5d0980b-0495-461a-8be3-d656dd9e2e8f",
   "metadata": {},
   "outputs": [
    {
     "data": {
      "text/plain": [
       "50"
      ]
     },
     "execution_count": 12,
     "metadata": {},
     "output_type": "execute_result"
    }
   ],
   "source": [
    "scores3[\"David\"]"
   ]
  },
  {
   "cell_type": "code",
   "execution_count": 14,
   "id": "b25da7d5-a9f1-4018-9847-48a5b7b22150",
   "metadata": {},
   "outputs": [],
   "source": [
    "import numpy as np"
   ]
  },
  {
   "cell_type": "code",
   "execution_count": 15,
   "id": "74fbd4c6-8708-4456-92f9-fe46e946371f",
   "metadata": {},
   "outputs": [],
   "source": [
    "scores4 = pd.Series(np.random.randint(1,20,6),range(1,7))"
   ]
  },
  {
   "cell_type": "code",
   "execution_count": 16,
   "id": "98d9240f-272a-4b74-83d6-2b0062052771",
   "metadata": {},
   "outputs": [
    {
     "data": {
      "text/plain": [
       "1    18\n",
       "2     6\n",
       "3     8\n",
       "4    13\n",
       "5     3\n",
       "6    10\n",
       "dtype: int64"
      ]
     },
     "execution_count": 16,
     "metadata": {},
     "output_type": "execute_result"
    }
   ],
   "source": [
    "scores4"
   ]
  },
  {
   "cell_type": "code",
   "execution_count": 18,
   "id": "e59ea863-3f9b-46f7-87a9-5906224ea243",
   "metadata": {},
   "outputs": [
    {
     "data": {
      "text/plain": [
       "18"
      ]
     },
     "execution_count": 18,
     "metadata": {},
     "output_type": "execute_result"
    }
   ],
   "source": [
    "scores4[1]"
   ]
  },
  {
   "cell_type": "code",
   "execution_count": 21,
   "id": "17007a7d-a028-4233-9b7c-c2f5d1cceae9",
   "metadata": {},
   "outputs": [
    {
     "data": {
      "text/plain": [
       "6"
      ]
     },
     "execution_count": 21,
     "metadata": {},
     "output_type": "execute_result"
    }
   ],
   "source": [
    "scores4.iloc[1]"
   ]
  },
  {
   "cell_type": "code",
   "execution_count": 22,
   "id": "f605ef91-714f-4300-8549-9ba9238587b3",
   "metadata": {},
   "outputs": [
    {
     "data": {
      "text/plain": [
       "18"
      ]
     },
     "execution_count": 22,
     "metadata": {},
     "output_type": "execute_result"
    }
   ],
   "source": [
    "scores4.loc[1]"
   ]
  },
  {
   "cell_type": "code",
   "execution_count": null,
   "id": "7e208534-a6d4-4f78-8b3f-e055bde837da",
   "metadata": {},
   "outputs": [],
   "source": []
  }
 ],
 "metadata": {
  "kernelspec": {
   "display_name": "Python 3 (ipykernel)",
   "language": "python",
   "name": "python3"
  },
  "language_info": {
   "codemirror_mode": {
    "name": "ipython",
    "version": 3
   },
   "file_extension": ".py",
   "mimetype": "text/x-python",
   "name": "python",
   "nbconvert_exporter": "python",
   "pygments_lexer": "ipython3",
   "version": "3.9.7"
  }
 },
 "nbformat": 4,
 "nbformat_minor": 5
}
