{
 "cells": [
  {
   "cell_type": "code",
   "execution_count": 1,
   "id": "24c88b6f",
   "metadata": {},
   "outputs": [],
   "source": [
    "from  sum_functions import sum_list,sum_lists,get_list_of_squares,product_of_lists"
   ]
  },
  {
   "cell_type": "code",
   "execution_count": 2,
   "id": "bc9051be",
   "metadata": {},
   "outputs": [],
   "source": [
    "x=[20,17,30,35,40]\n",
    "y=[65,50,90,80,64]\n",
    "sum_of_x=sum_list(x)\n",
    "sum_of_y=sum_list(y)"
   ]
  },
  {
   "cell_type": "code",
   "execution_count": 5,
   "id": "69649b50",
   "metadata": {},
   "outputs": [],
   "source": [
    "product_of_xy=product_of_lists(x,y)"
   ]
  },
  {
   "cell_type": "code",
   "execution_count": 6,
   "id": "ecf60c10",
   "metadata": {},
   "outputs": [],
   "source": [
    "squares_of_x=get_list_of_squares(x)"
   ]
  },
  {
   "cell_type": "code",
   "execution_count": 7,
   "id": "a4c4a600",
   "metadata": {},
   "outputs": [
    {
     "data": {
      "text/plain": [
       "[400, 289, 900, 1225, 1600]"
      ]
     },
     "execution_count": 7,
     "metadata": {},
     "output_type": "execute_result"
    }
   ],
   "source": [
    "squares_of_x"
   ]
  },
  {
   "cell_type": "code",
   "execution_count": 8,
   "id": "93b48431",
   "metadata": {},
   "outputs": [],
   "source": [
    "sum_of_x_squares=sum_list(squares_of_x)"
   ]
  },
  {
   "cell_type": "code",
   "execution_count": 9,
   "id": "e0cb187b",
   "metadata": {},
   "outputs": [],
   "source": [
    "sum_of_xy=sum_list(product_of_xy)"
   ]
  },
  {
   "cell_type": "code",
   "execution_count": 11,
   "id": "2d8b76e8",
   "metadata": {},
   "outputs": [
    {
     "name": "stdout",
     "output_type": "stream",
     "text": [
      "142\n",
      "349\n",
      "10210\n",
      "4414\n",
      "5\n"
     ]
    }
   ],
   "source": [
    "print(sum_of_x)\n",
    "print(sum_of_y)\n",
    "print(sum_of_xy)\n",
    "print(sum_of_x_squares)\n",
    "n= len(x)\n",
    "print(n)"
   ]
  },
  {
   "cell_type": "code",
   "execution_count": 12,
   "id": "b1f6fe60",
   "metadata": {},
   "outputs": [],
   "source": [
    "beta_1= (n*sum_of_xy-sum_of_x*sum_of_y)/(n*sum_of_x_squares-sum_of_x**2)"
   ]
  },
  {
   "cell_type": "code",
   "execution_count": 13,
   "id": "05b626e5",
   "metadata": {},
   "outputs": [
    {
     "data": {
      "text/plain": [
       "0.782791185729276"
      ]
     },
     "execution_count": 13,
     "metadata": {},
     "output_type": "execute_result"
    }
   ],
   "source": [
    "beta_1"
   ]
  },
  {
   "cell_type": "code",
   "execution_count": 14,
   "id": "9f53b2a9",
   "metadata": {},
   "outputs": [],
   "source": [
    "beta_0=sum_of_y/n-beta_1*sum_of_x/n"
   ]
  },
  {
   "cell_type": "code",
   "execution_count": 15,
   "id": "dc8081a4",
   "metadata": {},
   "outputs": [
    {
     "data": {
      "text/plain": [
       "47.568730325288556"
      ]
     },
     "execution_count": 15,
     "metadata": {},
     "output_type": "execute_result"
    }
   ],
   "source": [
    "beta_0"
   ]
  },
  {
   "cell_type": "code",
   "execution_count": 16,
   "id": "4f8c766d",
   "metadata": {},
   "outputs": [],
   "source": [
    "def predict_weight(age):\n",
    "    return beta_0+beta_1*age"
   ]
  },
  {
   "cell_type": "code",
   "execution_count": 17,
   "id": "befedd92",
   "metadata": {},
   "outputs": [
    {
     "data": {
      "text/plain": [
       "63.22455403987408"
      ]
     },
     "execution_count": 17,
     "metadata": {},
     "output_type": "execute_result"
    }
   ],
   "source": [
    "predict_weight(20)"
   ]
  },
  {
   "cell_type": "code",
   "execution_count": 18,
   "id": "e1f1625c",
   "metadata": {},
   "outputs": [
    {
     "data": {
      "text/plain": [
       "60.87618048268625"
      ]
     },
     "execution_count": 18,
     "metadata": {},
     "output_type": "execute_result"
    }
   ],
   "source": [
    "predict_weight(17)"
   ]
  },
  {
   "cell_type": "code",
   "execution_count": 19,
   "id": "e2aa1125",
   "metadata": {},
   "outputs": [
    {
     "name": "stdout",
     "output_type": "stream",
     "text": [
      "age: 20, weight:63.22455403987408\n",
      "age: 17, weight:60.87618048268625\n",
      "age: 30, weight:71.05246589716683\n",
      "age: 35, weight:74.96642182581321\n",
      "age: 40, weight:78.8803777544596\n"
     ]
    }
   ],
   "source": [
    "for age in x:\n",
    "    weight = predict_weight(age)\n",
    "    print(f\"age: {age}, weight:{weight}\")"
   ]
  },
  {
   "cell_type": "code",
   "execution_count": 33,
   "id": "1447e3ee",
   "metadata": {},
   "outputs": [
    {
     "name": "stdout",
     "output_type": "stream",
     "text": [
      "age: 20, weight:65 predicted weight 63.22455403987408\n",
      "Error= 1.7754459601259214\n",
      "====================\n",
      "age: 17, weight:50 predicted weight 60.87618048268625\n",
      "Error= -10.876180482686252\n",
      "====================\n",
      "age: 30, weight:90 predicted weight 71.05246589716683\n",
      "Error= 18.947534102833174\n",
      "====================\n",
      "age: 35, weight:80 predicted weight 74.96642182581321\n",
      "Error= 5.033578174186786\n",
      "====================\n",
      "age: 40, weight:64 predicted weight 78.8803777544596\n",
      "Error= -14.880377754459602\n",
      "====================\n"
     ]
    }
   ],
   "source": [
    "errors=[]\n",
    "residual_squares=[]\n",
    "for age,weight in zip(x,y):\n",
    "    predicted_weight = predict_weight(age)\n",
    "    print(f\"age: {age}, weight:{weight} predicted weight {predicted_weight}\")\n",
    "    error = weight-predicted_weight\n",
    "    print(f\"Error= {error}\")\n",
    "    print(\"=\"*20)\n",
    "    errors.append(error)\n",
    "    residual_squares.append(error**2)\n",
    "    "
   ]
  },
  {
   "cell_type": "code",
   "execution_count": 22,
   "id": "2c63b9f2",
   "metadata": {},
   "outputs": [
    {
     "data": {
      "text/plain": [
       "[(20, 65), (17, 50), (30, 90), (35, 80), (40, 64)]"
      ]
     },
     "execution_count": 22,
     "metadata": {},
     "output_type": "execute_result"
    }
   ],
   "source": [
    "list(zip(x,y))"
   ]
  },
  {
   "cell_type": "code",
   "execution_count": 29,
   "id": "9d11c098",
   "metadata": {},
   "outputs": [
    {
     "data": {
      "text/plain": [
       "[1.7754459601259214,\n",
       " -10.876180482686252,\n",
       " 18.947534102833174,\n",
       " 5.033578174186786,\n",
       " -14.880377754459602]"
      ]
     },
     "execution_count": 29,
     "metadata": {},
     "output_type": "execute_result"
    }
   ],
   "source": [
    "errors"
   ]
  },
  {
   "cell_type": "code",
   "execution_count": 31,
   "id": "0d8e3624",
   "metadata": {},
   "outputs": [
    {
     "data": {
      "text/plain": [
       "0"
      ]
     },
     "execution_count": 31,
     "metadata": {},
     "output_type": "execute_result"
    }
   ],
   "source": [
    "round(sum(errors))"
   ]
  },
  {
   "cell_type": "code",
   "execution_count": 32,
   "id": "4177bba6",
   "metadata": {},
   "outputs": [
    {
     "data": {
      "text/plain": [
       "90.62224554039874"
      ]
     },
     "execution_count": 32,
     "metadata": {},
     "output_type": "execute_result"
    }
   ],
   "source": [
    "predict_weight(55)"
   ]
  },
  {
   "cell_type": "code",
   "execution_count": 34,
   "id": "73830f69",
   "metadata": {},
   "outputs": [
    {
     "data": {
      "text/plain": [
       "[3.1522083573274546,\n",
       " 118.29130189196535,\n",
       " 359.0090485780261,\n",
       " 25.336909235649582,\n",
       " 221.42564211541617]"
      ]
     },
     "execution_count": 34,
     "metadata": {},
     "output_type": "execute_result"
    }
   ],
   "source": [
    "residual_squares"
   ]
  },
  {
   "cell_type": "code",
   "execution_count": 35,
   "id": "09cd99c2",
   "metadata": {},
   "outputs": [],
   "source": [
    "mse= sum_list(residual_squares)/n"
   ]
  },
  {
   "cell_type": "code",
   "execution_count": 36,
   "id": "8f2022d1",
   "metadata": {},
   "outputs": [
    {
     "data": {
      "text/plain": [
       "145.44302203567693"
      ]
     },
     "execution_count": 36,
     "metadata": {},
     "output_type": "execute_result"
    }
   ],
   "source": [
    "mse"
   ]
  },
  {
   "cell_type": "code",
   "execution_count": 37,
   "id": "df3b07f6",
   "metadata": {},
   "outputs": [],
   "source": [
    "rmse= mse**(0.5)"
   ]
  },
  {
   "cell_type": "code",
   "execution_count": 38,
   "id": "f4c37a5a",
   "metadata": {},
   "outputs": [
    {
     "data": {
      "text/plain": [
       "12.059976037939583"
      ]
     },
     "execution_count": 38,
     "metadata": {},
     "output_type": "execute_result"
    }
   ],
   "source": [
    "rmse"
   ]
  },
  {
   "cell_type": "code",
   "execution_count": null,
   "id": "70b4cc8d",
   "metadata": {},
   "outputs": [],
   "source": []
  }
 ],
 "metadata": {
  "kernelspec": {
   "display_name": "Python 3 (ipykernel)",
   "language": "python",
   "name": "python3"
  },
  "language_info": {
   "codemirror_mode": {
    "name": "ipython",
    "version": 3
   },
   "file_extension": ".py",
   "mimetype": "text/x-python",
   "name": "python",
   "nbconvert_exporter": "python",
   "pygments_lexer": "ipython3",
   "version": "3.9.7"
  }
 },
 "nbformat": 4,
 "nbformat_minor": 5
}
