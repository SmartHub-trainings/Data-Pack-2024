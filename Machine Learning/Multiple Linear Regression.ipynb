{
 "cells": [
  {
   "cell_type": "code",
   "execution_count": 1,
   "id": "4d3b8608",
   "metadata": {},
   "outputs": [],
   "source": [
    "from sklearn.datasets import load_boston"
   ]
  },
  {
   "cell_type": "code",
   "execution_count": 2,
   "id": "1a841366",
   "metadata": {},
   "outputs": [],
   "source": [
    "bunch =load_boston()"
   ]
  },
  {
   "cell_type": "code",
   "execution_count": 3,
   "id": "64e8b3c5",
   "metadata": {},
   "outputs": [],
   "source": [
    "X=bunch.data\n",
    "y=bunch.target"
   ]
  },
  {
   "cell_type": "code",
   "execution_count": 4,
   "id": "fff37177",
   "metadata": {},
   "outputs": [
    {
     "data": {
      "text/plain": [
       "(506, 13)"
      ]
     },
     "execution_count": 4,
     "metadata": {},
     "output_type": "execute_result"
    }
   ],
   "source": [
    "X.shape"
   ]
  },
  {
   "cell_type": "code",
   "execution_count": 5,
   "id": "84ce3e1b",
   "metadata": {},
   "outputs": [
    {
     "data": {
      "text/plain": [
       "(506,)"
      ]
     },
     "execution_count": 5,
     "metadata": {},
     "output_type": "execute_result"
    }
   ],
   "source": [
    "y.shape"
   ]
  },
  {
   "cell_type": "code",
   "execution_count": 6,
   "id": "23ac9574",
   "metadata": {},
   "outputs": [
    {
     "data": {
      "text/plain": [
       "array(['CRIM', 'ZN', 'INDUS', 'CHAS', 'NOX', 'RM', 'AGE', 'DIS', 'RAD',\n",
       "       'TAX', 'PTRATIO', 'B', 'LSTAT'], dtype='<U7')"
      ]
     },
     "execution_count": 6,
     "metadata": {},
     "output_type": "execute_result"
    }
   ],
   "source": [
    "bunch.feature_names"
   ]
  },
  {
   "cell_type": "code",
   "execution_count": 7,
   "id": "9be0834d",
   "metadata": {},
   "outputs": [],
   "source": [
    "X_crim=X[:,0]"
   ]
  },
  {
   "cell_type": "code",
   "execution_count": 9,
   "id": "dbbf0de6",
   "metadata": {},
   "outputs": [
    {
     "data": {
      "text/plain": [
       "(506,)"
      ]
     },
     "execution_count": 9,
     "metadata": {},
     "output_type": "execute_result"
    }
   ],
   "source": [
    "X_crim.shape"
   ]
  },
  {
   "cell_type": "code",
   "execution_count": 11,
   "id": "d0e2d9b9",
   "metadata": {},
   "outputs": [],
   "source": [
    "from sklearn.linear_model import LinearRegression\n",
    "from sklearn.model_selection import train_test_split"
   ]
  },
  {
   "cell_type": "code",
   "execution_count": 23,
   "id": "60a93f05",
   "metadata": {},
   "outputs": [],
   "source": [
    "sl_model=LinearRegression()\n",
    "X_crim=X_crim.reshape(-1,1)\n",
    "X_train,X_test,y_train,y_test=train_test_split(X_crim,y)"
   ]
  },
  {
   "cell_type": "code",
   "execution_count": null,
   "id": "27a6e0c9",
   "metadata": {},
   "outputs": [],
   "source": []
  },
  {
   "cell_type": "code",
   "execution_count": 24,
   "id": "65f81ac2",
   "metadata": {},
   "outputs": [
    {
     "data": {
      "text/plain": [
       "(379, 1)"
      ]
     },
     "execution_count": 24,
     "metadata": {},
     "output_type": "execute_result"
    }
   ],
   "source": [
    "X_train.shape"
   ]
  },
  {
   "cell_type": "code",
   "execution_count": 17,
   "id": "baeae855",
   "metadata": {},
   "outputs": [
    {
     "data": {
      "text/plain": [
       "(127,)"
      ]
     },
     "execution_count": 17,
     "metadata": {},
     "output_type": "execute_result"
    }
   ],
   "source": [
    "X_test.shape"
   ]
  },
  {
   "cell_type": "code",
   "execution_count": 25,
   "id": "dc77e928",
   "metadata": {},
   "outputs": [
    {
     "data": {
      "text/plain": [
       "LinearRegression()"
      ]
     },
     "execution_count": 25,
     "metadata": {},
     "output_type": "execute_result"
    }
   ],
   "source": [
    "sl_model.fit(X_train,y_train)"
   ]
  },
  {
   "cell_type": "code",
   "execution_count": 26,
   "id": "c3d33e2a",
   "metadata": {},
   "outputs": [
    {
     "data": {
      "text/plain": [
       "0.12812774870828147"
      ]
     },
     "execution_count": 26,
     "metadata": {},
     "output_type": "execute_result"
    }
   ],
   "source": [
    "sl_model.score(X_test,y_test)"
   ]
  },
  {
   "cell_type": "code",
   "execution_count": 27,
   "id": "c0d0dcc7",
   "metadata": {},
   "outputs": [],
   "source": [
    "from sklearn.metrics import r2_score,mean_squared_error"
   ]
  },
  {
   "cell_type": "code",
   "execution_count": 28,
   "id": "949d446e",
   "metadata": {},
   "outputs": [
    {
     "data": {
      "text/plain": [
       "0.12812774870828147"
      ]
     },
     "execution_count": 28,
     "metadata": {},
     "output_type": "execute_result"
    }
   ],
   "source": [
    "\n",
    "y_pred=sl_model.predict(X_test)\n",
    "r2_score(y_test,y_pred)"
   ]
  },
  {
   "cell_type": "code",
   "execution_count": 29,
   "id": "ea3bbe2e",
   "metadata": {},
   "outputs": [
    {
     "data": {
      "text/plain": [
       "array([  0.36846588,  -2.33612278,   9.21436856,  -2.15742439,\n",
       "         1.65400348,   5.36015275,   5.5796049 , -26.24377386,\n",
       "         2.44995248,  -8.43945427,  -0.60374625,   2.33419911,\n",
       "         3.38869729,   1.67736034, -10.51143741,   5.79261521,\n",
       "        12.18419393,   8.83774612,  -3.46126611,   0.16566345,\n",
       "         2.63943943, -12.33341987,   0.19406269,   6.82218132,\n",
       "         5.3778632 , -28.44027305,   1.08413831,  -0.34709916,\n",
       "         5.40708934,  -2.75529769,   3.48515477, -11.31115455,\n",
       "        -0.7906434 ,   4.66981248,  -1.25805136,   2.0546146 ,\n",
       "         2.22242352,   2.65382887,  -0.40125885, -19.23433306,\n",
       "       -22.7284033 ,  -3.67449056,   4.83769224,  -5.82434133,\n",
       "         5.55739521,   6.66579665,   5.95936626,   1.8826584 ,\n",
       "         5.7248215 ,  -3.46628792,   6.16258102,   2.69228246,\n",
       "         1.33432221,   1.85597054,  -2.55173858,   8.02838471,\n",
       "         5.21827538,  11.0574103 ,   6.68852667,   8.87635111,\n",
       "        -0.40779699,   3.94280172,  -6.94728948,   7.72639159,\n",
       "        -6.21546932,   5.51957557,  -7.50094905, -13.83539093,\n",
       "         0.46427233,   5.25889371,   7.20473651, -12.93523378,\n",
       "         3.99665784,   6.28759952,  -9.1415241 ,  -4.91948777,\n",
       "         5.17666889,  -5.00098048,   1.25604637,   7.08919941,\n",
       "        -6.42554911,   1.78487191,   7.29964649,   6.47067865,\n",
       "        -1.04766489,   1.86168679,  -5.0956258 ,   1.17759381,\n",
       "         6.39485042,  -4.62600707,   3.14793815, -26.57654143,\n",
       "         4.5286137 ,  -4.3191196 , -19.6371976 ,   0.16837159,\n",
       "         5.48762758,  -4.4102431 ,   3.48620091,  -9.87714432,\n",
       "       -21.92203802,   9.20714122,   8.40663349,   2.32715   ,\n",
       "         1.1658393 ,  -5.03033981,  -3.70426418,  -0.98342816,\n",
       "        -2.24043455,  -9.32820712,  -0.5806624 ,   4.28507844,\n",
       "         4.74731805,   7.7891252 ,   1.0400614 , -11.08897765,\n",
       "         3.92378982,   0.87395252,  -7.67967325,   6.07806388,\n",
       "         8.06719175,   2.89200009,   7.46981984,   4.36564175,\n",
       "         7.53992583,   0.92394871,   0.17819994])"
      ]
     },
     "execution_count": 29,
     "metadata": {},
     "output_type": "execute_result"
    }
   ],
   "source": [
    "y_pred-y_test"
   ]
  },
  {
   "cell_type": "code",
   "execution_count": 30,
   "id": "41c195f3",
   "metadata": {},
   "outputs": [],
   "source": [
    "import numpy as np"
   ]
  },
  {
   "cell_type": "code",
   "execution_count": 34,
   "id": "52bbe093",
   "metadata": {},
   "outputs": [
    {
     "data": {
      "text/plain": [
       "array([[ 24.06846588,  23.7       ],\n",
       "       [ 24.06387722,  26.4       ],\n",
       "       [ 22.61436856,  13.4       ],\n",
       "       [ 21.54257561,  23.7       ],\n",
       "       [ 22.45400348,  20.8       ],\n",
       "       [ 17.36015275,  12.        ],\n",
       "       [ 23.7796049 ,  18.2       ],\n",
       "       [-15.84377386,  10.4       ],\n",
       "       [ 21.54995248,  19.1       ],\n",
       "       [ 24.06054573,  32.5       ],\n",
       "       [ 24.09625375,  24.7       ],\n",
       "       [ 24.03419911,  21.7       ],\n",
       "       [ 24.08869729,  20.7       ],\n",
       "       [ 24.07736034,  22.4       ],\n",
       "       [ 24.08856259,  34.6       ],\n",
       "       [ 20.29261521,  14.5       ],\n",
       "       [ 24.08419393,  11.9       ],\n",
       "       [ 24.03774612,  15.2       ],\n",
       "       [ 24.03873389,  27.5       ],\n",
       "       [ 23.46566345,  23.3       ],\n",
       "       [ 19.73943943,  17.1       ],\n",
       "       [ 24.06658013,  36.4       ],\n",
       "       [ 24.09406269,  23.9       ],\n",
       "       [ 22.92218132,  16.1       ],\n",
       "       [ 24.0778632 ,  18.7       ],\n",
       "       [ 21.55972695,  50.        ],\n",
       "       [ 23.88413831,  22.8       ],\n",
       "       [ 23.95290084,  24.3       ],\n",
       "       [ 18.10708934,  12.7       ],\n",
       "       [ 23.94470231,  26.7       ],\n",
       "       [ 24.08515477,  20.6       ],\n",
       "       [ 24.08884545,  35.4       ],\n",
       "       [ 24.0093566 ,  24.8       ],\n",
       "       [ 12.96981248,   8.3       ],\n",
       "       [ 24.04194864,  25.3       ],\n",
       "       [ 24.0546146 ,  22.        ],\n",
       "       [ 23.92242352,  21.7       ],\n",
       "       [ 24.05382887,  21.4       ],\n",
       "       [ 24.09874115,  24.5       ],\n",
       "       [ 23.86566694,  43.1       ],\n",
       "       [ 23.9715967 ,  46.7       ],\n",
       "       [ 23.82550944,  27.5       ],\n",
       "       [ 24.03769224,  19.2       ],\n",
       "       [ 24.07565867,  29.9       ],\n",
       "       [ 23.95739521,  18.4       ],\n",
       "       [ 22.26579665,  15.6       ],\n",
       "       [ 23.95936626,  18.        ],\n",
       "       [ 24.0826584 ,  22.2       ],\n",
       "       [ 20.6248215 ,  14.9       ],\n",
       "       [ 23.53371208,  27.        ],\n",
       "       [ 23.96258102,  17.8       ],\n",
       "       [ 22.29228246,  19.6       ],\n",
       "       [ 21.93432221,  20.6       ],\n",
       "       [ 24.05597054,  22.2       ],\n",
       "       [ 24.04826142,  26.6       ],\n",
       "       [ 24.02838471,  16.        ],\n",
       "       [ 21.91827538,  16.7       ],\n",
       "       [ 22.8574103 ,  11.8       ],\n",
       "       [ 20.48852667,  13.8       ],\n",
       "       [ 23.67635111,  14.8       ],\n",
       "       [ 22.19220301,  22.6       ],\n",
       "       [ 24.04280172,  20.1       ],\n",
       "       [ 23.75271052,  30.7       ],\n",
       "       [ 20.72639159,  13.        ],\n",
       "       [ 24.08453068,  30.3       ],\n",
       "       [ 24.01957557,  18.5       ],\n",
       "       [ 24.09905095,  31.6       ],\n",
       "       [ 24.06460907,  37.9       ],\n",
       "       [ 24.06427233,  23.6       ],\n",
       "       [ 23.05889371,  17.8       ],\n",
       "       [ 24.00473651,  16.8       ],\n",
       "       [ 24.06476622,  37.        ],\n",
       "       [ 24.09665784,  20.1       ],\n",
       "       [ 15.08759952,   8.8       ],\n",
       "       [ 24.0584759 ,  33.2       ],\n",
       "       [ 24.08051223,  29.        ],\n",
       "       [ 24.07666889,  18.9       ],\n",
       "       [ 24.09901952,  29.1       ],\n",
       "       [ 22.45604637,  21.2       ],\n",
       "       [ 19.88919941,  12.8       ],\n",
       "       [ 24.07445089,  30.5       ],\n",
       "       [ 24.08487191,  22.3       ],\n",
       "       [ 21.59964649,  14.3       ],\n",
       "       [ 23.47067865,  17.        ],\n",
       "       [ 23.95233511,  25.        ],\n",
       "       [ 23.36168679,  21.5       ],\n",
       "       [ 23.9043742 ,  29.        ],\n",
       "       [ 24.07759381,  22.9       ],\n",
       "       [ 19.69485042,  13.3       ],\n",
       "       [ 24.07399293,  28.7       ],\n",
       "       [ 24.04793815,  20.9       ],\n",
       "       [ 23.42345857,  50.        ],\n",
       "       [ 24.0286137 ,  19.5       ],\n",
       "       [ 24.0808804 ,  28.4       ],\n",
       "       [ 23.8628024 ,  43.5       ],\n",
       "       [ 24.06837159,  23.9       ],\n",
       "       [ 19.58762758,  14.1       ],\n",
       "       [ 24.0897569 ,  28.5       ],\n",
       "       [ 24.08620091,  20.6       ],\n",
       "       [ 17.62285568,  27.5       ],\n",
       "       [ 24.07796198,  46.        ],\n",
       "       [ 18.90714122,   9.7       ],\n",
       "       [ 18.60663349,  10.2       ],\n",
       "       [ 24.02715   ,  21.7       ],\n",
       "       [ 24.0658393 ,  22.9       ],\n",
       "       [ 24.06966019,  29.1       ],\n",
       "       [  7.19573582,  10.9       ],\n",
       "       [ 24.01657184,  25.        ],\n",
       "       [ 15.65956545,  17.9       ],\n",
       "       [ 24.07179288,  33.4       ],\n",
       "       [ 24.0193376 ,  24.6       ],\n",
       "       [ 24.08507844,  19.8       ],\n",
       "       [ 22.44731805,  17.7       ],\n",
       "       [ 23.9891252 ,  16.2       ],\n",
       "       [ 22.8400614 ,  21.8       ],\n",
       "       [ 24.01102235,  35.1       ],\n",
       "       [ 23.82378982,  19.9       ],\n",
       "       [ 24.07395252,  23.2       ],\n",
       "       [ 23.92032675,  31.6       ],\n",
       "       [ 16.97806388,  10.9       ],\n",
       "       [ 23.66719175,  15.6       ],\n",
       "       [ 23.89200009,  21.        ],\n",
       "       [ 17.66981984,  10.2       ],\n",
       "       [ 24.06564175,  19.7       ],\n",
       "       [ 20.93992583,  13.4       ],\n",
       "       [ 24.02394871,  23.1       ],\n",
       "       [ 24.07819994,  23.9       ]])"
      ]
     },
     "execution_count": 34,
     "metadata": {},
     "output_type": "execute_result"
    }
   ],
   "source": [
    "np.hstack([y_pred.reshape(-1,1),y_test.reshape(-1,1)])"
   ]
  },
  {
   "cell_type": "code",
   "execution_count": 35,
   "id": "16add447",
   "metadata": {},
   "outputs": [],
   "source": [
    "import pandas as pd"
   ]
  },
  {
   "cell_type": "code",
   "execution_count": 36,
   "id": "6abfc1cf",
   "metadata": {},
   "outputs": [],
   "source": [
    "df=pd.DataFrame(\n",
    "    np.hstack([y_pred.reshape(-1,1),y_test.reshape(-1,1)]),\n",
    "    columns=[\"Predicted_price\",\"Actual_price\"])"
   ]
  },
  {
   "cell_type": "code",
   "execution_count": 37,
   "id": "c9d80c3c",
   "metadata": {},
   "outputs": [
    {
     "data": {
      "text/html": [
       "<div>\n",
       "<style scoped>\n",
       "    .dataframe tbody tr th:only-of-type {\n",
       "        vertical-align: middle;\n",
       "    }\n",
       "\n",
       "    .dataframe tbody tr th {\n",
       "        vertical-align: top;\n",
       "    }\n",
       "\n",
       "    .dataframe thead th {\n",
       "        text-align: right;\n",
       "    }\n",
       "</style>\n",
       "<table border=\"1\" class=\"dataframe\">\n",
       "  <thead>\n",
       "    <tr style=\"text-align: right;\">\n",
       "      <th></th>\n",
       "      <th>Predicted_price</th>\n",
       "      <th>Actual_price</th>\n",
       "    </tr>\n",
       "  </thead>\n",
       "  <tbody>\n",
       "    <tr>\n",
       "      <th>0</th>\n",
       "      <td>24.068466</td>\n",
       "      <td>23.7</td>\n",
       "    </tr>\n",
       "    <tr>\n",
       "      <th>1</th>\n",
       "      <td>24.063877</td>\n",
       "      <td>26.4</td>\n",
       "    </tr>\n",
       "    <tr>\n",
       "      <th>2</th>\n",
       "      <td>22.614369</td>\n",
       "      <td>13.4</td>\n",
       "    </tr>\n",
       "    <tr>\n",
       "      <th>3</th>\n",
       "      <td>21.542576</td>\n",
       "      <td>23.7</td>\n",
       "    </tr>\n",
       "    <tr>\n",
       "      <th>4</th>\n",
       "      <td>22.454003</td>\n",
       "      <td>20.8</td>\n",
       "    </tr>\n",
       "    <tr>\n",
       "      <th>...</th>\n",
       "      <td>...</td>\n",
       "      <td>...</td>\n",
       "    </tr>\n",
       "    <tr>\n",
       "      <th>122</th>\n",
       "      <td>17.669820</td>\n",
       "      <td>10.2</td>\n",
       "    </tr>\n",
       "    <tr>\n",
       "      <th>123</th>\n",
       "      <td>24.065642</td>\n",
       "      <td>19.7</td>\n",
       "    </tr>\n",
       "    <tr>\n",
       "      <th>124</th>\n",
       "      <td>20.939926</td>\n",
       "      <td>13.4</td>\n",
       "    </tr>\n",
       "    <tr>\n",
       "      <th>125</th>\n",
       "      <td>24.023949</td>\n",
       "      <td>23.1</td>\n",
       "    </tr>\n",
       "    <tr>\n",
       "      <th>126</th>\n",
       "      <td>24.078200</td>\n",
       "      <td>23.9</td>\n",
       "    </tr>\n",
       "  </tbody>\n",
       "</table>\n",
       "<p>127 rows × 2 columns</p>\n",
       "</div>"
      ],
      "text/plain": [
       "     Predicted_price  Actual_price\n",
       "0          24.068466          23.7\n",
       "1          24.063877          26.4\n",
       "2          22.614369          13.4\n",
       "3          21.542576          23.7\n",
       "4          22.454003          20.8\n",
       "..               ...           ...\n",
       "122        17.669820          10.2\n",
       "123        24.065642          19.7\n",
       "124        20.939926          13.4\n",
       "125        24.023949          23.1\n",
       "126        24.078200          23.9\n",
       "\n",
       "[127 rows x 2 columns]"
      ]
     },
     "execution_count": 37,
     "metadata": {},
     "output_type": "execute_result"
    }
   ],
   "source": [
    "df"
   ]
  },
  {
   "cell_type": "code",
   "execution_count": 38,
   "id": "1338c1e5",
   "metadata": {},
   "outputs": [],
   "source": [
    "df[\"error\"]=df.Actual_price-df.Predicted_price"
   ]
  },
  {
   "cell_type": "code",
   "execution_count": 39,
   "id": "90c286f2",
   "metadata": {},
   "outputs": [
    {
     "data": {
      "text/html": [
       "<div>\n",
       "<style scoped>\n",
       "    .dataframe tbody tr th:only-of-type {\n",
       "        vertical-align: middle;\n",
       "    }\n",
       "\n",
       "    .dataframe tbody tr th {\n",
       "        vertical-align: top;\n",
       "    }\n",
       "\n",
       "    .dataframe thead th {\n",
       "        text-align: right;\n",
       "    }\n",
       "</style>\n",
       "<table border=\"1\" class=\"dataframe\">\n",
       "  <thead>\n",
       "    <tr style=\"text-align: right;\">\n",
       "      <th></th>\n",
       "      <th>Predicted_price</th>\n",
       "      <th>Actual_price</th>\n",
       "      <th>error</th>\n",
       "    </tr>\n",
       "  </thead>\n",
       "  <tbody>\n",
       "    <tr>\n",
       "      <th>0</th>\n",
       "      <td>24.068466</td>\n",
       "      <td>23.7</td>\n",
       "      <td>-0.368466</td>\n",
       "    </tr>\n",
       "    <tr>\n",
       "      <th>1</th>\n",
       "      <td>24.063877</td>\n",
       "      <td>26.4</td>\n",
       "      <td>2.336123</td>\n",
       "    </tr>\n",
       "    <tr>\n",
       "      <th>2</th>\n",
       "      <td>22.614369</td>\n",
       "      <td>13.4</td>\n",
       "      <td>-9.214369</td>\n",
       "    </tr>\n",
       "    <tr>\n",
       "      <th>3</th>\n",
       "      <td>21.542576</td>\n",
       "      <td>23.7</td>\n",
       "      <td>2.157424</td>\n",
       "    </tr>\n",
       "    <tr>\n",
       "      <th>4</th>\n",
       "      <td>22.454003</td>\n",
       "      <td>20.8</td>\n",
       "      <td>-1.654003</td>\n",
       "    </tr>\n",
       "    <tr>\n",
       "      <th>...</th>\n",
       "      <td>...</td>\n",
       "      <td>...</td>\n",
       "      <td>...</td>\n",
       "    </tr>\n",
       "    <tr>\n",
       "      <th>122</th>\n",
       "      <td>17.669820</td>\n",
       "      <td>10.2</td>\n",
       "      <td>-7.469820</td>\n",
       "    </tr>\n",
       "    <tr>\n",
       "      <th>123</th>\n",
       "      <td>24.065642</td>\n",
       "      <td>19.7</td>\n",
       "      <td>-4.365642</td>\n",
       "    </tr>\n",
       "    <tr>\n",
       "      <th>124</th>\n",
       "      <td>20.939926</td>\n",
       "      <td>13.4</td>\n",
       "      <td>-7.539926</td>\n",
       "    </tr>\n",
       "    <tr>\n",
       "      <th>125</th>\n",
       "      <td>24.023949</td>\n",
       "      <td>23.1</td>\n",
       "      <td>-0.923949</td>\n",
       "    </tr>\n",
       "    <tr>\n",
       "      <th>126</th>\n",
       "      <td>24.078200</td>\n",
       "      <td>23.9</td>\n",
       "      <td>-0.178200</td>\n",
       "    </tr>\n",
       "  </tbody>\n",
       "</table>\n",
       "<p>127 rows × 3 columns</p>\n",
       "</div>"
      ],
      "text/plain": [
       "     Predicted_price  Actual_price     error\n",
       "0          24.068466          23.7 -0.368466\n",
       "1          24.063877          26.4  2.336123\n",
       "2          22.614369          13.4 -9.214369\n",
       "3          21.542576          23.7  2.157424\n",
       "4          22.454003          20.8 -1.654003\n",
       "..               ...           ...       ...\n",
       "122        17.669820          10.2 -7.469820\n",
       "123        24.065642          19.7 -4.365642\n",
       "124        20.939926          13.4 -7.539926\n",
       "125        24.023949          23.1 -0.923949\n",
       "126        24.078200          23.9 -0.178200\n",
       "\n",
       "[127 rows x 3 columns]"
      ]
     },
     "execution_count": 39,
     "metadata": {},
     "output_type": "execute_result"
    }
   ],
   "source": [
    "df"
   ]
  },
  {
   "cell_type": "code",
   "execution_count": 42,
   "id": "2bf6e097",
   "metadata": {},
   "outputs": [
    {
     "data": {
      "text/plain": [
       "62.259380667851104"
      ]
     },
     "execution_count": 42,
     "metadata": {},
     "output_type": "execute_result"
    }
   ],
   "source": [
    "(df.error**2/df.shape[0]).sum()"
   ]
  },
  {
   "cell_type": "code",
   "execution_count": 40,
   "id": "41b43ad5",
   "metadata": {},
   "outputs": [
    {
     "data": {
      "text/plain": [
       "(127, 3)"
      ]
     },
     "execution_count": 40,
     "metadata": {},
     "output_type": "execute_result"
    }
   ],
   "source": [
    "df.shape"
   ]
  },
  {
   "cell_type": "code",
   "execution_count": 44,
   "id": "b3c6e453",
   "metadata": {},
   "outputs": [
    {
     "data": {
      "text/plain": [
       "62.25938066785113"
      ]
     },
     "execution_count": 44,
     "metadata": {},
     "output_type": "execute_result"
    }
   ],
   "source": [
    "(df.error**2).sum()/df.shape[0]"
   ]
  },
  {
   "cell_type": "code",
   "execution_count": 45,
   "id": "8f64b601",
   "metadata": {},
   "outputs": [
    {
     "data": {
      "text/plain": [
       "62.25938066785113"
      ]
     },
     "execution_count": 45,
     "metadata": {},
     "output_type": "execute_result"
    }
   ],
   "source": [
    "mean_squared_error(y_test,y_pred)"
   ]
  },
  {
   "cell_type": "markdown",
   "id": "db90c450",
   "metadata": {},
   "source": [
    "# Multiple Linear Regression"
   ]
  },
  {
   "cell_type": "code",
   "execution_count": 46,
   "id": "76509b3a",
   "metadata": {},
   "outputs": [
    {
     "data": {
      "text/plain": [
       "array(['CRIM', 'ZN', 'INDUS', 'CHAS', 'NOX', 'RM', 'AGE', 'DIS', 'RAD',\n",
       "       'TAX', 'PTRATIO', 'B', 'LSTAT'], dtype='<U7')"
      ]
     },
     "execution_count": 46,
     "metadata": {},
     "output_type": "execute_result"
    }
   ],
   "source": [
    "bunch.feature_names"
   ]
  },
  {
   "cell_type": "code",
   "execution_count": 47,
   "id": "9ff7ccfe",
   "metadata": {},
   "outputs": [],
   "source": [
    "X_crim_rm=X[:,[0,5]]"
   ]
  },
  {
   "cell_type": "code",
   "execution_count": 48,
   "id": "829b997d",
   "metadata": {},
   "outputs": [
    {
     "data": {
      "text/plain": [
       "(506, 2)"
      ]
     },
     "execution_count": 48,
     "metadata": {},
     "output_type": "execute_result"
    }
   ],
   "source": [
    "X_crim_rm.shape"
   ]
  },
  {
   "cell_type": "code",
   "execution_count": 51,
   "id": "21c6292e",
   "metadata": {},
   "outputs": [
    {
     "name": "stdout",
     "output_type": "stream",
     "text": [
      "Score: 54.36532951448652\n",
      "MSE: 38.592662792325505\n",
      "[-0.25834246  8.44642499]\n",
      "-29.46732760939827\n"
     ]
    }
   ],
   "source": [
    "ml_model =LinearRegression()\n",
    "X_train,X_test,y_train,y_test=train_test_split(X_crim_rm,y)\n",
    "ml_model.fit(X_train,y_train)\n",
    "y_pred=ml_model.predict(X_test)\n",
    "score = r2_score(y_test,y_pred)\n",
    "mse=mean_squared_error(y_test,y_pred)\n",
    "print(f\"Score: {score*100}\\nMSE: {mse}\")\n",
    "print(ml_model.coef_)\n",
    "print(ml_model.intercept_)\n"
   ]
  },
  {
   "cell_type": "code",
   "execution_count": 56,
   "id": "18f01dba",
   "metadata": {},
   "outputs": [
    {
     "data": {
      "text/plain": [
       "array([0.06588, 7.765  ])"
      ]
     },
     "execution_count": 56,
     "metadata": {},
     "output_type": "execute_result"
    }
   ],
   "source": [
    "X_test[0]"
   ]
  },
  {
   "cell_type": "code",
   "execution_count": 53,
   "id": "206b6c64",
   "metadata": {},
   "outputs": [
    {
     "data": {
      "text/plain": [
       "36.102142847233125"
      ]
     },
     "execution_count": 53,
     "metadata": {},
     "output_type": "execute_result"
    }
   ],
   "source": [
    "y_pred[0]"
   ]
  },
  {
   "cell_type": "code",
   "execution_count": 57,
   "id": "5d18d782",
   "metadata": {},
   "outputs": [
    {
     "data": {
      "text/plain": [
       "36.10619296"
      ]
     },
     "execution_count": 57,
     "metadata": {},
     "output_type": "execute_result"
    }
   ],
   "source": [
    "-29.46-(0.258*X_test[0][0])+(8.446*X_test[0][1])"
   ]
  },
  {
   "cell_type": "code",
   "execution_count": null,
   "id": "8df61a30",
   "metadata": {},
   "outputs": [],
   "source": []
  },
  {
   "cell_type": "code",
   "execution_count": null,
   "id": "33f41832",
   "metadata": {},
   "outputs": [],
   "source": []
  },
  {
   "cell_type": "code",
   "execution_count": 58,
   "id": "2a8f755b",
   "metadata": {},
   "outputs": [],
   "source": [
    "def get_linear_model(X,y):\n",
    "    ml_model =LinearRegression()\n",
    "    X_train,X_test,y_train,y_test=train_test_split(X,y)\n",
    "    ml_model.fit(X_train,y_train)\n",
    "    y_pred=ml_model.predict(X_test)\n",
    "    score = r2_score(y_test,y_pred)\n",
    "    mse=mean_squared_error(y_test,y_pred)\n",
    "    print(f\"Score: {score*100}\\nMSE: {mse}\")\n",
    "    print(ml_model.coef_)\n",
    "    print(ml_model.intercept_)\n",
    "\n",
    "    "
   ]
  },
  {
   "cell_type": "code",
   "execution_count": 59,
   "id": "1c2ad619",
   "metadata": {},
   "outputs": [
    {
     "name": "stdout",
     "output_type": "stream",
     "text": [
      "Score: 45.340537705450366\n",
      "MSE: 50.6794855162529\n",
      "[-0.30210796  8.10010695]\n",
      "-27.495270037939736\n"
     ]
    }
   ],
   "source": [
    "get_linear_model(X_crim_rm,y)"
   ]
  },
  {
   "cell_type": "code",
   "execution_count": 60,
   "id": "4899adc5",
   "metadata": {},
   "outputs": [
    {
     "name": "stdout",
     "output_type": "stream",
     "text": [
      "Score: 63.1001410226887\n",
      "MSE: 30.583049240582888\n",
      "[-0.24117187  0.05286683  7.33685571]\n",
      "-23.24761532617828\n"
     ]
    }
   ],
   "source": [
    "get_linear_model(X[:,[0,1,5]],y)"
   ]
  },
  {
   "cell_type": "code",
   "execution_count": null,
   "id": "49f71fbc",
   "metadata": {},
   "outputs": [],
   "source": []
  }
 ],
 "metadata": {
  "kernelspec": {
   "display_name": "Python 3 (ipykernel)",
   "language": "python",
   "name": "python3"
  },
  "language_info": {
   "codemirror_mode": {
    "name": "ipython",
    "version": 3
   },
   "file_extension": ".py",
   "mimetype": "text/x-python",
   "name": "python",
   "nbconvert_exporter": "python",
   "pygments_lexer": "ipython3",
   "version": "3.9.7"
  }
 },
 "nbformat": 4,
 "nbformat_minor": 5
}
