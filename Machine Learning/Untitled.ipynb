{
 "cells": [
  {
   "cell_type": "code",
   "execution_count": 16,
   "id": "97123ff0",
   "metadata": {},
   "outputs": [
    {
     "ename": "ImportError",
     "evalue": "cannot import name 'product_of_lists' from 'sum_functions' (/Users/georgebsmith/Desktop/Data-Pack-2024/Machine Learning/sum_functions.py)",
     "output_type": "error",
     "traceback": [
      "\u001b[0;31m---------------------------------------------------------------------------\u001b[0m",
      "\u001b[0;31mImportError\u001b[0m                               Traceback (most recent call last)",
      "\u001b[0;32m/var/folders/3d/pkg6m4_x11s9hw4jt5sb8zp00000gn/T/ipykernel_46293/1239295423.py\u001b[0m in \u001b[0;36m<module>\u001b[0;34m\u001b[0m\n\u001b[0;32m----> 1\u001b[0;31m \u001b[0;32mfrom\u001b[0m  \u001b[0msum_functions\u001b[0m \u001b[0;32mimport\u001b[0m \u001b[0msum_list\u001b[0m\u001b[0;34m,\u001b[0m\u001b[0msum_lists\u001b[0m\u001b[0;34m,\u001b[0m\u001b[0mget_list_of_squares\u001b[0m\u001b[0;34m,\u001b[0m\u001b[0mproduct_of_lists\u001b[0m\u001b[0;34m\u001b[0m\u001b[0;34m\u001b[0m\u001b[0m\n\u001b[0m",
      "\u001b[0;31mImportError\u001b[0m: cannot import name 'product_of_lists' from 'sum_functions' (/Users/georgebsmith/Desktop/Data-Pack-2024/Machine Learning/sum_functions.py)"
     ]
    }
   ],
   "source": [
    "from  sum_functions import sum_list,sum_lists,get_list_of_squares,product_of_lists"
   ]
  },
  {
   "cell_type": "code",
   "execution_count": 7,
   "id": "270deb17",
   "metadata": {},
   "outputs": [],
   "source": [
    "x=[20,17,30,35,40]\n",
    "y=[65,50,90,80,64]\n",
    "sum_of_x=sum_list(x)\n",
    "sum_of_y=sum_list(y)"
   ]
  },
  {
   "cell_type": "code",
   "execution_count": 6,
   "id": "0044dc69",
   "metadata": {},
   "outputs": [
    {
     "data": {
      "text/plain": [
       "142"
      ]
     },
     "execution_count": 6,
     "metadata": {},
     "output_type": "execute_result"
    }
   ],
   "source": [
    "sum_of_x"
   ]
  },
  {
   "cell_type": "code",
   "execution_count": 8,
   "id": "49d283a4",
   "metadata": {},
   "outputs": [
    {
     "data": {
      "text/plain": [
       "349"
      ]
     },
     "execution_count": 8,
     "metadata": {},
     "output_type": "execute_result"
    }
   ],
   "source": [
    "sum_of_y"
   ]
  },
  {
   "cell_type": "code",
   "execution_count": 9,
   "id": "2bd2ef06",
   "metadata": {},
   "outputs": [
    {
     "ename": "TypeError",
     "evalue": "get_list_of_squares() takes 1 positional argument but 2 were given",
     "output_type": "error",
     "traceback": [
      "\u001b[0;31m---------------------------------------------------------------------------\u001b[0m",
      "\u001b[0;31mTypeError\u001b[0m                                 Traceback (most recent call last)",
      "\u001b[0;32m/var/folders/3d/pkg6m4_x11s9hw4jt5sb8zp00000gn/T/ipykernel_46293/2205628779.py\u001b[0m in \u001b[0;36m<module>\u001b[0;34m\u001b[0m\n\u001b[0;32m----> 1\u001b[0;31m \u001b[0mget_list_of_squares\u001b[0m\u001b[0;34m(\u001b[0m\u001b[0mx\u001b[0m\u001b[0;34m,\u001b[0m\u001b[0my\u001b[0m\u001b[0;34m)\u001b[0m\u001b[0;34m\u001b[0m\u001b[0;34m\u001b[0m\u001b[0m\n\u001b[0m",
      "\u001b[0;31mTypeError\u001b[0m: get_list_of_squares() takes 1 positional argument but 2 were given"
     ]
    }
   ],
   "source": [
    "get_list_of_squares(x,y)"
   ]
  },
  {
   "cell_type": "code",
   "execution_count": null,
   "id": "5708bf08",
   "metadata": {},
   "outputs": [],
   "source": []
  }
 ],
 "metadata": {
  "kernelspec": {
   "display_name": "Python 3 (ipykernel)",
   "language": "python",
   "name": "python3"
  },
  "language_info": {
   "codemirror_mode": {
    "name": "ipython",
    "version": 3
   },
   "file_extension": ".py",
   "mimetype": "text/x-python",
   "name": "python",
   "nbconvert_exporter": "python",
   "pygments_lexer": "ipython3",
   "version": "3.9.7"
  }
 },
 "nbformat": 4,
 "nbformat_minor": 5
}
