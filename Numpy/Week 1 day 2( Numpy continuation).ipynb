{
 "cells": [
  {
   "cell_type": "code",
   "execution_count": 1,
   "id": "7248fa23",
   "metadata": {},
   "outputs": [],
   "source": [
    "import numpy as np\n",
    "ages = np.random.randint(16,90,6)"
   ]
  },
  {
   "cell_type": "code",
   "execution_count": 2,
   "id": "a40a2db7",
   "metadata": {},
   "outputs": [
    {
     "data": {
      "text/plain": [
       "array([60, 59, 19, 32, 75, 57])"
      ]
     },
     "execution_count": 2,
     "metadata": {},
     "output_type": "execute_result"
    }
   ],
   "source": [
    "ages"
   ]
  },
  {
   "cell_type": "code",
   "execution_count": 3,
   "id": "4b4fe663",
   "metadata": {},
   "outputs": [],
   "source": [
    "mean = ages.mean()"
   ]
  },
  {
   "cell_type": "code",
   "execution_count": 4,
   "id": "79921925",
   "metadata": {},
   "outputs": [
    {
     "data": {
      "text/plain": [
       "50.333333333333336"
      ]
     },
     "execution_count": 4,
     "metadata": {},
     "output_type": "execute_result"
    }
   ],
   "source": [
    "mean"
   ]
  },
  {
   "cell_type": "code",
   "execution_count": 5,
   "id": "e7f95da4",
   "metadata": {},
   "outputs": [],
   "source": [
    "age_more_than_mean= ages>mean"
   ]
  },
  {
   "cell_type": "code",
   "execution_count": 6,
   "id": "b452ba62",
   "metadata": {},
   "outputs": [
    {
     "data": {
      "text/plain": [
       "array([ True,  True, False, False,  True,  True])"
      ]
     },
     "execution_count": 6,
     "metadata": {},
     "output_type": "execute_result"
    }
   ],
   "source": [
    "age_more_than_mean"
   ]
  },
  {
   "cell_type": "code",
   "execution_count": 7,
   "id": "1d7c4d18",
   "metadata": {},
   "outputs": [
    {
     "data": {
      "text/plain": [
       "array([60, 59, 75, 57])"
      ]
     },
     "execution_count": 7,
     "metadata": {},
     "output_type": "execute_result"
    }
   ],
   "source": [
    "ages[age_more_than_mean]"
   ]
  },
  {
   "cell_type": "code",
   "execution_count": 8,
   "id": "df65bab6",
   "metadata": {},
   "outputs": [
    {
     "name": "stdout",
     "output_type": "stream",
     "text": [
      "[4, 16, 25, 36, 49, 25]\n"
     ]
    }
   ],
   "source": [
    "h=[2,4,5,6,7,5]\n",
    "squares =[]\n",
    "for x in h:\n",
    "    squares.append(x**2)\n",
    "print(squares)"
   ]
  },
  {
   "cell_type": "code",
   "execution_count": 9,
   "id": "de389b5c",
   "metadata": {},
   "outputs": [
    {
     "data": {
      "text/plain": [
       "[4, 16, 25, 36, 49, 25]"
      ]
     },
     "execution_count": 9,
     "metadata": {},
     "output_type": "execute_result"
    }
   ],
   "source": [
    "[y**2 for y in h]"
   ]
  },
  {
   "cell_type": "code",
   "execution_count": 12,
   "id": "12c8834d",
   "metadata": {},
   "outputs": [],
   "source": [
    "my_max=ages.max()"
   ]
  },
  {
   "cell_type": "code",
   "execution_count": 13,
   "id": "3e68968c",
   "metadata": {},
   "outputs": [],
   "source": [
    "my_min=ages.min()"
   ]
  },
  {
   "cell_type": "code",
   "execution_count": 20,
   "id": "91bdb482",
   "metadata": {},
   "outputs": [
    {
     "data": {
      "text/plain": [
       "array([ True,  True, False,  True,  True,  True])"
      ]
     },
     "execution_count": 20,
     "metadata": {},
     "output_type": "execute_result"
    }
   ],
   "source": [
    "ages>my_min"
   ]
  },
  {
   "cell_type": "code",
   "execution_count": 21,
   "id": "ae9c8e09",
   "metadata": {},
   "outputs": [
    {
     "data": {
      "text/plain": [
       "array([ True,  True,  True,  True, False,  True])"
      ]
     },
     "execution_count": 21,
     "metadata": {},
     "output_type": "execute_result"
    }
   ],
   "source": [
    "ages<my_max"
   ]
  },
  {
   "cell_type": "code",
   "execution_count": 22,
   "id": "91fa2351",
   "metadata": {},
   "outputs": [
    {
     "ename": "ValueError",
     "evalue": "The truth value of an array with more than one element is ambiguous. Use a.any() or a.all()",
     "output_type": "error",
     "traceback": [
      "\u001b[0;31m---------------------------------------------------------------------------\u001b[0m",
      "\u001b[0;31mValueError\u001b[0m                                Traceback (most recent call last)",
      "\u001b[0;32m/var/folders/3d/pkg6m4_x11s9hw4jt5sb8zp00000gn/T/ipykernel_16038/2424774906.py\u001b[0m in \u001b[0;36m<module>\u001b[0;34m\u001b[0m\n\u001b[0;32m----> 1\u001b[0;31m \u001b[0mages\u001b[0m\u001b[0;34m>\u001b[0m\u001b[0mmy_min\u001b[0m\u001b[0;34m==\u001b[0m\u001b[0mages\u001b[0m\u001b[0;34m<\u001b[0m\u001b[0mmy_max\u001b[0m\u001b[0;34m\u001b[0m\u001b[0;34m\u001b[0m\u001b[0m\n\u001b[0m",
      "\u001b[0;31mValueError\u001b[0m: The truth value of an array with more than one element is ambiguous. Use a.any() or a.all()"
     ]
    }
   ],
   "source": [
    "# ages>my_min==ages<my_max"
   ]
  },
  {
   "cell_type": "code",
   "execution_count": 23,
   "id": "557fb28e",
   "metadata": {},
   "outputs": [
    {
     "data": {
      "text/plain": [
       "array([60, 59, 19, 32, 75, 57])"
      ]
     },
     "execution_count": 23,
     "metadata": {},
     "output_type": "execute_result"
    }
   ],
   "source": [
    "ages"
   ]
  },
  {
   "cell_type": "code",
   "execution_count": 24,
   "id": "4800ba4d",
   "metadata": {},
   "outputs": [
    {
     "data": {
      "text/plain": [
       "array([ True,  True, False, False,  True,  True])"
      ]
     },
     "execution_count": 24,
     "metadata": {},
     "output_type": "execute_result"
    }
   ],
   "source": [
    "ages>34"
   ]
  },
  {
   "cell_type": "code",
   "execution_count": 32,
   "id": "b2164664",
   "metadata": {},
   "outputs": [
    {
     "data": {
      "text/plain": [
       "array([60, 59, 75, 57])"
      ]
     },
     "execution_count": 32,
     "metadata": {},
     "output_type": "execute_result"
    }
   ],
   "source": [
    "ages[ages>34]"
   ]
  },
  {
   "cell_type": "code",
   "execution_count": 36,
   "id": "963ebcb0",
   "metadata": {},
   "outputs": [
    {
     "data": {
      "text/plain": [
       "array([19, 32])"
      ]
     },
     "execution_count": 36,
     "metadata": {},
     "output_type": "execute_result"
    }
   ],
   "source": [
    "ages[ages<=34]"
   ]
  },
  {
   "cell_type": "code",
   "execution_count": 37,
   "id": "c905f515",
   "metadata": {},
   "outputs": [],
   "source": [
    "scores=np.random.randint(0,100,(5,3))"
   ]
  },
  {
   "cell_type": "code",
   "execution_count": 38,
   "id": "dbe8bd35",
   "metadata": {},
   "outputs": [
    {
     "data": {
      "text/plain": [
       "array([[49, 20, 80],\n",
       "       [27, 17, 51],\n",
       "       [46, 49, 79],\n",
       "       [66, 65, 19],\n",
       "       [53, 34, 35]])"
      ]
     },
     "execution_count": 38,
     "metadata": {},
     "output_type": "execute_result"
    }
   ],
   "source": [
    "scores"
   ]
  },
  {
   "cell_type": "code",
   "execution_count": 39,
   "id": "619f0f93",
   "metadata": {},
   "outputs": [
    {
     "name": "stdout",
     "output_type": "stream",
     "text": [
      "6\n",
      "8\n",
      "12\n"
     ]
    }
   ],
   "source": [
    "ages_new =[]\n",
    "for i in range(3):\n",
    "    value=int(input(\"\"))\n",
    "    ages_new.append(value)\n",
    "ages_np=np.array(ages_new)"
   ]
  },
  {
   "cell_type": "code",
   "execution_count": 40,
   "id": "c28d498d",
   "metadata": {},
   "outputs": [
    {
     "data": {
      "text/plain": [
       "array([ 6,  8, 12])"
      ]
     },
     "execution_count": 40,
     "metadata": {},
     "output_type": "execute_result"
    }
   ],
   "source": [
    "ages_np"
   ]
  },
  {
   "cell_type": "code",
   "execution_count": 41,
   "id": "4f8a96d3",
   "metadata": {},
   "outputs": [
    {
     "data": {
      "text/plain": [
       "46.0"
      ]
     },
     "execution_count": 41,
     "metadata": {},
     "output_type": "execute_result"
    }
   ],
   "source": [
    "scores.mean()"
   ]
  },
  {
   "cell_type": "code",
   "execution_count": 42,
   "id": "9d7ee41f",
   "metadata": {},
   "outputs": [
    {
     "data": {
      "text/plain": [
       "17"
      ]
     },
     "execution_count": 42,
     "metadata": {},
     "output_type": "execute_result"
    }
   ],
   "source": [
    "scores.min()"
   ]
  },
  {
   "cell_type": "code",
   "execution_count": 43,
   "id": "47f0e27d",
   "metadata": {},
   "outputs": [
    {
     "data": {
      "text/plain": [
       "80"
      ]
     },
     "execution_count": 43,
     "metadata": {},
     "output_type": "execute_result"
    }
   ],
   "source": [
    "scores.max()"
   ]
  },
  {
   "cell_type": "code",
   "execution_count": 44,
   "id": "ec5f2dd4",
   "metadata": {},
   "outputs": [
    {
     "data": {
      "text/plain": [
       "398.0"
      ]
     },
     "execution_count": 44,
     "metadata": {},
     "output_type": "execute_result"
    }
   ],
   "source": [
    "scores.var()"
   ]
  },
  {
   "cell_type": "code",
   "execution_count": 45,
   "id": "edd7d18d",
   "metadata": {},
   "outputs": [
    {
     "data": {
      "text/plain": [
       "array([[49, 20, 80],\n",
       "       [27, 17, 51],\n",
       "       [46, 49, 79],\n",
       "       [66, 65, 19],\n",
       "       [53, 34, 35]])"
      ]
     },
     "execution_count": 45,
     "metadata": {},
     "output_type": "execute_result"
    }
   ],
   "source": [
    "scores"
   ]
  },
  {
   "cell_type": "code",
   "execution_count": 46,
   "id": "3a1102a0",
   "metadata": {},
   "outputs": [
    {
     "data": {
      "text/plain": [
       "19.949937343260004"
      ]
     },
     "execution_count": 46,
     "metadata": {},
     "output_type": "execute_result"
    }
   ],
   "source": [
    "scores.std()"
   ]
  },
  {
   "cell_type": "code",
   "execution_count": 47,
   "id": "22798856",
   "metadata": {},
   "outputs": [
    {
     "data": {
      "text/plain": [
       "46.0"
      ]
     },
     "execution_count": 47,
     "metadata": {},
     "output_type": "execute_result"
    }
   ],
   "source": [
    "scores.mean()"
   ]
  },
  {
   "cell_type": "code",
   "execution_count": 48,
   "id": "234cc755",
   "metadata": {},
   "outputs": [
    {
     "data": {
      "text/plain": [
       "array([48.2, 37. , 52.8])"
      ]
     },
     "execution_count": 48,
     "metadata": {},
     "output_type": "execute_result"
    }
   ],
   "source": [
    "scores.mean(axis=0)"
   ]
  },
  {
   "cell_type": "code",
   "execution_count": 50,
   "id": "f4efc97b",
   "metadata": {},
   "outputs": [
    {
     "data": {
      "text/plain": [
       "array([20, 17, 46, 19, 34])"
      ]
     },
     "execution_count": 50,
     "metadata": {},
     "output_type": "execute_result"
    }
   ],
   "source": [
    "scores.min(axis=1)"
   ]
  },
  {
   "cell_type": "code",
   "execution_count": 51,
   "id": "f680290d",
   "metadata": {},
   "outputs": [
    {
     "data": {
      "text/plain": [
       "array([60, 59, 19, 32, 75, 57])"
      ]
     },
     "execution_count": 51,
     "metadata": {},
     "output_type": "execute_result"
    }
   ],
   "source": [
    "ages"
   ]
  },
  {
   "cell_type": "code",
   "execution_count": 52,
   "id": "f71f8389",
   "metadata": {},
   "outputs": [
    {
     "data": {
      "text/plain": [
       "60"
      ]
     },
     "execution_count": 52,
     "metadata": {},
     "output_type": "execute_result"
    }
   ],
   "source": [
    "ages[0]"
   ]
  },
  {
   "cell_type": "code",
   "execution_count": 53,
   "id": "dd1a1a96",
   "metadata": {},
   "outputs": [
    {
     "data": {
      "text/plain": [
       "57"
      ]
     },
     "execution_count": 53,
     "metadata": {},
     "output_type": "execute_result"
    }
   ],
   "source": [
    "ages[-1]"
   ]
  },
  {
   "cell_type": "code",
   "execution_count": 55,
   "id": "02c5e0d0",
   "metadata": {},
   "outputs": [
    {
     "data": {
      "text/plain": [
       "2"
      ]
     },
     "execution_count": 55,
     "metadata": {},
     "output_type": "execute_result"
    }
   ],
   "source": [
    "ages.argmin()"
   ]
  },
  {
   "cell_type": "code",
   "execution_count": 56,
   "id": "180708f0",
   "metadata": {},
   "outputs": [
    {
     "data": {
      "text/plain": [
       "array([60, 59, 19, 32, 75, 57])"
      ]
     },
     "execution_count": 56,
     "metadata": {},
     "output_type": "execute_result"
    }
   ],
   "source": [
    "ages"
   ]
  },
  {
   "cell_type": "code",
   "execution_count": 57,
   "id": "dd2faa56",
   "metadata": {},
   "outputs": [
    {
     "data": {
      "text/plain": [
       "array([[49, 20, 80],\n",
       "       [27, 17, 51],\n",
       "       [46, 49, 79],\n",
       "       [66, 65, 19],\n",
       "       [53, 34, 35]])"
      ]
     },
     "execution_count": 57,
     "metadata": {},
     "output_type": "execute_result"
    }
   ],
   "source": [
    "scores"
   ]
  },
  {
   "cell_type": "code",
   "execution_count": 59,
   "id": "5e1a7747",
   "metadata": {},
   "outputs": [
    {
     "data": {
      "text/plain": [
       "array([27, 17, 51])"
      ]
     },
     "execution_count": 59,
     "metadata": {},
     "output_type": "execute_result"
    }
   ],
   "source": [
    "scores[1]"
   ]
  },
  {
   "cell_type": "code",
   "execution_count": 60,
   "id": "05b605ee",
   "metadata": {},
   "outputs": [
    {
     "data": {
      "text/plain": [
       "17"
      ]
     },
     "execution_count": 60,
     "metadata": {},
     "output_type": "execute_result"
    }
   ],
   "source": [
    "scores[1][1]"
   ]
  },
  {
   "cell_type": "code",
   "execution_count": 61,
   "id": "28c442bd",
   "metadata": {},
   "outputs": [
    {
     "data": {
      "text/plain": [
       "19"
      ]
     },
     "execution_count": 61,
     "metadata": {},
     "output_type": "execute_result"
    }
   ],
   "source": [
    "scores[3][2]"
   ]
  },
  {
   "cell_type": "code",
   "execution_count": 62,
   "id": "7322628e",
   "metadata": {},
   "outputs": [
    {
     "data": {
      "text/plain": [
       "19"
      ]
     },
     "execution_count": 62,
     "metadata": {},
     "output_type": "execute_result"
    }
   ],
   "source": [
    "scores[3,2]"
   ]
  },
  {
   "cell_type": "code",
   "execution_count": 63,
   "id": "3ed1f826",
   "metadata": {},
   "outputs": [
    {
     "data": {
      "text/plain": [
       "17"
      ]
     },
     "execution_count": 63,
     "metadata": {},
     "output_type": "execute_result"
    }
   ],
   "source": [
    "scores[1,1]"
   ]
  },
  {
   "cell_type": "code",
   "execution_count": 64,
   "id": "b1692683",
   "metadata": {},
   "outputs": [],
   "source": [
    "a=[[2,3],[4,5],[5,4]]"
   ]
  },
  {
   "cell_type": "code",
   "execution_count": 65,
   "id": "bc126538",
   "metadata": {},
   "outputs": [
    {
     "data": {
      "text/plain": [
       "[[2, 3], [4, 5], [5, 4]]"
      ]
     },
     "execution_count": 65,
     "metadata": {},
     "output_type": "execute_result"
    }
   ],
   "source": [
    "a"
   ]
  },
  {
   "cell_type": "code",
   "execution_count": 66,
   "id": "56864ce3",
   "metadata": {},
   "outputs": [
    {
     "name": "stdout",
     "output_type": "stream",
     "text": [
      "[[2, 3], [4, 5], [5, 4]]\n"
     ]
    }
   ],
   "source": [
    "print(a)"
   ]
  },
  {
   "cell_type": "code",
   "execution_count": 70,
   "id": "98bd3776",
   "metadata": {},
   "outputs": [
    {
     "name": "stdout",
     "output_type": "stream",
     "text": [
      "[2, 3]\n",
      "[4, 5]\n",
      "[5, 4]\n"
     ]
    }
   ],
   "source": [
    "print(*a,sep=\"\\n\")"
   ]
  },
  {
   "cell_type": "code",
   "execution_count": 71,
   "id": "5e28ae19",
   "metadata": {},
   "outputs": [
    {
     "name": "stdout",
     "output_type": "stream",
     "text": [
      "[2, 3, 5]\n"
     ]
    }
   ],
   "source": [
    "print([2,3,5])"
   ]
  },
  {
   "cell_type": "code",
   "execution_count": 73,
   "id": "844cac91",
   "metadata": {},
   "outputs": [
    {
     "name": "stdout",
     "output_type": "stream",
     "text": [
      "2==3==5\n"
     ]
    }
   ],
   "source": [
    "print(*[2,3,5],sep=\"==\")"
   ]
  },
  {
   "cell_type": "code",
   "execution_count": 74,
   "id": "56cc3795",
   "metadata": {},
   "outputs": [
    {
     "name": "stdout",
     "output_type": "stream",
     "text": [
      "2\n",
      "3\n",
      "5\n"
     ]
    }
   ],
   "source": [
    "print(*[2,3,5],sep=\"\\n\")"
   ]
  },
  {
   "cell_type": "code",
   "execution_count": 75,
   "id": "39ad0426",
   "metadata": {},
   "outputs": [
    {
     "data": {
      "text/plain": [
       "5"
      ]
     },
     "execution_count": 75,
     "metadata": {},
     "output_type": "execute_result"
    }
   ],
   "source": [
    "a[1][1]"
   ]
  },
  {
   "cell_type": "code",
   "execution_count": 76,
   "id": "112b2625",
   "metadata": {},
   "outputs": [
    {
     "data": {
      "text/plain": [
       "array([60, 59, 19, 32, 75, 57])"
      ]
     },
     "execution_count": 76,
     "metadata": {},
     "output_type": "execute_result"
    }
   ],
   "source": [
    "ages"
   ]
  },
  {
   "cell_type": "code",
   "execution_count": 77,
   "id": "e2ac27d9",
   "metadata": {},
   "outputs": [
    {
     "data": {
      "text/plain": [
       "array([60, 59, 19])"
      ]
     },
     "execution_count": 77,
     "metadata": {},
     "output_type": "execute_result"
    }
   ],
   "source": [
    "ages[0:3]"
   ]
  },
  {
   "cell_type": "code",
   "execution_count": 78,
   "id": "7db8e83f",
   "metadata": {},
   "outputs": [
    {
     "data": {
      "text/plain": [
       "array([60, 19])"
      ]
     },
     "execution_count": 78,
     "metadata": {},
     "output_type": "execute_result"
    }
   ],
   "source": [
    "ages[0:3:2]"
   ]
  },
  {
   "cell_type": "code",
   "execution_count": 79,
   "id": "7cb8d87f",
   "metadata": {},
   "outputs": [
    {
     "data": {
      "text/plain": [
       "array([[49, 20, 80],\n",
       "       [27, 17, 51],\n",
       "       [46, 49, 79],\n",
       "       [66, 65, 19],\n",
       "       [53, 34, 35]])"
      ]
     },
     "execution_count": 79,
     "metadata": {},
     "output_type": "execute_result"
    }
   ],
   "source": [
    "scores"
   ]
  },
  {
   "cell_type": "code",
   "execution_count": 80,
   "id": "6d7644a5",
   "metadata": {},
   "outputs": [
    {
     "data": {
      "text/plain": [
       "array([[27, 17, 51],\n",
       "       [46, 49, 79]])"
      ]
     },
     "execution_count": 80,
     "metadata": {},
     "output_type": "execute_result"
    }
   ],
   "source": [
    "scores[1:3,:]"
   ]
  },
  {
   "cell_type": "code",
   "execution_count": 82,
   "id": "c2139a32",
   "metadata": {},
   "outputs": [
    {
     "data": {
      "text/plain": [
       "array([27, 46])"
      ]
     },
     "execution_count": 82,
     "metadata": {},
     "output_type": "execute_result"
    }
   ],
   "source": [
    "scores[1:3,0]"
   ]
  },
  {
   "cell_type": "code",
   "execution_count": 83,
   "id": "068099f8",
   "metadata": {},
   "outputs": [
    {
     "data": {
      "text/plain": [
       "array([[27, 17],\n",
       "       [46, 49]])"
      ]
     },
     "execution_count": 83,
     "metadata": {},
     "output_type": "execute_result"
    }
   ],
   "source": [
    "scores[1:3,0:2]"
   ]
  },
  {
   "cell_type": "code",
   "execution_count": 84,
   "id": "a945baf7",
   "metadata": {},
   "outputs": [
    {
     "data": {
      "text/plain": [
       "array([60, 59, 19, 32, 75, 57])"
      ]
     },
     "execution_count": 84,
     "metadata": {},
     "output_type": "execute_result"
    }
   ],
   "source": [
    "ages"
   ]
  },
  {
   "cell_type": "code",
   "execution_count": null,
   "id": "eeb7d36d",
   "metadata": {},
   "outputs": [],
   "source": [
    "# Fancy index"
   ]
  },
  {
   "cell_type": "code",
   "execution_count": 85,
   "id": "ce9095a4",
   "metadata": {},
   "outputs": [
    {
     "data": {
      "text/plain": [
       "array([60, 59, 57])"
      ]
     },
     "execution_count": 85,
     "metadata": {},
     "output_type": "execute_result"
    }
   ],
   "source": [
    "ages[[0,1,5]]"
   ]
  },
  {
   "cell_type": "code",
   "execution_count": 86,
   "id": "d668323e",
   "metadata": {},
   "outputs": [
    {
     "data": {
      "text/plain": [
       "array([49, 20, 80])"
      ]
     },
     "execution_count": 86,
     "metadata": {},
     "output_type": "execute_result"
    }
   ],
   "source": [
    "scores[0]"
   ]
  },
  {
   "cell_type": "code",
   "execution_count": 87,
   "id": "95bf496a",
   "metadata": {},
   "outputs": [
    {
     "data": {
      "text/plain": [
       "array([51])"
      ]
     },
     "execution_count": 87,
     "metadata": {},
     "output_type": "execute_result"
    }
   ],
   "source": [
    "scores[[1],[2]]"
   ]
  },
  {
   "cell_type": "code",
   "execution_count": 88,
   "id": "b349697a",
   "metadata": {},
   "outputs": [
    {
     "data": {
      "text/plain": [
       "array([51, 46])"
      ]
     },
     "execution_count": 88,
     "metadata": {},
     "output_type": "execute_result"
    }
   ],
   "source": [
    "scores[[1,2],[2,0]]"
   ]
  },
  {
   "cell_type": "code",
   "execution_count": 90,
   "id": "98765bc4",
   "metadata": {},
   "outputs": [],
   "source": [
    "course1=scores[:,0]"
   ]
  },
  {
   "cell_type": "code",
   "execution_count": 91,
   "id": "ffe47862",
   "metadata": {},
   "outputs": [
    {
     "data": {
      "text/plain": [
       "array([49, 27, 46, 66, 53])"
      ]
     },
     "execution_count": 91,
     "metadata": {},
     "output_type": "execute_result"
    }
   ],
   "source": [
    "course1"
   ]
  },
  {
   "cell_type": "code",
   "execution_count": 93,
   "id": "fce2484e",
   "metadata": {},
   "outputs": [],
   "source": [
    "passed_array=course1>=40"
   ]
  },
  {
   "cell_type": "code",
   "execution_count": 94,
   "id": "ce9b348d",
   "metadata": {},
   "outputs": [
    {
     "data": {
      "text/plain": [
       "array([ True, False,  True,  True,  True])"
      ]
     },
     "execution_count": 94,
     "metadata": {},
     "output_type": "execute_result"
    }
   ],
   "source": [
    "passed_array"
   ]
  },
  {
   "cell_type": "code",
   "execution_count": 95,
   "id": "c5294c29",
   "metadata": {},
   "outputs": [
    {
     "data": {
      "text/plain": [
       "array([49, 46, 66, 53])"
      ]
     },
     "execution_count": 95,
     "metadata": {},
     "output_type": "execute_result"
    }
   ],
   "source": [
    "course1[passed_array]"
   ]
  },
  {
   "cell_type": "code",
   "execution_count": null,
   "id": "0fef6707",
   "metadata": {},
   "outputs": [],
   "source": []
  }
 ],
 "metadata": {
  "kernelspec": {
   "display_name": "Python 3 (ipykernel)",
   "language": "python",
   "name": "python3"
  },
  "language_info": {
   "codemirror_mode": {
    "name": "ipython",
    "version": 3
   },
   "file_extension": ".py",
   "mimetype": "text/x-python",
   "name": "python",
   "nbconvert_exporter": "python",
   "pygments_lexer": "ipython3",
   "version": "3.9.7"
  }
 },
 "nbformat": 4,
 "nbformat_minor": 5
}
