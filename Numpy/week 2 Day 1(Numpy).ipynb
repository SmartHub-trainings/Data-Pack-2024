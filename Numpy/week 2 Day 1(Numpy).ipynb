{
 "cells": [
  {
   "cell_type": "markdown",
   "id": "54ae83c7-2cde-4b3d-952c-7b0ee32d63f9",
   "metadata": {},
   "source": [
    "# Reshaping of numpy arrays"
   ]
  },
  {
   "cell_type": "code",
   "execution_count": 2,
   "id": "abbe9fdb-7819-4f52-b84a-3855f7eb4542",
   "metadata": {},
   "outputs": [],
   "source": [
    "import numpy as np"
   ]
  },
  {
   "cell_type": "code",
   "execution_count": 3,
   "id": "4dd04909-7631-4d9d-904f-faa1784ab427",
   "metadata": {},
   "outputs": [],
   "source": [
    "a= np.random.randint(1,100,10)"
   ]
  },
  {
   "cell_type": "code",
   "execution_count": 4,
   "id": "4d8f1043-5d04-47ca-b573-fd2bdc85e4a6",
   "metadata": {},
   "outputs": [
    {
     "data": {
      "text/plain": [
       "array([26,  1, 40, 83, 14, 81, 21, 34, 29, 99])"
      ]
     },
     "execution_count": 4,
     "metadata": {},
     "output_type": "execute_result"
    }
   ],
   "source": [
    "a"
   ]
  },
  {
   "cell_type": "code",
   "execution_count": 5,
   "id": "56be1f4f-324f-4116-ad0d-efefa29902f9",
   "metadata": {},
   "outputs": [
    {
     "data": {
      "text/plain": [
       "(10,)"
      ]
     },
     "execution_count": 5,
     "metadata": {},
     "output_type": "execute_result"
    }
   ],
   "source": [
    "a.shape"
   ]
  },
  {
   "cell_type": "code",
   "execution_count": 6,
   "id": "117aea93-78fb-4a26-8f37-4aa20481d00e",
   "metadata": {},
   "outputs": [],
   "source": [
    "a1=a.reshape((5,2))"
   ]
  },
  {
   "cell_type": "code",
   "execution_count": 7,
   "id": "81bb31a3-e49b-443f-860a-03141323ce75",
   "metadata": {},
   "outputs": [
    {
     "data": {
      "text/plain": [
       "array([[26,  1],\n",
       "       [40, 83],\n",
       "       [14, 81],\n",
       "       [21, 34],\n",
       "       [29, 99]])"
      ]
     },
     "execution_count": 7,
     "metadata": {},
     "output_type": "execute_result"
    }
   ],
   "source": [
    "a1"
   ]
  },
  {
   "cell_type": "code",
   "execution_count": 8,
   "id": "b618cda6-deec-4e0c-b241-0d96aadf6343",
   "metadata": {},
   "outputs": [],
   "source": [
    "a2=a.reshape((2,5))"
   ]
  },
  {
   "cell_type": "code",
   "execution_count": 9,
   "id": "091240f5-7e35-460a-aef2-2fae27535564",
   "metadata": {},
   "outputs": [
    {
     "data": {
      "text/plain": [
       "array([[26,  1, 40, 83, 14],\n",
       "       [81, 21, 34, 29, 99]])"
      ]
     },
     "execution_count": 9,
     "metadata": {},
     "output_type": "execute_result"
    }
   ],
   "source": [
    "a2"
   ]
  },
  {
   "cell_type": "code",
   "execution_count": 10,
   "id": "f80d5f6e-10ed-40c4-994a-53c56b265701",
   "metadata": {},
   "outputs": [
    {
     "ename": "ValueError",
     "evalue": "cannot reshape array of size 10 into shape (3,3)",
     "output_type": "error",
     "traceback": [
      "\u001b[0;31m---------------------------------------------------------------------------\u001b[0m",
      "\u001b[0;31mValueError\u001b[0m                                Traceback (most recent call last)",
      "\u001b[0;32m/var/folders/3d/pkg6m4_x11s9hw4jt5sb8zp00000gn/T/ipykernel_20932/2437380432.py\u001b[0m in \u001b[0;36m<module>\u001b[0;34m\u001b[0m\n\u001b[0;32m----> 1\u001b[0;31m \u001b[0ma3\u001b[0m\u001b[0;34m=\u001b[0m\u001b[0ma1\u001b[0m\u001b[0;34m.\u001b[0m\u001b[0mreshape\u001b[0m\u001b[0;34m(\u001b[0m\u001b[0;34m(\u001b[0m\u001b[0;36m3\u001b[0m\u001b[0;34m,\u001b[0m\u001b[0;36m3\u001b[0m\u001b[0;34m)\u001b[0m\u001b[0;34m)\u001b[0m\u001b[0;34m\u001b[0m\u001b[0;34m\u001b[0m\u001b[0m\n\u001b[0m",
      "\u001b[0;31mValueError\u001b[0m: cannot reshape array of size 10 into shape (3,3)"
     ]
    }
   ],
   "source": [
    "a3=a1.reshape((3,3))"
   ]
  },
  {
   "cell_type": "code",
   "execution_count": 11,
   "id": "e31efa8a-8be2-41dc-ae84-77a0eb7da945",
   "metadata": {},
   "outputs": [],
   "source": [
    "a.shape=(2,5)"
   ]
  },
  {
   "cell_type": "code",
   "execution_count": 12,
   "id": "d20e26c7-bcac-4ef8-b671-4e9bdf92a60a",
   "metadata": {},
   "outputs": [
    {
     "data": {
      "text/plain": [
       "array([[26,  1, 40, 83, 14],\n",
       "       [81, 21, 34, 29, 99]])"
      ]
     },
     "execution_count": 12,
     "metadata": {},
     "output_type": "execute_result"
    }
   ],
   "source": [
    "a"
   ]
  },
  {
   "cell_type": "code",
   "execution_count": 13,
   "id": "f46aa04f-0561-40b3-8be4-00411a48440c",
   "metadata": {},
   "outputs": [
    {
     "data": {
      "text/plain": [
       "(2, 5)"
      ]
     },
     "execution_count": 13,
     "metadata": {},
     "output_type": "execute_result"
    }
   ],
   "source": [
    "a.shape"
   ]
  },
  {
   "cell_type": "code",
   "execution_count": 14,
   "id": "ec5d6196-0bc8-4153-a880-69215cfdc69e",
   "metadata": {},
   "outputs": [],
   "source": [
    "B=np.random.randint(1,20,(4,5))"
   ]
  },
  {
   "cell_type": "code",
   "execution_count": 15,
   "id": "343d4209-2b09-4fb2-b1fd-4421fb4e7066",
   "metadata": {},
   "outputs": [
    {
     "data": {
      "text/plain": [
       "array([[ 7,  7, 15,  9,  6],\n",
       "       [ 9, 15, 14,  2,  3],\n",
       "       [13,  5, 10, 16,  8],\n",
       "       [16,  6, 15,  3,  3]])"
      ]
     },
     "execution_count": 15,
     "metadata": {},
     "output_type": "execute_result"
    }
   ],
   "source": [
    "B"
   ]
  },
  {
   "cell_type": "code",
   "execution_count": 16,
   "id": "b037e0b6-e956-4170-9bb7-ebfd631aeae5",
   "metadata": {},
   "outputs": [
    {
     "data": {
      "text/plain": [
       "array([[ 7,  7, 15,  9],\n",
       "       [ 6,  9, 15, 14],\n",
       "       [ 2,  3, 13,  5],\n",
       "       [10, 16,  8, 16],\n",
       "       [ 6, 15,  3,  3]])"
      ]
     },
     "execution_count": 16,
     "metadata": {},
     "output_type": "execute_result"
    }
   ],
   "source": [
    "B.reshape(5,4)"
   ]
  },
  {
   "cell_type": "code",
   "execution_count": 17,
   "id": "d3841f43-ec6c-4815-9094-b244fbf1cfdf",
   "metadata": {},
   "outputs": [
    {
     "data": {
      "text/plain": [
       "array([[ 7,  7],\n",
       "       [15,  9],\n",
       "       [ 6,  9],\n",
       "       [15, 14],\n",
       "       [ 2,  3],\n",
       "       [13,  5],\n",
       "       [10, 16],\n",
       "       [ 8, 16],\n",
       "       [ 6, 15],\n",
       "       [ 3,  3]])"
      ]
     },
     "execution_count": 17,
     "metadata": {},
     "output_type": "execute_result"
    }
   ],
   "source": [
    "B.reshape(10,2)"
   ]
  },
  {
   "cell_type": "code",
   "execution_count": 18,
   "id": "f24549bc-38fc-4bb0-b5bd-dafc6ebe6195",
   "metadata": {},
   "outputs": [
    {
     "data": {
      "text/plain": [
       "array([[ 7],\n",
       "       [ 7],\n",
       "       [15],\n",
       "       [ 9],\n",
       "       [ 6],\n",
       "       [ 9],\n",
       "       [15],\n",
       "       [14],\n",
       "       [ 2],\n",
       "       [ 3],\n",
       "       [13],\n",
       "       [ 5],\n",
       "       [10],\n",
       "       [16],\n",
       "       [ 8],\n",
       "       [16],\n",
       "       [ 6],\n",
       "       [15],\n",
       "       [ 3],\n",
       "       [ 3]])"
      ]
     },
     "execution_count": 18,
     "metadata": {},
     "output_type": "execute_result"
    }
   ],
   "source": [
    "B.reshape(20,1)"
   ]
  },
  {
   "cell_type": "code",
   "execution_count": 19,
   "id": "604d7154-36f8-4d56-95a9-96b117e4bb1b",
   "metadata": {},
   "outputs": [
    {
     "data": {
      "text/plain": [
       "array([[ 7,  7, 15,  9,  6],\n",
       "       [ 9, 15, 14,  2,  3],\n",
       "       [13,  5, 10, 16,  8],\n",
       "       [16,  6, 15,  3,  3]])"
      ]
     },
     "execution_count": 19,
     "metadata": {},
     "output_type": "execute_result"
    }
   ],
   "source": [
    "B"
   ]
  },
  {
   "cell_type": "code",
   "execution_count": 20,
   "id": "089290de-8201-4c9b-b20b-37b27e82685d",
   "metadata": {},
   "outputs": [
    {
     "data": {
      "text/plain": [
       "array([ 7,  7, 15,  9,  6,  9, 15, 14,  2,  3, 13,  5, 10, 16,  8, 16,  6,\n",
       "       15,  3,  3])"
      ]
     },
     "execution_count": 20,
     "metadata": {},
     "output_type": "execute_result"
    }
   ],
   "source": [
    "B.ravel()"
   ]
  },
  {
   "cell_type": "code",
   "execution_count": 21,
   "id": "e0480511-5488-481d-af6a-1911cf11e490",
   "metadata": {},
   "outputs": [
    {
     "data": {
      "text/plain": [
       "array([ 7,  7, 15,  9,  6,  9, 15, 14,  2,  3, 13,  5, 10, 16,  8, 16,  6,\n",
       "       15,  3,  3])"
      ]
     },
     "execution_count": 21,
     "metadata": {},
     "output_type": "execute_result"
    }
   ],
   "source": [
    "B.flatten()"
   ]
  },
  {
   "cell_type": "code",
   "execution_count": 22,
   "id": "e17efe64-703c-4062-b750-8390e878889a",
   "metadata": {},
   "outputs": [
    {
     "data": {
      "text/plain": [
       "array([[ 7,  7, 15,  9,  6,  9, 15, 14,  2,  3],\n",
       "       [13,  5, 10, 16,  8, 16,  6, 15,  3,  3]])"
      ]
     },
     "execution_count": 22,
     "metadata": {},
     "output_type": "execute_result"
    }
   ],
   "source": [
    "B.reshape(2,-1)"
   ]
  },
  {
   "cell_type": "code",
   "execution_count": 23,
   "id": "00b299cb-5cf4-49c7-ac2d-f7030420e1d4",
   "metadata": {},
   "outputs": [
    {
     "ename": "ValueError",
     "evalue": "cannot reshape array of size 20 into shape (3,newaxis)",
     "output_type": "error",
     "traceback": [
      "\u001b[0;31m---------------------------------------------------------------------------\u001b[0m",
      "\u001b[0;31mValueError\u001b[0m                                Traceback (most recent call last)",
      "\u001b[0;32m/var/folders/3d/pkg6m4_x11s9hw4jt5sb8zp00000gn/T/ipykernel_20932/2992564528.py\u001b[0m in \u001b[0;36m<module>\u001b[0;34m\u001b[0m\n\u001b[0;32m----> 1\u001b[0;31m \u001b[0mB\u001b[0m\u001b[0;34m.\u001b[0m\u001b[0mreshape\u001b[0m\u001b[0;34m(\u001b[0m\u001b[0;36m3\u001b[0m\u001b[0;34m,\u001b[0m\u001b[0;34m-\u001b[0m\u001b[0;36m1\u001b[0m\u001b[0;34m)\u001b[0m\u001b[0;34m\u001b[0m\u001b[0;34m\u001b[0m\u001b[0m\n\u001b[0m",
      "\u001b[0;31mValueError\u001b[0m: cannot reshape array of size 20 into shape (3,newaxis)"
     ]
    }
   ],
   "source": [
    "B.reshape(3,-1)"
   ]
  },
  {
   "cell_type": "code",
   "execution_count": 24,
   "id": "58223460-e69f-404b-b8a6-281bb99a7aa2",
   "metadata": {},
   "outputs": [],
   "source": [
    "ages, weights = np.random.randint(16,100,12),np.random.randint(3,7,12)"
   ]
  },
  {
   "cell_type": "code",
   "execution_count": 25,
   "id": "461d97c1-c8ec-4995-babc-1cb602c68bfc",
   "metadata": {},
   "outputs": [
    {
     "data": {
      "text/plain": [
       "array([84, 20, 77, 96, 61, 49, 20, 50, 98, 74, 20, 46])"
      ]
     },
     "execution_count": 25,
     "metadata": {},
     "output_type": "execute_result"
    }
   ],
   "source": [
    "ages"
   ]
  },
  {
   "cell_type": "code",
   "execution_count": 26,
   "id": "6abb199b-5d7b-4367-8eae-11b0bd4bf58c",
   "metadata": {},
   "outputs": [
    {
     "data": {
      "text/plain": [
       "array([6, 5, 4, 4, 3, 6, 5, 6, 3, 5, 3, 5])"
      ]
     },
     "execution_count": 26,
     "metadata": {},
     "output_type": "execute_result"
    }
   ],
   "source": [
    "weights"
   ]
  },
  {
   "cell_type": "code",
   "execution_count": 27,
   "id": "0a85c3fb-0394-4341-824d-046dec80d916",
   "metadata": {},
   "outputs": [
    {
     "data": {
      "text/plain": [
       "array([[ 1.        , -0.15972736],\n",
       "       [-0.15972736,  1.        ]])"
      ]
     },
     "execution_count": 27,
     "metadata": {},
     "output_type": "execute_result"
    }
   ],
   "source": [
    "np.corrcoef(ages,weights)"
   ]
  },
  {
   "cell_type": "markdown",
   "id": "ab58903b-7ffe-4063-a736-ea58c9d0019a",
   "metadata": {},
   "source": [
    "## Ploting with matplotlib"
   ]
  },
  {
   "cell_type": "code",
   "execution_count": 28,
   "id": "3baf4cbe-6316-4b03-8706-9bb438db24e0",
   "metadata": {},
   "outputs": [],
   "source": [
    "import matplotlib.pyplot as plt"
   ]
  },
  {
   "cell_type": "code",
   "execution_count": 29,
   "id": "3431cf30-935c-4452-ba31-9a6b0db473a1",
   "metadata": {},
   "outputs": [],
   "source": [
    "#!pip install matplotlib"
   ]
  },
  {
   "cell_type": "code",
   "execution_count": 31,
   "id": "b1614578-c92e-4206-b04e-a6bfe6a16c93",
   "metadata": {},
   "outputs": [
    {
     "data": {
      "text/plain": [
       "<matplotlib.collections.PathCollection at 0x7ff1fe976f40>"
      ]
     },
     "execution_count": 31,
     "metadata": {},
     "output_type": "execute_result"
    },
    {
     "data": {
      "image/png": "[encoded data removed]",
      "text/plain": [
       "<Figure size 432x288 with 1 Axes>"
      ]
     },
     "metadata": {
      "needs_background": "light"
     },
     "output_type": "display_data"
    }
   ],
   "source": [
    "plt.scatter(ages,weights)"
   ]
  },
  {
   "cell_type": "code",
   "execution_count": 32,
   "id": "19ca32e4-ea31-4a7b-8388-29f9fd28ada6",
   "metadata": {},
   "outputs": [
    {
     "data": {
      "text/plain": [
       "[<matplotlib.lines.Line2D at 0x7ff1fe932c40>]"
      ]
     },
     "execution_count": 32,
     "metadata": {},
     "output_type": "execute_result"
    },
    {
     "data": {
      "image/png": "[encoded data removed]",
      "text/plain": [
       "<Figure size 432x288 with 1 Axes>"
      ]
     },
     "metadata": {
      "needs_background": "light"
     },
     "output_type": "display_data"
    }
   ],
   "source": [
    "plt.plot(ages,weights)"
   ]
  },
  {
   "cell_type": "code",
   "execution_count": 33,
   "id": "7a4b59ef-8eee-4c42-be6e-94d53e43ce22",
   "metadata": {},
   "outputs": [
    {
     "data": {
      "text/plain": [
       "<matplotlib.collections.PathCollection at 0x7ff1fe812820>"
      ]
     },
     "execution_count": 33,
     "metadata": {},
     "output_type": "execute_result"
    },
    {
     "data": {
      "image/png": "[encoded data removed]",
      "text/plain": [
       "<Figure size 432x288 with 1 Axes>"
      ]
     },
     "metadata": {
      "needs_background": "light"
     },
     "output_type": "display_data"
    }
   ],
   "source": [
    "plt.scatter(ages,weights,marker=\"x\")"
   ]
  },
  {
   "cell_type": "code",
   "execution_count": 34,
   "id": "7277c63c-8d13-419e-9242-74f4f16cb3ef",
   "metadata": {},
   "outputs": [
    {
     "data": {
      "text/plain": [
       "<matplotlib.collections.PathCollection at 0x7ff1fe9c5520>"
      ]
     },
     "execution_count": 34,
     "metadata": {},
     "output_type": "execute_result"
    },
    {
     "data": {
      "image/png": "[encoded data removed]",
      "text/plain": [
       "<Figure size 432x288 with 1 Axes>"
      ]
     },
     "metadata": {
      "needs_background": "light"
     },
     "output_type": "display_data"
    }
   ],
   "source": [
    "plt.scatter(ages,weights,marker=\"^\")"
   ]
  },
  {
   "cell_type": "code",
   "execution_count": null,
   "id": "b9425710-c449-4407-8188-bc434fbd1a8a",
   "metadata": {},
   "outputs": [],
   "source": []
  }
 ],
 "metadata": {
  "kernelspec": {
   "display_name": "Python 3 (ipykernel)",
   "language": "python",
   "name": "python3"
  },
  "language_info": {
   "codemirror_mode": {
    "name": "ipython",
    "version": 3
   },
   "file_extension": ".py",
   "mimetype": "text/x-python",
   "name": "python",
   "nbconvert_exporter": "python",
   "pygments_lexer": "ipython3",
   "version": "3.9.7"
  }
 },
 "nbformat": 4,
 "nbformat_minor": 5
}
