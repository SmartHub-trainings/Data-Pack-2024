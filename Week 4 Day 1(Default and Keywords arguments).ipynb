{
 "cells": [
  {
   "cell_type": "code",
   "execution_count": 3,
   "id": "b6f7dc7a",
   "metadata": {},
   "outputs": [
    {
     "name": "stdout",
     "output_type": "stream",
     "text": [
      "1 is a factor of 70\n",
      "2 is a factor of 70\n",
      "5 is a factor of 70\n",
      "7 is a factor of 70\n",
      "10 is a factor of 70\n",
      "14 is a factor of 70\n",
      "35 is a factor of 70\n"
     ]
    }
   ],
   "source": [
    "number =70\n",
    "for i in range(1,number):\n",
    "    if number %i ==0:\n",
    "        print(f\"{i} is a factor of {number}\")\n",
    "        \n",
    "    "
   ]
  },
  {
   "cell_type": "code",
   "execution_count": 5,
   "id": "85d9b738",
   "metadata": {},
   "outputs": [
    {
     "name": "stdout",
     "output_type": "stream",
     "text": [
      "[1, 2, 4, 5, 10, 20, 25, 50, 100]\n"
     ]
    }
   ],
   "source": [
    "number =100\n",
    "factors=[]\n",
    "for i in range(1,number):\n",
    "    if number %i ==0:\n",
    "        factors.append(i)\n",
    "factors.append(number)\n",
    "print(factors)\n",
    "        \n",
    "    "
   ]
  },
  {
   "cell_type": "code",
   "execution_count": 15,
   "id": "f63358b1",
   "metadata": {},
   "outputs": [
    {
     "name": "stdout",
     "output_type": "stream",
     "text": [
      "100 is not a prime number\n"
     ]
    }
   ],
   "source": [
    "number =100\n",
    "factors=[]\n",
    "for i in range(1,number):\n",
    "    if number%i ==0:\n",
    "        factors.append(i)\n",
    "factors.append(number)\n",
    "if len(factors) ==2:\n",
    "    print(f\"{number} is a prime number\")\n",
    "else:\n",
    "    print(f\"{number} is not a prime number\")"
   ]
  },
  {
   "cell_type": "code",
   "execution_count": 24,
   "id": "1fa85f4f",
   "metadata": {},
   "outputs": [
    {
     "name": "stdout",
     "output_type": "stream",
     "text": [
      "101 is a prime number\n"
     ]
    }
   ],
   "source": [
    "number =101\n",
    "factors_count=0\n",
    "for i in range(1,number):\n",
    "    if number%i ==0:\n",
    "        factors_count=factors_count+1\n",
    "    if factors_count ==2:\n",
    "        print(f\"{number} is not a prime number\")\n",
    "        break\n",
    "else:\n",
    "    print(f\"{number} is a prime number\")\n"
   ]
  },
  {
   "cell_type": "code",
   "execution_count": 23,
   "id": "c0405359",
   "metadata": {},
   "outputs": [
    {
     "data": {
      "text/plain": [
       "1"
      ]
     },
     "execution_count": 23,
     "metadata": {},
     "output_type": "execute_result"
    }
   ],
   "source": []
  },
  {
   "cell_type": "code",
   "execution_count": 26,
   "id": "38a5d26e",
   "metadata": {},
   "outputs": [
    {
     "name": "stdout",
     "output_type": "stream",
     "text": [
      "Yes\n"
     ]
    }
   ],
   "source": [
    "a= 14\n",
    "if a>12:\n",
    "    flag=\"Yes\"\n",
    "else:\n",
    "    flag=\"No\"\n",
    "print(flag)"
   ]
  },
  {
   "cell_type": "code",
   "execution_count": 28,
   "id": "95797907",
   "metadata": {},
   "outputs": [
    {
     "name": "stdout",
     "output_type": "stream",
     "text": [
      "No\n"
     ]
    }
   ],
   "source": [
    "a= 10\n",
    "flag=\"Yes\" if a>12 else \"No\"\n",
    "print(flag)"
   ]
  },
  {
   "cell_type": "markdown",
   "id": "462ec796",
   "metadata": {},
   "source": [
    "# Default arguments`"
   ]
  },
  {
   "cell_type": "code",
   "execution_count": 29,
   "id": "7a6d54f6",
   "metadata": {},
   "outputs": [],
   "source": [
    "def add(a,b):\n",
    "    return a+b"
   ]
  },
  {
   "cell_type": "code",
   "execution_count": 30,
   "id": "43809619",
   "metadata": {},
   "outputs": [
    {
     "data": {
      "text/plain": [
       "8"
      ]
     },
     "execution_count": 30,
     "metadata": {},
     "output_type": "execute_result"
    }
   ],
   "source": [
    "add(3,5)"
   ]
  },
  {
   "cell_type": "code",
   "execution_count": 31,
   "id": "696c01e8",
   "metadata": {},
   "outputs": [
    {
     "ename": "TypeError",
     "evalue": "add() missing 1 required positional argument: 'b'",
     "output_type": "error",
     "traceback": [
      "\u001b[0;31m---------------------------------------------------------------------------\u001b[0m",
      "\u001b[0;31mTypeError\u001b[0m                                 Traceback (most recent call last)",
      "\u001b[0;32m/var/folders/3d/pkg6m4_x11s9hw4jt5sb8zp00000gn/T/ipykernel_4315/2938509889.py\u001b[0m in \u001b[0;36m<module>\u001b[0;34m\u001b[0m\n\u001b[0;32m----> 1\u001b[0;31m \u001b[0madd\u001b[0m\u001b[0;34m(\u001b[0m\u001b[0;36m4\u001b[0m\u001b[0;34m)\u001b[0m\u001b[0;34m\u001b[0m\u001b[0;34m\u001b[0m\u001b[0m\n\u001b[0m",
      "\u001b[0;31mTypeError\u001b[0m: add() missing 1 required positional argument: 'b'"
     ]
    }
   ],
   "source": [
    "add(4)"
   ]
  },
  {
   "cell_type": "code",
   "execution_count": 32,
   "id": "66a84586",
   "metadata": {},
   "outputs": [],
   "source": [
    "def add(a,b=2):\n",
    "    return a+b"
   ]
  },
  {
   "cell_type": "code",
   "execution_count": 33,
   "id": "4cc794e9",
   "metadata": {},
   "outputs": [
    {
     "data": {
      "text/plain": [
       "11"
      ]
     },
     "execution_count": 33,
     "metadata": {},
     "output_type": "execute_result"
    }
   ],
   "source": [
    "add(4,7)"
   ]
  },
  {
   "cell_type": "code",
   "execution_count": 34,
   "id": "98fd6fc9",
   "metadata": {},
   "outputs": [
    {
     "data": {
      "text/plain": [
       "8"
      ]
     },
     "execution_count": 34,
     "metadata": {},
     "output_type": "execute_result"
    }
   ],
   "source": [
    "add(6)"
   ]
  },
  {
   "cell_type": "code",
   "execution_count": 35,
   "id": "2ac0f7cb",
   "metadata": {},
   "outputs": [],
   "source": [
    "def add(a,b=0):\n",
    "    return a+b"
   ]
  },
  {
   "cell_type": "code",
   "execution_count": 36,
   "id": "78cb1060",
   "metadata": {},
   "outputs": [
    {
     "data": {
      "text/plain": [
       "8"
      ]
     },
     "execution_count": 36,
     "metadata": {},
     "output_type": "execute_result"
    }
   ],
   "source": [
    "add(8)"
   ]
  },
  {
   "cell_type": "code",
   "execution_count": 37,
   "id": "4df4216c",
   "metadata": {},
   "outputs": [
    {
     "data": {
      "text/plain": [
       "21"
      ]
     },
     "execution_count": 37,
     "metadata": {},
     "output_type": "execute_result"
    }
   ],
   "source": [
    "add(12,9)"
   ]
  },
  {
   "cell_type": "code",
   "execution_count": 40,
   "id": "72326e5b",
   "metadata": {},
   "outputs": [],
   "source": [
    "def multi_sum(a,b=0,c=0):\n",
    "    return a+b+c"
   ]
  },
  {
   "cell_type": "code",
   "execution_count": 41,
   "id": "00f202a1",
   "metadata": {},
   "outputs": [
    {
     "data": {
      "text/plain": [
       "3"
      ]
     },
     "execution_count": 41,
     "metadata": {},
     "output_type": "execute_result"
    }
   ],
   "source": [
    "multi_sum(3)"
   ]
  },
  {
   "cell_type": "code",
   "execution_count": 42,
   "id": "d74d6523",
   "metadata": {},
   "outputs": [
    {
     "data": {
      "text/plain": [
       "9"
      ]
     },
     "execution_count": 42,
     "metadata": {},
     "output_type": "execute_result"
    }
   ],
   "source": [
    "multi_sum(3,6)"
   ]
  },
  {
   "cell_type": "code",
   "execution_count": 43,
   "id": "d95708fa",
   "metadata": {},
   "outputs": [
    {
     "data": {
      "text/plain": [
       "11"
      ]
     },
     "execution_count": 43,
     "metadata": {},
     "output_type": "execute_result"
    }
   ],
   "source": [
    "multi_sum(3,6,2)"
   ]
  },
  {
   "cell_type": "code",
   "execution_count": 44,
   "id": "c2bbad94",
   "metadata": {},
   "outputs": [],
   "source": [
    "def send_message(name,message):\n",
    "    return f\"{name} said {message}\""
   ]
  },
  {
   "cell_type": "code",
   "execution_count": 45,
   "id": "e437b5a6",
   "metadata": {},
   "outputs": [
    {
     "data": {
      "text/plain": [
       "'Smith said Val is always Awkward'"
      ]
     },
     "execution_count": 45,
     "metadata": {},
     "output_type": "execute_result"
    }
   ],
   "source": [
    "send_message(\"Smith\",\"Val is always Awkward\")"
   ]
  },
  {
   "cell_type": "code",
   "execution_count": 46,
   "id": "7c7992d7",
   "metadata": {},
   "outputs": [
    {
     "ename": "SyntaxError",
     "evalue": "non-default argument follows default argument (3178765877.py, line 1)",
     "output_type": "error",
     "traceback": [
      "\u001b[0;36m  File \u001b[0;32m\"/var/folders/3d/pkg6m4_x11s9hw4jt5sb8zp00000gn/T/ipykernel_4315/3178765877.py\"\u001b[0;36m, line \u001b[0;32m1\u001b[0m\n\u001b[0;31m    def send_message(name=\"Anonymous\",message):\u001b[0m\n\u001b[0m                                             ^\u001b[0m\n\u001b[0;31mSyntaxError\u001b[0m\u001b[0;31m:\u001b[0m non-default argument follows default argument\n"
     ]
    }
   ],
   "source": [
    "def send_message(name=\"Anonymous\",message):\n",
    "    return f\"{name} said {message}\""
   ]
  },
  {
   "cell_type": "code",
   "execution_count": 47,
   "id": "c58f0738",
   "metadata": {},
   "outputs": [],
   "source": [
    "def send_message(message,name=\"Anonymous\"):\n",
    "    return f\"{name} said {message}\""
   ]
  },
  {
   "cell_type": "code",
   "execution_count": 48,
   "id": "464b2aaa",
   "metadata": {},
   "outputs": [
    {
     "data": {
      "text/plain": [
       "\"Anonymous said He's just behaving any how!!\""
      ]
     },
     "execution_count": 48,
     "metadata": {},
     "output_type": "execute_result"
    }
   ],
   "source": [
    "send_message(\"He's just behaving any how!!\")"
   ]
  },
  {
   "cell_type": "code",
   "execution_count": 49,
   "id": "1a003649",
   "metadata": {},
   "outputs": [
    {
     "ename": "SyntaxError",
     "evalue": "invalid syntax (2323286483.py, line 2)",
     "output_type": "error",
     "traceback": [
      "\u001b[0;36m  File \u001b[0;32m\"/var/folders/3d/pkg6m4_x11s9hw4jt5sb8zp00000gn/T/ipykernel_4315/2323286483.py\"\u001b[0;36m, line \u001b[0;32m2\u001b[0m\n\u001b[0;31m    return f\"{name} said \"{message}\"\"\u001b[0m\n\u001b[0m                          ^\u001b[0m\n\u001b[0;31mSyntaxError\u001b[0m\u001b[0;31m:\u001b[0m invalid syntax\n"
     ]
    }
   ],
   "source": [
    "def send_message(message,name=\"Anonymous\"):\n",
    "    return f\"{name} said \"{message}\"\""
   ]
  },
  {
   "cell_type": "code",
   "execution_count": 52,
   "id": "7e527135",
   "metadata": {},
   "outputs": [],
   "source": [
    "def send_message(message,name=\"Anonymous\"):\n",
    "    print(f'{name} said \"{message}\"')"
   ]
  },
  {
   "cell_type": "code",
   "execution_count": 53,
   "id": "600b2002",
   "metadata": {},
   "outputs": [
    {
     "name": "stdout",
     "output_type": "stream",
     "text": [
      "Anonymous said \"He's just behaving any how!!\"\n"
     ]
    }
   ],
   "source": [
    "send_message(\"He's just behaving any how!!\")"
   ]
  },
  {
   "cell_type": "code",
   "execution_count": 54,
   "id": "fdc633f5",
   "metadata": {},
   "outputs": [],
   "source": [
    "def send_message2(message,name=\"Anonymous\"):\n",
    "    print(f\"{name} said \\\"{message}\\\"\")"
   ]
  },
  {
   "cell_type": "code",
   "execution_count": 55,
   "id": "fa13b9cc",
   "metadata": {},
   "outputs": [
    {
     "name": "stdout",
     "output_type": "stream",
     "text": [
      "Anonymous said \"He's just behaving any how!!\"\n"
     ]
    }
   ],
   "source": [
    "send_message2(\"He's just behaving any how!!\")"
   ]
  },
  {
   "cell_type": "code",
   "execution_count": 56,
   "id": "d62ee0d7",
   "metadata": {},
   "outputs": [],
   "source": [
    "def difference(a,b):\n",
    "    return a-b"
   ]
  },
  {
   "cell_type": "code",
   "execution_count": 57,
   "id": "32c52eba",
   "metadata": {},
   "outputs": [
    {
     "data": {
      "text/plain": [
       "-5"
      ]
     },
     "execution_count": 57,
     "metadata": {},
     "output_type": "execute_result"
    }
   ],
   "source": [
    "difference(2,7)"
   ]
  },
  {
   "cell_type": "code",
   "execution_count": 58,
   "id": "dc5794a5",
   "metadata": {},
   "outputs": [
    {
     "ename": "TypeError",
     "evalue": "difference() missing 1 required positional argument: 'b'",
     "output_type": "error",
     "traceback": [
      "\u001b[0;31m---------------------------------------------------------------------------\u001b[0m",
      "\u001b[0;31mTypeError\u001b[0m                                 Traceback (most recent call last)",
      "\u001b[0;32m/var/folders/3d/pkg6m4_x11s9hw4jt5sb8zp00000gn/T/ipykernel_4315/608260065.py\u001b[0m in \u001b[0;36m<module>\u001b[0;34m\u001b[0m\n\u001b[0;32m----> 1\u001b[0;31m \u001b[0mdifference\u001b[0m\u001b[0;34m(\u001b[0m\u001b[0;36m2\u001b[0m\u001b[0;34m)\u001b[0m\u001b[0;34m\u001b[0m\u001b[0;34m\u001b[0m\u001b[0m\n\u001b[0m",
      "\u001b[0;31mTypeError\u001b[0m: difference() missing 1 required positional argument: 'b'"
     ]
    }
   ],
   "source": [
    "difference(2)"
   ]
  },
  {
   "cell_type": "code",
   "execution_count": 59,
   "id": "5df3520a",
   "metadata": {},
   "outputs": [
    {
     "data": {
      "text/plain": [
       "5"
      ]
     },
     "execution_count": 59,
     "metadata": {},
     "output_type": "execute_result"
    }
   ],
   "source": [
    "difference(7,2)"
   ]
  },
  {
   "cell_type": "code",
   "execution_count": 60,
   "id": "ad8b256d",
   "metadata": {},
   "outputs": [],
   "source": [
    "def difference(a=0,b=0):\n",
    "    return a-b"
   ]
  },
  {
   "cell_type": "code",
   "execution_count": 61,
   "id": "f924ae06",
   "metadata": {},
   "outputs": [
    {
     "data": {
      "text/plain": [
       "-3"
      ]
     },
     "execution_count": 61,
     "metadata": {},
     "output_type": "execute_result"
    }
   ],
   "source": [
    "difference(3,6)"
   ]
  },
  {
   "cell_type": "code",
   "execution_count": 62,
   "id": "7ca52641",
   "metadata": {},
   "outputs": [
    {
     "data": {
      "text/plain": [
       "-6"
      ]
     },
     "execution_count": 62,
     "metadata": {},
     "output_type": "execute_result"
    }
   ],
   "source": [
    "difference(b=18,a=12)"
   ]
  },
  {
   "cell_type": "code",
   "execution_count": 83,
   "id": "d0726737",
   "metadata": {},
   "outputs": [],
   "source": [
    "def twelve_days_of_christmas(verse):\n",
    "    if verse==1:\n",
    "        song=\"\"\"On the first day of Christmas,\n",
    "my true love sent to me    \n",
    "A partridge in a pear tree\"\"\"\n",
    "    elif verse ==2:\n",
    "        song =\"\"\"On the second day of Christmas, my true love sent to me\n",
    "Two turtle doves and\n",
    "A partridge in a pear tree\"\"\"\n",
    "    elif verse ==3:\n",
    "        song =\"\"\"On the third day of Christmas, my true love sent to me\n",
    "Three french hens\n",
    "Two turtle doves and\n",
    "A partridge in a pear tree\"\"\"\n",
    "    elif verse ==4:\n",
    "        song =\"\"\"On the fourth day of Christmas, my true love sent to me\n",
    "Four calling birds\n",
    "Three french hens\n",
    "Two turtle doves and\n",
    "A partridge in a pear tree\"\"\"\n",
    "    print(song)\n",
    "        "
   ]
  },
  {
   "cell_type": "code",
   "execution_count": 87,
   "id": "48264b31",
   "metadata": {},
   "outputs": [
    {
     "name": "stdout",
     "output_type": "stream",
     "text": [
      "On the fourth day of Christmas, my true love sent to me\n",
      "Four calling birds\n",
      "Three french hens\n",
      "Two turtle doves and\n",
      "A partridge in a pear tree\n"
     ]
    }
   ],
   "source": [
    "twelve_days_of_christmas(4)"
   ]
  },
  {
   "cell_type": "code",
   "execution_count": 89,
   "id": "18fff9d9",
   "metadata": {},
   "outputs": [
    {
     "name": "stdout",
     "output_type": "stream",
     "text": [
      "On the first day of Christmas,\n",
      "my true love sent to me    \n",
      "A partridge in a pear tree\n",
      "\n",
      "On the second day of Christmas, my true love sent to me\n",
      "Two turtle doves and\n",
      "A partridge in a pear tree\n",
      "\n",
      "On the third day of Christmas, my true love sent to me\n",
      "Three french hens\n",
      "Two turtle doves and\n",
      "A partridge in a pear tree\n",
      "\n",
      "On the fourth day of Christmas, my true love sent to me\n",
      "Four calling birds\n",
      "Three french hens\n",
      "Two turtle doves and\n",
      "A partridge in a pear tree\n",
      "\n"
     ]
    }
   ],
   "source": [
    "for i in range(1,5):\n",
    "    twelve_days_of_christmas(i)\n",
    "    print()"
   ]
  },
  {
   "cell_type": "code",
   "execution_count": 96,
   "id": "9c3efeab",
   "metadata": {},
   "outputs": [],
   "source": [
    "verses={\n",
    "    1:\"\"\"On the first day of Christmas,\n",
    "my true love sent to me    \n",
    "A partridge in a pear tree\"\"\",\n",
    "    2:\"\"\"On the second day of Christmas, my true love sent to me\n",
    "Two turtle doves and\n",
    "A partridge in a pear tree\"\"\",\n",
    "    3:\"\"\"On the third day of Christmas, my true love sent to me\n",
    "Three french hens\n",
    "Two turtle doves and\n",
    "A partridge in a pear tree\"\"\",\n",
    "    4:\"\"\"On the fourth day of Christmas, my true love sent to me\n",
    "Four calling birds\n",
    "Three french hens\n",
    "Two turtle doves and\n",
    "A partridge in a pear tree\"\"\"\n",
    "}\n",
    "def twelve_days_of_christmas_mod(verse):\n",
    "    print(verses[verse])\n",
    "        "
   ]
  },
  {
   "cell_type": "code",
   "execution_count": 90,
   "id": "950aa366",
   "metadata": {},
   "outputs": [],
   "source": [
    "fact={\n",
    "    \"name\":\"George\",\n",
    "    \"Occupation\":\"Teacher\",\n",
    "    \"State\":\"Rivers\"\n",
    "}"
   ]
  },
  {
   "cell_type": "code",
   "execution_count": 93,
   "id": "e12f6dfc",
   "metadata": {},
   "outputs": [
    {
     "data": {
      "text/plain": [
       "'Rivers'"
      ]
     },
     "execution_count": 93,
     "metadata": {},
     "output_type": "execute_result"
    }
   ],
   "source": [
    "fact[\"State\"]"
   ]
  },
  {
   "cell_type": "code",
   "execution_count": 100,
   "id": "13b0f7c8",
   "metadata": {},
   "outputs": [
    {
     "name": "stdout",
     "output_type": "stream",
     "text": [
      "On the fourth day of Christmas, my true love sent to me\n",
      "Four calling birds\n",
      "Three french hens\n",
      "Two turtle doves and\n",
      "A partridge in a pear tree\n"
     ]
    }
   ],
   "source": [
    "twelve_days_of_christmas_mod(4)"
   ]
  },
  {
   "cell_type": "code",
   "execution_count": 104,
   "id": "5bd10cd1",
   "metadata": {},
   "outputs": [],
   "source": [
    "gifts={\n",
    "    1:\"A partridge in a pear tree\",\n",
    "    2:\"Two turtle doves\",\n",
    "    3:\"Three french hens\",\n",
    "    4:\"Four calling birds\"\n",
    "}\n",
    "days={\n",
    "    1:\"first\",\n",
    "    2:\"second\",\n",
    "    3:\"third\",\n",
    "    4:\"fourth\"\n",
    "}\n",
    "def twelve_days_of_christmas_mod(verse):\n",
    "    song =f\"\"\"On the {days[verse]} day of christmas, my true love sent to me\n",
    "    {gifts[verse]}\"\"\"\n",
    "    print(song)\n",
    "\n",
    "        "
   ]
  },
  {
   "cell_type": "code",
   "execution_count": 106,
   "id": "b28a0954",
   "metadata": {},
   "outputs": [
    {
     "name": "stdout",
     "output_type": "stream",
     "text": [
      "On the second day of christmas, my true love sent to me\n",
      "    Two turtle doves\n"
     ]
    }
   ],
   "source": [
    "twelve_days_of_christmas_mod(2)"
   ]
  },
  {
   "cell_type": "code",
   "execution_count": 107,
   "id": "6568d3f3",
   "metadata": {},
   "outputs": [],
   "source": [
    "gifts={\n",
    "    1:\"A partridge in a pear tree\",\n",
    "    2:\"Two turtle doves\",\n",
    "    3:\"Three french hens\",\n",
    "    4:\"Four calling birds\"\n",
    "}\n",
    "days={\n",
    "    1:\"first\",\n",
    "    2:\"second\",\n",
    "    3:\"third\",\n",
    "    4:\"fourth\"\n",
    "}\n",
    "def twelve_days_of_christmas_mod(verse):\n",
    "    song =f\"\"\"On the {days[verse]} day of christmas, my true love sent to me\n",
    "    {gifts[verse]}\"\"\"\n",
    "    if verse>1:\n",
    "        song = f\"{song} and {gifts[1]}\"\n",
    "    print(song)\n",
    "\n",
    "        "
   ]
  },
  {
   "cell_type": "code",
   "execution_count": 110,
   "id": "d549c852",
   "metadata": {},
   "outputs": [
    {
     "name": "stdout",
     "output_type": "stream",
     "text": [
      "On the third day of christmas, my true love sent to me\n",
      "    Three french hens and A partridge in a pear tree\n"
     ]
    }
   ],
   "source": [
    "twelve_days_of_christmas_mod(3)"
   ]
  },
  {
   "cell_type": "code",
   "execution_count": 131,
   "id": "86b0733d",
   "metadata": {},
   "outputs": [],
   "source": [
    "gifts={\n",
    "    1:\"A partridge in a pear tree\",\n",
    "    2:\"Two turtle doves\",\n",
    "    3:\"Three french hens\",\n",
    "    4:\"Four calling birds\"\n",
    "}\n",
    "days={\n",
    "    1:\"first\",\n",
    "    2:\"second\",\n",
    "    3:\"third\",\n",
    "    4:\"fourth\"\n",
    "}\n",
    "def twelve_days_of_christmas_mod(verse):\n",
    "    song =f\"\"\"On the {days[verse]} day of christmas, my true love sent to me\\n{gifts[verse]}\"\"\"\n",
    "    for i in range(verse-1,0,-1):\n",
    "        song = song +f\"\\n{gifts[i]}\" if i!=1 else song +f\" \\nand {gifts[i]}\"\n",
    "    return song\n",
    "        "
   ]
  },
  {
   "cell_type": "code",
   "execution_count": 113,
   "id": "942ff8b9",
   "metadata": {},
   "outputs": [
    {
     "data": {
      "text/plain": [
       "[4, 3, 2, 1]"
      ]
     },
     "execution_count": 113,
     "metadata": {},
     "output_type": "execute_result"
    }
   ],
   "source": [
    "list(range(4,0,-1))"
   ]
  },
  {
   "cell_type": "code",
   "execution_count": 127,
   "id": "fd88a255",
   "metadata": {},
   "outputs": [
    {
     "name": "stdout",
     "output_type": "stream",
     "text": [
      "On the fourth day of christmas, my true love sent to me\n",
      "    Four calling birds\n",
      "Three french hens\n",
      "Two turtle doves \n",
      "and A partridge in a pear tree\n"
     ]
    }
   ],
   "source": [
    "twelve_days_of_christmas_mod(4)"
   ]
  },
  {
   "cell_type": "code",
   "execution_count": 132,
   "id": "7948a377",
   "metadata": {},
   "outputs": [
    {
     "name": "stdout",
     "output_type": "stream",
     "text": [
      "On the first day of christmas, my true love sent to me\n",
      "A partridge in a pear tree\n",
      "\n",
      "On the second day of christmas, my true love sent to me\n",
      "Two turtle doves \n",
      "and A partridge in a pear tree\n",
      "\n",
      "On the third day of christmas, my true love sent to me\n",
      "Three french hens\n",
      "Two turtle doves \n",
      "and A partridge in a pear tree\n",
      "\n",
      "On the fourth day of christmas, my true love sent to me\n",
      "Four calling birds\n",
      "Three french hens\n",
      "Two turtle doves \n",
      "and A partridge in a pear tree\n",
      "\n"
     ]
    }
   ],
   "source": [
    "for i in range(1,5):\n",
    "    print(twelve_days_of_christmas_mod(i))\n",
    "    print()\n",
    "    "
   ]
  },
  {
   "cell_type": "code",
   "execution_count": null,
   "id": "b7dd28da",
   "metadata": {},
   "outputs": [],
   "source": []
  }
 ],
 "metadata": {
  "kernelspec": {
   "display_name": "Python 3 (ipykernel)",
   "language": "python",
   "name": "python3"
  },
  "language_info": {
   "codemirror_mode": {
    "name": "ipython",
    "version": 3
   },
   "file_extension": ".py",
   "mimetype": "text/x-python",
   "name": "python",
   "nbconvert_exporter": "python",
   "pygments_lexer": "ipython3",
   "version": "3.9.7"
  }
 },
 "nbformat": 4,
 "nbformat_minor": 5
}
