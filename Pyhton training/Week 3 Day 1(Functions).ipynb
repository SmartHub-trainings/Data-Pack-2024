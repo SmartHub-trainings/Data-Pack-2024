{
 "cells": [
  {
   "cell_type": "code",
   "execution_count": null,
   "id": "5f809792-875e-4108-b0e4-12165c2abf16",
   "metadata": {},
   "outputs": [],
   "source": []
  },
  {
   "cell_type": "code",
   "execution_count": 3,
   "id": "ba54b052-45c6-4823-ad0c-1b6ab5f4b142",
   "metadata": {},
   "outputs": [
    {
     "data": {
      "text/plain": [
       "[5, 4, 3, 2, 1]"
      ]
     },
     "execution_count": 3,
     "metadata": {},
     "output_type": "execute_result"
    }
   ],
   "source": [
    "a=[1,2,3,4,5]\n",
    "a.reverse()\n",
    "a"
   ]
  },
  {
   "cell_type": "code",
   "execution_count": 7,
   "id": "90bc8d95-c71c-4385-8a97-c3e12990f87a",
   "metadata": {},
   "outputs": [],
   "source": [
    "b=list(\"jjdidhuy\")"
   ]
  },
  {
   "cell_type": "code",
   "execution_count": 9,
   "id": "0a77feda-34ae-4ba3-8d0e-3917d32d26f8",
   "metadata": {},
   "outputs": [
    {
     "data": {
      "text/plain": [
       "['j', 'j', 'd', 'i', 'd', 'h', 'u', 'y']"
      ]
     },
     "execution_count": 9,
     "metadata": {},
     "output_type": "execute_result"
    }
   ],
   "source": [
    "b"
   ]
  },
  {
   "cell_type": "code",
   "execution_count": 11,
   "id": "7913209a-e787-4541-86b9-fa8ba9802ac7",
   "metadata": {},
   "outputs": [
    {
     "data": {
      "text/plain": [
       "'j==j==d==i==d==h==u==y'"
      ]
     },
     "execution_count": 11,
     "metadata": {},
     "output_type": "execute_result"
    }
   ],
   "source": [
    "\"==\".join(b)"
   ]
  },
  {
   "cell_type": "code",
   "execution_count": 47,
   "id": "fee5f243-9f10-4597-9c50-9e9ed2f5e36f",
   "metadata": {},
   "outputs": [
    {
     "data": {
      "text/plain": [
       "'j*Val*j*Val*d*Val*i*Val*d*Val*h*Val*u*Val*y'"
      ]
     },
     "execution_count": 47,
     "metadata": {},
     "output_type": "execute_result"
    }
   ],
   "source": [
    "\"*Val*\".join(b)"
   ]
  },
  {
   "cell_type": "code",
   "execution_count": 13,
   "id": "cc93b1dd-60bd-421e-aa09-e59f86687861",
   "metadata": {},
   "outputs": [
    {
     "data": {
      "text/plain": [
       "'jjdidhuy'"
      ]
     },
     "execution_count": 13,
     "metadata": {},
     "output_type": "execute_result"
    }
   ],
   "source": [
    "\"\".join(b)"
   ]
  },
  {
   "cell_type": "code",
   "execution_count": 23,
   "id": "f4f8ee6b-2969-415c-b5f2-c921b1f3468c",
   "metadata": {},
   "outputs": [
    {
     "name": "stdin",
     "output_type": "stream",
     "text": [
      "Enter a sequence:  Ada\n"
     ]
    },
    {
     "name": "stdout",
     "output_type": "stream",
     "text": [
      "It's not a palindrome\n"
     ]
    }
   ],
   "source": [
    "sequence = input(\"Enter a sequence: \")\n",
    "sentence_list=list(sequence)\n",
    "# print(sentence_list)\n",
    "sentence_list.reverse()\n",
    "# print(sentence_list)\n",
    "reversed_word=\"\".join(sentence_list)\n",
    "# print(reversed_word)\n",
    "if sequence==reversed_word:\n",
    "    print(\"It's a palindrome\")\n",
    "else:\n",
    "    print(\"It's not a palindrome\")\n"
   ]
  },
  {
   "cell_type": "code",
   "execution_count": 33,
   "id": "6ab887fd-a135-4a0c-a83b-ee4ad2a36c56",
   "metadata": {},
   "outputs": [
    {
     "name": "stdin",
     "output_type": "stream",
     "text": [
      "Enter a sequence:  Tunde Ednut\n"
     ]
    },
    {
     "name": "stdout",
     "output_type": "stream",
     "text": [
      "It's a palindrome\n"
     ]
    }
   ],
   "source": [
    "sequence = input(\"Enter a sequence: \").upper().strip()\n",
    "sentence_list=list(sequence)\n",
    "# print(sentence_list)\n",
    "sentence_list.reverse()\n",
    "# print(sentence_list)\n",
    "reversed_word=\"\".join(sentence_list)\n",
    "# print(reversed_word)\n",
    "if sequence==reversed_word:\n",
    "    print(\"It's a palindrome\")\n",
    "else:\n",
    "    print(\"It's not a palindrome\")\n"
   ]
  },
  {
   "cell_type": "code",
   "execution_count": 35,
   "id": "3a598872-d607-479b-ad44-ea447f254f9e",
   "metadata": {},
   "outputs": [
    {
     "data": {
      "text/plain": [
       "'djhjjhdjhdjhdjh'"
      ]
     },
     "execution_count": 35,
     "metadata": {},
     "output_type": "execute_result"
    }
   ],
   "source": [
    "\"hjdhjdhjdhjjhjd\"[::-1]"
   ]
  },
  {
   "cell_type": "code",
   "execution_count": 43,
   "id": "43766226-33df-4836-9dba-f22fe38f1614",
   "metadata": {},
   "outputs": [
    {
     "name": "stdin",
     "output_type": "stream",
     "text": [
      "Enter a sequence:  David\n"
     ]
    },
    {
     "name": "stdout",
     "output_type": "stream",
     "text": [
      "It's not a palindrome\n"
     ]
    }
   ],
   "source": [
    "sequence = input(\"Enter a sequence: \").upper().strip()\n",
    "if sequence==sequence[::-1]:\n",
    "    print(\"It's a palindrome\")\n",
    "else:\n",
    "    print(\"It's not a palindrome\")"
   ]
  },
  {
   "cell_type": "code",
   "execution_count": 45,
   "id": "d069faa4-87c0-4fb2-b3b8-fd9afb5f6bb1",
   "metadata": {},
   "outputs": [
    {
     "name": "stdin",
     "output_type": "stream",
     "text": [
      "Enter a sequence:  Hello\n"
     ]
    },
    {
     "name": "stdout",
     "output_type": "stream",
     "text": [
      "['H', 'E', 'L', 'L', 'O']\n"
     ]
    }
   ],
   "source": [
    "sequence = input(\"Enter a sequence: \").upper().strip()\n",
    "sequence_list=[]\n",
    "for character in sequence:\n",
    "    sequence_list.append(character)\n",
    "print(sequence_list)\n",
    "sequence_list.reverse()\n",
    "# print(sentence_list)\n",
    "reversed_word=\"\".join(sequence_list)\n",
    "# print(reversed_word)\n",
    "if sequence==reversed_word:\n",
    "    print(\"It's a palindrome\")\n",
    "else:\n",
    "    print(\"It's not a palindrome\")"
   ]
  },
  {
   "cell_type": "code",
   "execution_count": null,
   "id": "e678100a-7ab4-482e-80f7-a172e80c0c32",
   "metadata": {},
   "outputs": [],
   "source": [
    "\"Hello, world 123 !!\""
   ]
  },
  {
   "cell_type": "code",
   "execution_count": 57,
   "id": "cf2ace8b-8247-410c-987c-143337fe6597",
   "metadata": {},
   "outputs": [
    {
     "name": "stdin",
     "output_type": "stream",
     "text": [
      "Enter a phrase:  Hello, 2345 and more ';/./ this\n"
     ]
    },
    {
     "name": "stdout",
     "output_type": "stream",
     "text": [
      "['Hello', '', 'and', 'more', '', 'this']\n",
      "this  more and  Hello\n"
     ]
    }
   ],
   "source": [
    "phrase =input(\"Enter a phrase: \").strip()\n",
    "stripped_phrase=\"\"\n",
    "for character in phrase:\n",
    "    if character.isalpha() or character ==\" \":\n",
    "        stripped_phrase =stripped_phrase+character\n",
    "temp_phrase=stripped_phrase.split(\" \")\n",
    "print(temp_phrase)\n",
    "temp_phrase.reverse()\n",
    "print(\" \".join(temp_phrase))"
   ]
  },
  {
   "cell_type": "markdown",
   "id": "c27c842d-fa3f-4fa8-af60-277f795bf510",
   "metadata": {},
   "source": [
    "# Functions "
   ]
  },
  {
   "cell_type": "code",
   "execution_count": 60,
   "id": "49327efc-34ae-4b1a-98ef-0c6aa60c2aff",
   "metadata": {},
   "outputs": [],
   "source": [
    "def add(x,y):# x and y are parameters\n",
    "    result = x+y\n",
    "    return result"
   ]
  },
  {
   "cell_type": "code",
   "execution_count": 62,
   "id": "85c821b2-3373-4b09-b4a3-a829c59fdfa5",
   "metadata": {},
   "outputs": [
    {
     "data": {
      "text/plain": [
       "18"
      ]
     },
     "execution_count": 62,
     "metadata": {},
     "output_type": "execute_result"
    }
   ],
   "source": [
    "add(6,12)# 6 and 12 are arguments"
   ]
  },
  {
   "cell_type": "code",
   "execution_count": 64,
   "id": "2a98ec17-a774-4249-81a4-a05ab6ec9290",
   "metadata": {},
   "outputs": [],
   "source": [
    "def add(x,y):# x and y are parameters\n",
    "    \"\"\"Takes x and y as numbers and returns the sum\"\"\"\n",
    "    result = x+y\n",
    "    return result"
   ]
  },
  {
   "cell_type": "code",
   "execution_count": null,
   "id": "ac2a74cc-9ddd-4fe6-9c1a-b545548b046f",
   "metadata": {},
   "outputs": [],
   "source": []
  },
  {
   "cell_type": "code",
   "execution_count": 68,
   "id": "30c8264e-dd68-48d6-a29c-f3278f4c391e",
   "metadata": {},
   "outputs": [],
   "source": [
    "def add(x,y):# x and y are parameters\n",
    "    \"\"\"Takes x and y as numbers and returns the sum\n",
    "    example:\n",
    "    add(5,6) returns 11\"\"\"\n",
    "    result = x+y\n",
    "    return result"
   ]
  },
  {
   "cell_type": "code",
   "execution_count": null,
   "id": "ccef1ccd-575c-46a4-a8c3-2f362e484fd0",
   "metadata": {},
   "outputs": [],
   "source": []
  },
  {
   "cell_type": "code",
   "execution_count": 70,
   "id": "451a6d9c-d4d7-42aa-b754-67ac14ec507a",
   "metadata": {},
   "outputs": [],
   "source": [
    "def average(a,b,c):\n",
    "    avg= (a+b+c)/3\n",
    "    return avg"
   ]
  },
  {
   "cell_type": "code",
   "execution_count": 72,
   "id": "5f5e8d37-9c37-477d-aa8b-1d0163012164",
   "metadata": {},
   "outputs": [],
   "source": [
    "def average(a,b,c):\n",
    "    return (a+b+c)/3\n",
    "   "
   ]
  },
  {
   "cell_type": "code",
   "execution_count": 74,
   "id": "ad2fdefc-620c-4169-95e4-c928c3ec073d",
   "metadata": {},
   "outputs": [
    {
     "data": {
      "text/plain": [
       "4.333333333333333"
      ]
     },
     "execution_count": 74,
     "metadata": {},
     "output_type": "execute_result"
    }
   ],
   "source": [
    "average(2,5,6)"
   ]
  },
  {
   "cell_type": "code",
   "execution_count": 76,
   "id": "fa66bb3c-0e4d-4937-9a72-77ff850044fc",
   "metadata": {},
   "outputs": [
    {
     "ename": "TypeError",
     "evalue": "average() missing 1 required positional argument: 'c'",
     "output_type": "error",
     "traceback": [
      "\u001b[1;31m---------------------------------------------------------------------------\u001b[0m",
      "\u001b[1;31mTypeError\u001b[0m                                 Traceback (most recent call last)",
      "Cell \u001b[1;32mIn[76], line 1\u001b[0m\n\u001b[1;32m----> 1\u001b[0m average(\u001b[38;5;241m3\u001b[39m,\u001b[38;5;241m5\u001b[39m)\n",
      "\u001b[1;31mTypeError\u001b[0m: average() missing 1 required positional argument: 'c'"
     ]
    }
   ],
   "source": [
    "average(3,5)"
   ]
  },
  {
   "cell_type": "code",
   "execution_count": 78,
   "id": "01413328-b9f9-4be4-99d8-566d8fa7a214",
   "metadata": {},
   "outputs": [],
   "source": [
    "def compute_hypotenus(a,b):\n",
    "    hyp= (a**2+b**2)**0.5\n",
    "    return hyp"
   ]
  },
  {
   "cell_type": "code",
   "execution_count": 80,
   "id": "0597f87e-9661-459c-9892-41ed526526de",
   "metadata": {},
   "outputs": [
    {
     "data": {
      "text/plain": [
       "5.0"
      ]
     },
     "execution_count": 80,
     "metadata": {},
     "output_type": "execute_result"
    }
   ],
   "source": [
    "compute_hypotenus(3,4)"
   ]
  },
  {
   "cell_type": "code",
   "execution_count": 82,
   "id": "28daa150-c372-4161-bc32-435c25ab3c36",
   "metadata": {},
   "outputs": [
    {
     "data": {
      "text/plain": [
       "31.622776601683793"
      ]
     },
     "execution_count": 82,
     "metadata": {},
     "output_type": "execute_result"
    }
   ],
   "source": [
    "compute_hypotenus(30,10)"
   ]
  },
  {
   "cell_type": "code",
   "execution_count": 84,
   "id": "e5291c6f-b8aa-47fa-bfe6-6488b5954573",
   "metadata": {},
   "outputs": [
    {
     "name": "stdout",
     "output_type": "stream",
     "text": [
      "The hypotenus of 3 and 4 is 5.0\n"
     ]
    }
   ],
   "source": [
    "result =compute_hypotenus(4,3)\n",
    "print(f\"The hypotenus of 3 and 4 is {result}\")"
   ]
  },
  {
   "cell_type": "code",
   "execution_count": 86,
   "id": "bc7689f9-b18e-416b-9a54-7d3f6b962a85",
   "metadata": {},
   "outputs": [],
   "source": [
    "def add3(a,b,c):\n",
    "    d=a+b+c\n",
    "    print(d)"
   ]
  },
  {
   "cell_type": "code",
   "execution_count": 88,
   "id": "5c4f9bce-44c7-403e-b5ff-0f7bd75d206a",
   "metadata": {},
   "outputs": [
    {
     "name": "stdout",
     "output_type": "stream",
     "text": [
      "11\n"
     ]
    }
   ],
   "source": [
    "add3(2,4,5)"
   ]
  },
  {
   "cell_type": "code",
   "execution_count": 90,
   "id": "a9e06e9b-cd9c-4c25-8a94-9a99aa906994",
   "metadata": {},
   "outputs": [
    {
     "name": "stdout",
     "output_type": "stream",
     "text": [
      "11\n"
     ]
    }
   ],
   "source": [
    "answer =add3(2,4,5)"
   ]
  },
  {
   "cell_type": "code",
   "execution_count": 92,
   "id": "cb682062-0b80-472d-9430-18461a5f2d2a",
   "metadata": {},
   "outputs": [
    {
     "name": "stdout",
     "output_type": "stream",
     "text": [
      "None\n"
     ]
    }
   ],
   "source": [
    "print(answer)"
   ]
  },
  {
   "cell_type": "code",
   "execution_count": 99,
   "id": "83d082d0-a7e4-4ba7-96ae-fb3193203f45",
   "metadata": {},
   "outputs": [
    {
     "ename": "TypeError",
     "evalue": "unsupported operand type(s) for +: 'NoneType' and 'int'",
     "output_type": "error",
     "traceback": [
      "\u001b[1;31m---------------------------------------------------------------------------\u001b[0m",
      "\u001b[1;31mTypeError\u001b[0m                                 Traceback (most recent call last)",
      "Cell \u001b[1;32mIn[99], line 1\u001b[0m\n\u001b[1;32m----> 1\u001b[0m answer\u001b[38;5;241m+\u001b[39m \u001b[38;5;241m6\u001b[39m\n",
      "\u001b[1;31mTypeError\u001b[0m: unsupported operand type(s) for +: 'NoneType' and 'int'"
     ]
    }
   ],
   "source": [
    "answer+ 6"
   ]
  },
  {
   "cell_type": "code",
   "execution_count": null,
   "id": "30bbe913-9183-44f7-8942-aa24b24a44d9",
   "metadata": {},
   "outputs": [],
   "source": [
    "def compute_hypotenus(opposiste,adjacent):\n",
    "    hyp= (opposiste**2+adjacent**2)**0.5\n",
    "    return hyp"
   ]
  },
  {
   "cell_type": "code",
   "execution_count": 101,
   "id": "84bb4c01-a2e6-4a55-9691-20614555ab32",
   "metadata": {},
   "outputs": [],
   "source": [
    "import math"
   ]
  },
  {
   "cell_type": "code",
   "execution_count": 103,
   "id": "29358130-6cc1-4310-9303-1086826463d0",
   "metadata": {},
   "outputs": [
    {
     "data": {
      "text/plain": [
       "3.141592653589793"
      ]
     },
     "execution_count": 103,
     "metadata": {},
     "output_type": "execute_result"
    }
   ],
   "source": [
    "math.pi"
   ]
  },
  {
   "cell_type": "code",
   "execution_count": 105,
   "id": "45973285-33b3-460b-830e-14ac80545e5b",
   "metadata": {},
   "outputs": [
    {
     "data": {
      "text/plain": [
       "5.0"
      ]
     },
     "execution_count": 105,
     "metadata": {},
     "output_type": "execute_result"
    }
   ],
   "source": [
    "math.sqrt(25)"
   ]
  },
  {
   "cell_type": "code",
   "execution_count": 107,
   "id": "c4a0261b-3995-4343-af05-0f72115b5acd",
   "metadata": {},
   "outputs": [],
   "source": [
    "def compute_hypotenus(opposiste,adjacent):\n",
    "    hyp= math.sqrt(opposiste**2+adjacent**2)\n",
    "    return hyp"
   ]
  },
  {
   "cell_type": "code",
   "execution_count": 109,
   "id": "5bacc097-a052-4c42-b754-69623cd8e6d0",
   "metadata": {},
   "outputs": [
    {
     "data": {
      "text/plain": [
       "45.27692569068709"
      ]
     },
     "execution_count": 109,
     "metadata": {},
     "output_type": "execute_result"
    }
   ],
   "source": [
    "compute_hypotenus(45,5)"
   ]
  },
  {
   "cell_type": "code",
   "execution_count": 115,
   "id": "7e79442b-8e55-4d55-8469-8c0925568e02",
   "metadata": {},
   "outputs": [
    {
     "data": {
      "text/plain": [
       "\u001b[1;31mType:\u001b[0m        module\n",
       "\u001b[1;31mString form:\u001b[0m <module 'math' (built-in)>\n",
       "\u001b[1;31mDocstring:\u001b[0m  \n",
       "This module provides access to the mathematical functions\n",
       "defined by the C standard."
      ]
     },
     "metadata": {},
     "output_type": "display_data"
    }
   ],
   "source": []
  },
  {
   "cell_type": "code",
   "execution_count": 117,
   "id": "13d32567-f167-49f5-906d-745d6021a591",
   "metadata": {},
   "outputs": [],
   "source": [
    "\n",
    "def compute_hypotenus2(opposiste,adjacent):\n",
    "    hyp= math.sqrt(math.pow(opposiste,2)+math.pow(adjacent,2))\n",
    "    return hyp"
   ]
  },
  {
   "cell_type": "code",
   "execution_count": 119,
   "id": "15ba8997-5446-487a-9bc0-1d8e5c072bfb",
   "metadata": {},
   "outputs": [
    {
     "data": {
      "text/plain": [
       "5.0"
      ]
     },
     "execution_count": 119,
     "metadata": {},
     "output_type": "execute_result"
    }
   ],
   "source": [
    "compute_hypotenus2(3,4)"
   ]
  },
  {
   "cell_type": "code",
   "execution_count": 123,
   "id": "e26a382a-d034-4772-9564-0f6ef6a5433a",
   "metadata": {},
   "outputs": [
    {
     "data": {
      "text/plain": [
       "16"
      ]
     },
     "execution_count": 123,
     "metadata": {},
     "output_type": "execute_result"
    }
   ],
   "source": [
    "pow(4,2)"
   ]
  },
  {
   "cell_type": "code",
   "execution_count": 127,
   "id": "4ae15cac-7d89-4df3-bc5d-4c4c07a4794b",
   "metadata": {},
   "outputs": [],
   "source": [
    "from math import sqrt,pi, e"
   ]
  },
  {
   "cell_type": "code",
   "execution_count": 131,
   "id": "647955e7-9a62-425b-b690-91564a9dddbe",
   "metadata": {},
   "outputs": [],
   "source": [
    "def compute_hypotenus3(opposiste,adjacent):\n",
    "    hyp= sqrt(pow(opposiste,2)+pow(adjacent,2))\n",
    "    return hyp"
   ]
  },
  {
   "cell_type": "code",
   "execution_count": 133,
   "id": "45528334-f86d-4d95-96b2-74ee3b531a81",
   "metadata": {},
   "outputs": [
    {
     "data": {
      "text/plain": [
       "5.0"
      ]
     },
     "execution_count": 133,
     "metadata": {},
     "output_type": "execute_result"
    }
   ],
   "source": [
    "compute_hypotenus3(3,4)"
   ]
  },
  {
   "cell_type": "code",
   "execution_count": 135,
   "id": "0c6b0492-4558-4907-b26d-8c6a22990f5e",
   "metadata": {},
   "outputs": [
    {
     "data": {
      "text/plain": [
       "3.141592653589793"
      ]
     },
     "execution_count": 135,
     "metadata": {},
     "output_type": "execute_result"
    }
   ],
   "source": [
    "pi"
   ]
  },
  {
   "cell_type": "code",
   "execution_count": 137,
   "id": "e0728486-501d-4aae-a1f5-f3a6a43c8a56",
   "metadata": {},
   "outputs": [
    {
     "data": {
      "text/plain": [
       "2.718281828459045"
      ]
     },
     "execution_count": 137,
     "metadata": {},
     "output_type": "execute_result"
    }
   ],
   "source": [
    "e"
   ]
  },
  {
   "cell_type": "code",
   "execution_count": 139,
   "id": "1afdfc27-46aa-48e2-a830-fd998b1be97f",
   "metadata": {},
   "outputs": [
    {
     "data": {
      "text/plain": [
       "15.707963267948966"
      ]
     },
     "execution_count": 139,
     "metadata": {},
     "output_type": "execute_result"
    }
   ],
   "source": [
    "pi*compute_hypotenus3(3,4)"
   ]
  },
  {
   "cell_type": "code",
   "execution_count": 151,
   "id": "1f3e56b0-3949-4a59-a719-67524bb0ff23",
   "metadata": {},
   "outputs": [],
   "source": [
    "def taxi_fare(distance):\n",
    "    base_fare=4\n",
    "    distance_in_metres=distance*1000\n",
    "    if distance_in_metres <140:\n",
    "        return base_fare\n",
    "    else:\n",
    "        return base_fare+distance_in_metres*(0.25/140)"
   ]
  },
  {
   "cell_type": "code",
   "execution_count": 153,
   "id": "f24d32f9-e9ef-4b19-a0c5-1c46de8a30f6",
   "metadata": {},
   "outputs": [
    {
     "name": "stdout",
     "output_type": "stream",
     "text": [
      "70.0\n"
     ]
    },
    {
     "data": {
      "text/plain": [
       "4"
      ]
     },
     "execution_count": 153,
     "metadata": {},
     "output_type": "execute_result"
    }
   ],
   "source": [
    "taxi_fare(0.07)"
   ]
  },
  {
   "cell_type": "code",
   "execution_count": 155,
   "id": "8f410f7f-9562-4a8b-b010-1dc27b1b0256",
   "metadata": {},
   "outputs": [
    {
     "name": "stdout",
     "output_type": "stream",
     "text": [
      "300.0\n"
     ]
    },
    {
     "data": {
      "text/plain": [
       "4.535714285714286"
      ]
     },
     "execution_count": 155,
     "metadata": {},
     "output_type": "execute_result"
    }
   ],
   "source": [
    "taxi_fare(0.3)"
   ]
  },
  {
   "cell_type": "code",
   "execution_count": null,
   "id": "92e6012b-538d-411d-b5f8-5ccaf4d16905",
   "metadata": {},
   "outputs": [],
   "source": [
    "def taxi_fare(distance):\n",
    "    base_fare=4\n",
    "    distance_in_metres=distance*1000\n",
    "    if distance_in_metres <140:\n",
    "        return base_fare\n",
    "    return base_fare+distance_in_metres*(0.25/140)"
   ]
  },
  {
   "cell_type": "code",
   "execution_count": 173,
   "id": "e251044d-ef4a-4625-a488-9a4122e4c41e",
   "metadata": {},
   "outputs": [],
   "source": [
    "def taxi_fare2(distance):\n",
    "    return 4 if distance*1000<140 else 4+distance*1000*(0.25/140)"
   ]
  },
  {
   "cell_type": "code",
   "execution_count": 169,
   "id": "f0f4a854-cb4d-4197-99ad-a2a4a525c3a6",
   "metadata": {},
   "outputs": [
    {
     "data": {
      "text/plain": [
       "4"
      ]
     },
     "execution_count": 169,
     "metadata": {},
     "output_type": "execute_result"
    }
   ],
   "source": [
    "taxi_fare2(0.07)"
   ]
  },
  {
   "cell_type": "code",
   "execution_count": 171,
   "id": "c4d28bb2-8de4-478c-b9dc-e2bebc313dde",
   "metadata": {},
   "outputs": [
    {
     "data": {
      "text/plain": [
       "4.535714285714286"
      ]
     },
     "execution_count": 171,
     "metadata": {},
     "output_type": "execute_result"
    }
   ],
   "source": [
    "taxi_fare2(0.3)"
   ]
  },
  {
   "cell_type": "code",
   "execution_count": null,
   "id": "8ab8552c-0adf-431a-aa9a-e1f9f68880b7",
   "metadata": {},
   "outputs": [],
   "source": [
    "# ternary operators in python"
   ]
  },
  {
   "cell_type": "code",
   "execution_count": 185,
   "id": "f55c0494-48b0-4265-8b5a-66e25ebaad65",
   "metadata": {},
   "outputs": [],
   "source": [
    "def shipping_calculator(number_of_items):\n",
    "    if number_of_items==1:\n",
    "        return 10.95\n",
    "    return 10.95+2.95*(number_of_items-1)\n",
    "    "
   ]
  },
  {
   "cell_type": "code",
   "execution_count": 187,
   "id": "91c6e6df-b9e9-4041-9889-e30a96a2aca7",
   "metadata": {},
   "outputs": [
    {
     "data": {
      "text/plain": [
       "10.95"
      ]
     },
     "execution_count": 187,
     "metadata": {},
     "output_type": "execute_result"
    }
   ],
   "source": [
    "shipping_calculator(1)"
   ]
  },
  {
   "cell_type": "code",
   "execution_count": 189,
   "id": "e6c1fcb6-98ef-4f12-b140-6757186c4854",
   "metadata": {},
   "outputs": [
    {
     "data": {
      "text/plain": [
       "13.899999999999999"
      ]
     },
     "execution_count": 189,
     "metadata": {},
     "output_type": "execute_result"
    }
   ],
   "source": [
    "shipping_calculator(2)"
   ]
  },
  {
   "cell_type": "code",
   "execution_count": 191,
   "id": "fa56c9c4-5ab8-4ab1-9593-445ae1dc60ca",
   "metadata": {},
   "outputs": [],
   "source": [
    "def shipping_calculator(number_of_items):\n",
    "    return 10.95+2.95*(number_of_items-1)"
   ]
  },
  {
   "cell_type": "code",
   "execution_count": null,
   "id": "289225f8-b46a-4eb4-9a9d-da5518456754",
   "metadata": {},
   "outputs": [],
   "source": [
    "items_count=int(input(\"How many items?: \"))\n",
    "result=shipping_calculator(items_count)\n",
    "print(\"Your shipping fee\")"
   ]
  }
 ],
 "metadata": {
  "kernelspec": {
   "display_name": "Python 3 (ipykernel)",
   "language": "python",
   "name": "python3"
  },
  "language_info": {
   "codemirror_mode": {
    "name": "ipython",
    "version": 3
   },
   "file_extension": ".py",
   "mimetype": "text/x-python",
   "name": "python",
   "nbconvert_exporter": "python",
   "pygments_lexer": "ipython3",
   "version": "3.12.7"
  }
 },
 "nbformat": 4,
 "nbformat_minor": 5
}
