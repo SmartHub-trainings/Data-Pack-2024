{
 "cells": [
  {
   "cell_type": "code",
   "execution_count": 14,
   "id": "a070bac1",
   "metadata": {},
   "outputs": [
    {
     "name": "stdout",
     "output_type": "stream",
     "text": [
      "9\n",
      "uz7iseehn\n"
     ]
    }
   ],
   "source": [
    "from random import randint,choice\n",
    "password_length=randint(7,10)\n",
    "print(password_length)\n",
    "alphabets=\"abcdefghijklmnopqrstuvwxyz0123456789\"\n",
    "password=\"\"\n",
    "for i in range(password_length):\n",
    "    password = password+choice(alphabets)\n",
    "print(password)"
   ]
  },
  {
   "cell_type": "code",
   "execution_count": 15,
   "id": "8bf0487d",
   "metadata": {},
   "outputs": [],
   "source": [
    "a=12\n",
    "a =a+4"
   ]
  },
  {
   "cell_type": "code",
   "execution_count": 16,
   "id": "c3c3177e",
   "metadata": {},
   "outputs": [
    {
     "data": {
      "text/plain": [
       "16"
      ]
     },
     "execution_count": 16,
     "metadata": {},
     "output_type": "execute_result"
    }
   ],
   "source": [
    "a"
   ]
  },
  {
   "cell_type": "code",
   "execution_count": 20,
   "id": "e7ba0ae5",
   "metadata": {},
   "outputs": [],
   "source": [
    "pas=\"\""
   ]
  },
  {
   "cell_type": "code",
   "execution_count": 21,
   "id": "4698cc72",
   "metadata": {},
   "outputs": [],
   "source": [
    "pas = pas +\"2\""
   ]
  },
  {
   "cell_type": "code",
   "execution_count": 22,
   "id": "ae37db25",
   "metadata": {},
   "outputs": [
    {
     "data": {
      "text/plain": [
       "'2'"
      ]
     },
     "execution_count": 22,
     "metadata": {},
     "output_type": "execute_result"
    }
   ],
   "source": [
    "pas"
   ]
  },
  {
   "cell_type": "code",
   "execution_count": 23,
   "id": "326eb8f7",
   "metadata": {},
   "outputs": [],
   "source": [
    "pas = pas +\"t\""
   ]
  },
  {
   "cell_type": "code",
   "execution_count": 24,
   "id": "b1ca8e82",
   "metadata": {},
   "outputs": [
    {
     "data": {
      "text/plain": [
       "'2t'"
      ]
     },
     "execution_count": 24,
     "metadata": {},
     "output_type": "execute_result"
    }
   ],
   "source": [
    "pas"
   ]
  },
  {
   "cell_type": "code",
   "execution_count": 25,
   "id": "91fbeea7",
   "metadata": {},
   "outputs": [],
   "source": [
    "pas= pas +\"y\""
   ]
  },
  {
   "cell_type": "code",
   "execution_count": 26,
   "id": "20d336cd",
   "metadata": {},
   "outputs": [
    {
     "data": {
      "text/plain": [
       "'2ty'"
      ]
     },
     "execution_count": 26,
     "metadata": {},
     "output_type": "execute_result"
    }
   ],
   "source": [
    "pas"
   ]
  },
  {
   "cell_type": "code",
   "execution_count": 29,
   "id": "ebabbd76",
   "metadata": {},
   "outputs": [
    {
     "name": "stdout",
     "output_type": "stream",
     "text": [
      "9\n",
      "nwk6btdbe\n"
     ]
    }
   ],
   "source": [
    "from random import randint,choices\n",
    "password_length=randint(7,10)\n",
    "print(password_length)\n",
    "alphabets=\"abcdefghijklmnopqrstuvwxyz0123456789\"\n",
    "picked=choices(\"abcdefghijklmnopqrstuvwxyz0123456789\",k=password_length)\n",
    "password = \"\".join(picked)\n",
    "print(password)"
   ]
  },
  {
   "cell_type": "code",
   "execution_count": 30,
   "id": "2ab933d1",
   "metadata": {},
   "outputs": [
    {
     "data": {
      "text/plain": [
       "'!'"
      ]
     },
     "execution_count": 30,
     "metadata": {},
     "output_type": "execute_result"
    }
   ],
   "source": [
    "chr(33)"
   ]
  },
  {
   "cell_type": "code",
   "execution_count": 31,
   "id": "183f0741",
   "metadata": {},
   "outputs": [
    {
     "data": {
      "text/plain": [
       "'~'"
      ]
     },
     "execution_count": 31,
     "metadata": {},
     "output_type": "execute_result"
    }
   ],
   "source": [
    "chr(126)"
   ]
  },
  {
   "cell_type": "code",
   "execution_count": 38,
   "id": "70471d92",
   "metadata": {},
   "outputs": [
    {
     "name": "stdout",
     "output_type": "stream",
     "text": [
      "?Q/|z.[\n"
     ]
    }
   ],
   "source": [
    "from random import randint,choice\n",
    "password_length=randint(7,10)\n",
    "# print(password_length)\n",
    "\n",
    "password=\"\"\n",
    "for i in range(password_length):\n",
    "    gen =randint(33,126)\n",
    "    char=chr(gen)\n",
    "    password +=char\n",
    "print(password)"
   ]
  },
  {
   "cell_type": "code",
   "execution_count": 39,
   "id": "d8ebce3a",
   "metadata": {},
   "outputs": [],
   "source": [
    "from random import randint,choice\n",
    "def gen_password():\n",
    "    password_length=randint(7,10)\n",
    "\n",
    "    password=\"\"\n",
    "    for i in range(password_length):\n",
    "        gen =randint(33,126)\n",
    "        char=chr(gen)\n",
    "        password +=char\n",
    "    return password\n",
    "    "
   ]
  },
  {
   "cell_type": "code",
   "execution_count": 43,
   "id": "ca620bb3",
   "metadata": {},
   "outputs": [
    {
     "data": {
      "text/plain": [
       "'R\\\\,w1#K'"
      ]
     },
     "execution_count": 43,
     "metadata": {},
     "output_type": "execute_result"
    }
   ],
   "source": [
    "gen_password()"
   ]
  },
  {
   "cell_type": "code",
   "execution_count": 44,
   "id": "713d37a9",
   "metadata": {},
   "outputs": [],
   "source": [
    "def get_ordinal(n):\n",
    "    number={\n",
    "        1:\"first\",\n",
    "        2:\"second\",\n",
    "        3:\"third\",\n",
    "        4:\"fourth\"\n",
    "    }\n",
    "    return number[n]"
   ]
  },
  {
   "cell_type": "code",
   "execution_count": 45,
   "id": "d4b8c8e3",
   "metadata": {},
   "outputs": [
    {
     "data": {
      "text/plain": [
       "'first'"
      ]
     },
     "execution_count": 45,
     "metadata": {},
     "output_type": "execute_result"
    }
   ],
   "source": [
    "get_ordinal(1)"
   ]
  },
  {
   "cell_type": "code",
   "execution_count": 46,
   "id": "3d903a6c",
   "metadata": {},
   "outputs": [
    {
     "data": {
      "text/plain": [
       "'third'"
      ]
     },
     "execution_count": 46,
     "metadata": {},
     "output_type": "execute_result"
    }
   ],
   "source": [
    "get_ordinal(3)"
   ]
  },
  {
   "cell_type": "code",
   "execution_count": 47,
   "id": "3126355e",
   "metadata": {},
   "outputs": [
    {
     "data": {
      "text/plain": [
       "'fourth'"
      ]
     },
     "execution_count": 47,
     "metadata": {},
     "output_type": "execute_result"
    }
   ],
   "source": [
    "get_ordinal(4)"
   ]
  },
  {
   "cell_type": "code",
   "execution_count": 48,
   "id": "e2c7a2e8",
   "metadata": {},
   "outputs": [
    {
     "name": "stdout",
     "output_type": "stream",
     "text": [
      "1: first\n",
      "2: second\n",
      "3: third\n",
      "4: fourth\n"
     ]
    }
   ],
   "source": [
    "for i in range(1,5):\n",
    "    print(f\"{i}: {get_ordinal(i)}\")\n",
    "    "
   ]
  },
  {
   "cell_type": "code",
   "execution_count": 49,
   "id": "ae715812",
   "metadata": {},
   "outputs": [
    {
     "ename": "KeyError",
     "evalue": "5",
     "output_type": "error",
     "traceback": [
      "\u001b[0;31m---------------------------------------------------------------------------\u001b[0m",
      "\u001b[0;31mKeyError\u001b[0m                                  Traceback (most recent call last)",
      "\u001b[0;32m/var/folders/3d/pkg6m4_x11s9hw4jt5sb8zp00000gn/T/ipykernel_49815/113334123.py\u001b[0m in \u001b[0;36m<module>\u001b[0;34m\u001b[0m\n\u001b[0;32m----> 1\u001b[0;31m \u001b[0mget_ordinal\u001b[0m\u001b[0;34m(\u001b[0m\u001b[0;36m5\u001b[0m\u001b[0;34m)\u001b[0m\u001b[0;34m\u001b[0m\u001b[0;34m\u001b[0m\u001b[0m\n\u001b[0m",
      "\u001b[0;32m/var/folders/3d/pkg6m4_x11s9hw4jt5sb8zp00000gn/T/ipykernel_49815/2964962222.py\u001b[0m in \u001b[0;36mget_ordinal\u001b[0;34m(n)\u001b[0m\n\u001b[1;32m      6\u001b[0m         \u001b[0;36m4\u001b[0m\u001b[0;34m:\u001b[0m\u001b[0;34m\"fourth\"\u001b[0m\u001b[0;34m\u001b[0m\u001b[0;34m\u001b[0m\u001b[0m\n\u001b[1;32m      7\u001b[0m     }\n\u001b[0;32m----> 8\u001b[0;31m     \u001b[0;32mreturn\u001b[0m \u001b[0mnumber\u001b[0m\u001b[0;34m[\u001b[0m\u001b[0mn\u001b[0m\u001b[0;34m]\u001b[0m\u001b[0;34m\u001b[0m\u001b[0;34m\u001b[0m\u001b[0m\n\u001b[0m",
      "\u001b[0;31mKeyError\u001b[0m: 5"
     ]
    }
   ],
   "source": [
    "get_ordinal(5)"
   ]
  },
  {
   "cell_type": "code",
   "execution_count": 50,
   "id": "3fd54198",
   "metadata": {},
   "outputs": [],
   "source": [
    "nick_names ={\n",
    "    \"Valentine\":\"Son of Evil\",\n",
    "    \"David\":\"Ndu\",\n",
    "    \"Precious\":\"Candy\",\n",
    "    \"Ola\":\"Sec\",\n",
    "    \"Ovoke\":\"Evans P\",\n",
    "    \"Henry\":\"Nada\",\n",
    "    \"Mike\":\"Ike\",\n",
    "    \"Gideon\":\"JC\"\n",
    "    \n",
    "    \n",
    "}"
   ]
  },
  {
   "cell_type": "code",
   "execution_count": 51,
   "id": "62404a4f",
   "metadata": {},
   "outputs": [
    {
     "data": {
      "text/plain": [
       "'Son of Evil'"
      ]
     },
     "execution_count": 51,
     "metadata": {},
     "output_type": "execute_result"
    }
   ],
   "source": [
    "nick_names[\"Valentine\"]"
   ]
  },
  {
   "cell_type": "code",
   "execution_count": 52,
   "id": "97d81e31",
   "metadata": {},
   "outputs": [
    {
     "data": {
      "text/plain": [
       "'Nada'"
      ]
     },
     "execution_count": 52,
     "metadata": {},
     "output_type": "execute_result"
    }
   ],
   "source": [
    "nick_names[\"Henry\"]"
   ]
  },
  {
   "cell_type": "code",
   "execution_count": 53,
   "id": "70c94d77",
   "metadata": {},
   "outputs": [
    {
     "data": {
      "text/plain": [
       "'Ike'"
      ]
     },
     "execution_count": 53,
     "metadata": {},
     "output_type": "execute_result"
    }
   ],
   "source": [
    "nick_names[\"Mike\"]"
   ]
  },
  {
   "cell_type": "code",
   "execution_count": 54,
   "id": "77d32c4a",
   "metadata": {},
   "outputs": [
    {
     "data": {
      "text/plain": [
       "'Ndu'"
      ]
     },
     "execution_count": 54,
     "metadata": {},
     "output_type": "execute_result"
    }
   ],
   "source": [
    "nick_names[\"David\"]"
   ]
  },
  {
   "cell_type": "code",
   "execution_count": 55,
   "id": "fa629094",
   "metadata": {},
   "outputs": [
    {
     "ename": "KeyError",
     "evalue": "'Smith'",
     "output_type": "error",
     "traceback": [
      "\u001b[0;31m---------------------------------------------------------------------------\u001b[0m",
      "\u001b[0;31mKeyError\u001b[0m                                  Traceback (most recent call last)",
      "\u001b[0;32m/var/folders/3d/pkg6m4_x11s9hw4jt5sb8zp00000gn/T/ipykernel_49815/1544925757.py\u001b[0m in \u001b[0;36m<module>\u001b[0;34m\u001b[0m\n\u001b[0;32m----> 1\u001b[0;31m \u001b[0mnick_names\u001b[0m\u001b[0;34m[\u001b[0m\u001b[0;34m\"Smith\"\u001b[0m\u001b[0;34m]\u001b[0m\u001b[0;34m\u001b[0m\u001b[0;34m\u001b[0m\u001b[0m\n\u001b[0m",
      "\u001b[0;31mKeyError\u001b[0m: 'Smith'"
     ]
    }
   ],
   "source": [
    "nick_names[\"Smith\"]"
   ]
  },
  {
   "cell_type": "code",
   "execution_count": 56,
   "id": "c1d10525",
   "metadata": {},
   "outputs": [
    {
     "data": {
      "text/plain": [
       "'Ndu'"
      ]
     },
     "execution_count": 56,
     "metadata": {},
     "output_type": "execute_result"
    }
   ],
   "source": [
    "nick_names.get(\"David\")"
   ]
  },
  {
   "cell_type": "code",
   "execution_count": 57,
   "id": "5ab26afc",
   "metadata": {},
   "outputs": [
    {
     "data": {
      "text/plain": [
       "'Candy'"
      ]
     },
     "execution_count": 57,
     "metadata": {},
     "output_type": "execute_result"
    }
   ],
   "source": [
    "nick_names.get(\"Precious\")"
   ]
  },
  {
   "cell_type": "code",
   "execution_count": 59,
   "id": "edcd5295",
   "metadata": {},
   "outputs": [
    {
     "name": "stdout",
     "output_type": "stream",
     "text": [
      "None\n"
     ]
    }
   ],
   "source": [
    "print(nick_names.get(\"Smith\"))"
   ]
  },
  {
   "cell_type": "code",
   "execution_count": 60,
   "id": "1233eca8",
   "metadata": {},
   "outputs": [
    {
     "name": "stdout",
     "output_type": "stream",
     "text": [
      "Not Found\n"
     ]
    }
   ],
   "source": [
    "print(nick_names.get(\"Smith\",\"Not Found\"))"
   ]
  },
  {
   "cell_type": "code",
   "execution_count": 61,
   "id": "368b8f8c",
   "metadata": {},
   "outputs": [
    {
     "name": "stdout",
     "output_type": "stream",
     "text": [
      "\n"
     ]
    }
   ],
   "source": [
    "print(nick_names.get(\"Smith\",\"\"))"
   ]
  },
  {
   "cell_type": "code",
   "execution_count": 62,
   "id": "285722e2",
   "metadata": {},
   "outputs": [],
   "source": [
    "def get_ordinal(n):\n",
    "    number={\n",
    "        1:\"first\",\n",
    "        2:\"second\",\n",
    "        3:\"third\",\n",
    "        4:\"fourth\"\n",
    "    }\n",
    "    return number.get(n,\"\")"
   ]
  },
  {
   "cell_type": "code",
   "execution_count": 63,
   "id": "bdce658d",
   "metadata": {},
   "outputs": [
    {
     "data": {
      "text/plain": [
       "'first'"
      ]
     },
     "execution_count": 63,
     "metadata": {},
     "output_type": "execute_result"
    }
   ],
   "source": [
    "get_ordinal(1)"
   ]
  },
  {
   "cell_type": "code",
   "execution_count": 64,
   "id": "5755ba00",
   "metadata": {},
   "outputs": [
    {
     "data": {
      "text/plain": [
       "''"
      ]
     },
     "execution_count": 64,
     "metadata": {},
     "output_type": "execute_result"
    }
   ],
   "source": [
    "get_ordinal(5)"
   ]
  },
  {
   "cell_type": "code",
   "execution_count": 65,
   "id": "f698a045",
   "metadata": {},
   "outputs": [],
   "source": [
    "import string"
   ]
  },
  {
   "cell_type": "code",
   "execution_count": 66,
   "id": "ed8f1ff1",
   "metadata": {},
   "outputs": [],
   "source": [
    "string?"
   ]
  },
  {
   "cell_type": "code",
   "execution_count": 67,
   "id": "b21213a6",
   "metadata": {},
   "outputs": [
    {
     "data": {
      "text/plain": [
       "'abcdefghijklmnopqrstuvwxyzABCDEFGHIJKLMNOPQRSTUVWXYZ'"
      ]
     },
     "execution_count": 67,
     "metadata": {},
     "output_type": "execute_result"
    }
   ],
   "source": [
    "string.ascii_letters"
   ]
  },
  {
   "cell_type": "code",
   "execution_count": 68,
   "id": "50bbb320",
   "metadata": {},
   "outputs": [
    {
     "data": {
      "text/plain": [
       "'0123456789'"
      ]
     },
     "execution_count": 68,
     "metadata": {},
     "output_type": "execute_result"
    }
   ],
   "source": [
    "string.digits"
   ]
  },
  {
   "cell_type": "code",
   "execution_count": 70,
   "id": "a96202f3",
   "metadata": {},
   "outputs": [
    {
     "data": {
      "text/plain": [
       "'abcdefghijklmnopqrstuvwxyz'"
      ]
     },
     "execution_count": 70,
     "metadata": {},
     "output_type": "execute_result"
    }
   ],
   "source": [
    "string.ascii_lowercase"
   ]
  },
  {
   "cell_type": "code",
   "execution_count": 71,
   "id": "56a820aa",
   "metadata": {},
   "outputs": [
    {
     "data": {
      "text/plain": [
       "'ABCDEFGHIJKLMNOPQRSTUVWXYZ'"
      ]
     },
     "execution_count": 71,
     "metadata": {},
     "output_type": "execute_result"
    }
   ],
   "source": [
    "string.ascii_uppercase"
   ]
  },
  {
   "cell_type": "code",
   "execution_count": 82,
   "id": "7dd0952c",
   "metadata": {},
   "outputs": [
    {
     "name": "stdout",
     "output_type": "stream",
     "text": [
      "ABCDEFGHIJKLMNOPQRSTUVWXYZ\n",
      "abcdefghijklmnopqrstuvwxyz\n",
      "0\n"
     ]
    },
    {
     "data": {
      "text/plain": [
       "'d'"
      ]
     },
     "execution_count": 82,
     "metadata": {},
     "output_type": "execute_result"
    }
   ],
   "source": [
    "upper_cases = string.ascii_uppercase\n",
    "lower_cases = string.ascii_lowercase\n",
    "print(upper_cases)\n",
    "print(lower_cases)\n",
    "message =\"a\"\n",
    "pos=lower_cases.index(message)\n",
    "print(pos)\n",
    "new_pos = pos+3\n",
    "if new_pos>25:\n",
    "    new_pos= new_pos-26\n",
    "lower_cases[new_pos]"
   ]
  },
  {
   "cell_type": "code",
   "execution_count": 88,
   "id": "ce8b10ac",
   "metadata": {},
   "outputs": [
    {
     "name": "stdout",
     "output_type": "stream",
     "text": [
      "wklv lv kdsshqlqj eb 12sp\n"
     ]
    }
   ],
   "source": [
    "upper_cases = string.ascii_uppercase\n",
    "lower_cases = string.ascii_lowercase\n",
    "message =\"this is happening by 12pm\"\n",
    "cipher_text=\"\"\n",
    "for char in message:\n",
    "    if not char.isalpha():\n",
    "        cipher_text +=char\n",
    "    else:\n",
    "        pos=lower_cases.index(char)\n",
    "        new_pos = pos+3\n",
    "        if new_pos>25:\n",
    "            new_pos= new_pos-26\n",
    "        new_char=lower_cases[new_pos]\n",
    "        cipher_text +=new_char\n",
    "print(cipher_text)"
   ]
  },
  {
   "cell_type": "code",
   "execution_count": 95,
   "id": "242ccec0",
   "metadata": {},
   "outputs": [
    {
     "name": "stdout",
     "output_type": "stream",
     "text": [
      "Wklv lv kdsshqlqj eb 12SP\n"
     ]
    }
   ],
   "source": [
    "upper_cases = string.ascii_uppercase\n",
    "lower_cases = string.ascii_lowercase\n",
    "message =\"This is happening by 12PM\"\n",
    "cipher_text=\"\"\n",
    "for char in message:\n",
    "    if not char.isalpha():\n",
    "        cipher_text +=char\n",
    "    else:\n",
    "        cases= lower_cases if char.islower() else upper_cases\n",
    "       \n",
    "        pos=cases.index(char)\n",
    "        new_pos = pos+3\n",
    "        if new_pos>25:\n",
    "            new_pos= new_pos-26\n",
    "        new_char=cases[new_pos]\n",
    "        cipher_text +=new_char\n",
    "print(cipher_text)"
   ]
  },
  {
   "cell_type": "code",
   "execution_count": 96,
   "id": "379192ce",
   "metadata": {},
   "outputs": [],
   "source": [
    "def caeser_cipher(message,shift=3):\n",
    "    upper_cases = string.ascii_uppercase\n",
    "    lower_cases = string.ascii_lowercase\n",
    "    cipher_text=\"\"\n",
    "    for char in message:\n",
    "        if not char.isalpha():\n",
    "            cipher_text +=char\n",
    "        else:\n",
    "            cases= lower_cases if char.islower() else upper_cases\n",
    "\n",
    "            pos=cases.index(char)\n",
    "            new_pos = pos+shift\n",
    "            if new_pos>25:\n",
    "                new_pos= new_pos-26\n",
    "            new_char=cases[new_pos]\n",
    "            cipher_text +=new_char\n",
    "    return cipher_text\n",
    "    "
   ]
  },
  {
   "cell_type": "code",
   "execution_count": 97,
   "id": "ac3e9ea3",
   "metadata": {},
   "outputs": [
    {
     "data": {
      "text/plain": [
       "'Frph khuh'"
      ]
     },
     "execution_count": 97,
     "metadata": {},
     "output_type": "execute_result"
    }
   ],
   "source": [
    "caeser_cipher(\"Come here\")"
   ]
  },
  {
   "cell_type": "code",
   "execution_count": 98,
   "id": "8d5cc2b1",
   "metadata": {},
   "outputs": [
    {
     "data": {
      "text/plain": [
       "'Htrj mjwj'"
      ]
     },
     "execution_count": 98,
     "metadata": {},
     "output_type": "execute_result"
    }
   ],
   "source": [
    "caeser_cipher(\"Come here\",5)"
   ]
  },
  {
   "cell_type": "code",
   "execution_count": 99,
   "id": "797da40a",
   "metadata": {},
   "outputs": [
    {
     "data": {
      "text/plain": [
       "'Come here'"
      ]
     },
     "execution_count": 99,
     "metadata": {},
     "output_type": "execute_result"
    }
   ],
   "source": [
    "caeser_cipher('Frph khuh',-3)"
   ]
  },
  {
   "cell_type": "code",
   "execution_count": 100,
   "id": "115b49b1",
   "metadata": {},
   "outputs": [
    {
     "data": {
      "text/plain": [
       "'Come here'"
      ]
     },
     "execution_count": 100,
     "metadata": {},
     "output_type": "execute_result"
    }
   ],
   "source": [
    "caeser_cipher('Htrj mjwj',-5)"
   ]
  },
  {
   "cell_type": "code",
   "execution_count": 101,
   "id": "3246919a",
   "metadata": {},
   "outputs": [
    {
     "data": {
      "text/plain": [
       "'Wklv lv mxvw olnh Pdjlf'"
      ]
     },
     "execution_count": 101,
     "metadata": {},
     "output_type": "execute_result"
    }
   ],
   "source": [
    "caeser_cipher(\"This is just like Magic\")"
   ]
  },
  {
   "cell_type": "code",
   "execution_count": 102,
   "id": "2de734cb",
   "metadata": {},
   "outputs": [
    {
     "data": {
      "text/plain": [
       "'This is just like Magic'"
      ]
     },
     "execution_count": 102,
     "metadata": {},
     "output_type": "execute_result"
    }
   ],
   "source": [
    "caeser_cipher('Wklv lv mxvw olnh Pdjlf',-3)"
   ]
  },
  {
   "cell_type": "code",
   "execution_count": 104,
   "id": "8a949aab",
   "metadata": {},
   "outputs": [
    {
     "name": "stdout",
     "output_type": "stream",
     "text": [
      "Enter your name: Smith\n",
      "Enter your name: Henry\n",
      "Enter your name: David\n",
      "['Smith', 'Henry', 'David']\n"
     ]
    }
   ],
   "source": [
    "names =[]\n",
    "for i in range(3):\n",
    "    name = input(\"Enter your name: \")\n",
    "    names.append(name)\n",
    "print(names)"
   ]
  },
  {
   "cell_type": "code",
   "execution_count": 105,
   "id": "edf8e0fb",
   "metadata": {},
   "outputs": [],
   "source": [
    "def get_names(number_of_names):\n",
    "    names =[]\n",
    "    for i in range(number_of_names):\n",
    "        name = input(\"Enter your name: \")\n",
    "        names.append(name)\n",
    "    return names\n",
    "    "
   ]
  },
  {
   "cell_type": "code",
   "execution_count": 106,
   "id": "95c8680f",
   "metadata": {},
   "outputs": [
    {
     "name": "stdout",
     "output_type": "stream",
     "text": [
      "Enter your name: Smith\n"
     ]
    },
    {
     "data": {
      "text/plain": [
       "['Smith']"
      ]
     },
     "execution_count": 106,
     "metadata": {},
     "output_type": "execute_result"
    }
   ],
   "source": [
    "get_names(1)"
   ]
  },
  {
   "cell_type": "code",
   "execution_count": 107,
   "id": "3feddc57",
   "metadata": {},
   "outputs": [
    {
     "name": "stdout",
     "output_type": "stream",
     "text": [
      "Enter your name: Smith\n",
      "Enter your name: Henry\n"
     ]
    },
    {
     "data": {
      "text/plain": [
       "['Smith', 'Henry']"
      ]
     },
     "execution_count": 107,
     "metadata": {},
     "output_type": "execute_result"
    }
   ],
   "source": [
    "get_names(2)"
   ]
  },
  {
   "cell_type": "code",
   "execution_count": 108,
   "id": "b0b5a635",
   "metadata": {},
   "outputs": [
    {
     "name": "stdout",
     "output_type": "stream",
     "text": [
      "Enter your name: Great\n",
      "Enter your name: Val\n",
      "Enter your name: youth\n"
     ]
    },
    {
     "data": {
      "text/plain": [
       "['Great', 'Val', 'youth']"
      ]
     },
     "execution_count": 108,
     "metadata": {},
     "output_type": "execute_result"
    }
   ],
   "source": [
    "get_names(3)"
   ]
  },
  {
   "cell_type": "code",
   "execution_count": null,
   "id": "1e964508",
   "metadata": {},
   "outputs": [],
   "source": []
  }
 ],
 "metadata": {
  "kernelspec": {
   "display_name": "Python 3 (ipykernel)",
   "language": "python",
   "name": "python3"
  },
  "language_info": {
   "codemirror_mode": {
    "name": "ipython",
    "version": 3
   },
   "file_extension": ".py",
   "mimetype": "text/x-python",
   "name": "python",
   "nbconvert_exporter": "python",
   "pygments_lexer": "ipython3",
   "version": "3.9.7"
  }
 },
 "nbformat": 4,
 "nbformat_minor": 5
}
