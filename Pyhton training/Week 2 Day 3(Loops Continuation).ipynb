{
 "cells": [
  {
   "cell_type": "markdown",
   "id": "e4bda8ee-40b4-4275-96fd-0c562a487d74",
   "metadata": {},
   "source": [
    "# Conditional Loop"
   ]
  },
  {
   "cell_type": "markdown",
   "id": "5bf0a4f8-2c46-4829-8cd7-952e86b84dc8",
   "metadata": {},
   "source": [
    "## While Loop"
   ]
  },
  {
   "cell_type": "code",
   "execution_count": null,
   "id": "46b5741c-b256-4056-8575-6f637821333b",
   "metadata": {},
   "outputs": [],
   "source": [
    "for i in range(5):\n",
    "    print(\"Hello\")"
   ]
  },
  {
   "cell_type": "code",
   "execution_count": null,
   "id": "7e454c7d-9b7a-4ce5-b30d-842edbe5ed15",
   "metadata": {},
   "outputs": [],
   "source": [
    "# while cond:\n",
    "#     code_to_run_if_cond_iss_true"
   ]
  },
  {
   "cell_type": "code",
   "execution_count": null,
   "id": "d11c8479-2971-4083-88e4-27cf1c34bf85",
   "metadata": {},
   "outputs": [],
   "source": [
    "count=0\n",
    "while count<5:\n",
    "    print(\"Hello\")"
   ]
  },
  {
   "cell_type": "code",
   "execution_count": 1,
   "id": "8a8acb84-4b9e-49cb-b94d-153977a9ebe2",
   "metadata": {},
   "outputs": [
    {
     "name": "stdout",
     "output_type": "stream",
     "text": [
      "Hello\n",
      "Hello\n",
      "Hello\n",
      "Hello\n",
      "Hello\n"
     ]
    }
   ],
   "source": [
    "count=0\n",
    "while count<5:\n",
    "    print(\"Hello\")\n",
    "    count = count+1"
   ]
  },
  {
   "cell_type": "code",
   "execution_count": 3,
   "id": "824936e7-5385-4c39-bf6c-3c69ee1ff355",
   "metadata": {},
   "outputs": [
    {
     "name": "stdout",
     "output_type": "stream",
     "text": [
      "Hello\n",
      "Hello\n",
      "Hello\n",
      "Hello\n",
      "Hello\n"
     ]
    }
   ],
   "source": [
    "count=0\n",
    "while True:\n",
    "    print(\"Hello\")\n",
    "    count = count+1\n",
    "    if count==5:\n",
    "        break"
   ]
  },
  {
   "cell_type": "code",
   "execution_count": 5,
   "id": "76ebb923-44f0-45bb-9251-c6702e6d4c83",
   "metadata": {},
   "outputs": [
    {
     "name": "stdout",
     "output_type": "stream",
     "text": [
      "Hello\n",
      "Hello\n",
      "Hello\n",
      "Hello\n"
     ]
    }
   ],
   "source": [
    "count=0\n",
    "while True:\n",
    "    count = count+1\n",
    "    if count==5:\n",
    "        break\n",
    "    print(\"Hello\")\n",
    "    "
   ]
  },
  {
   "cell_type": "markdown",
   "id": "57ba7ff3-7367-415f-bcb1-3b295d419377",
   "metadata": {},
   "source": [
    "### 61"
   ]
  },
  {
   "cell_type": "code",
   "execution_count": 16,
   "id": "cf932529-f8cb-47b4-beeb-700dd8dab02a",
   "metadata": {},
   "outputs": [
    {
     "name": "stdin",
     "output_type": "stream",
     "text": [
      "Enter a value:  7\n"
     ]
    },
    {
     "name": "stdout",
     "output_type": "stream",
     "text": [
      "You entered a/an 7.0\n",
      "Total: 7.0\n"
     ]
    },
    {
     "name": "stdin",
     "output_type": "stream",
     "text": [
      "Enter a value:  5\n"
     ]
    },
    {
     "name": "stdout",
     "output_type": "stream",
     "text": [
      "You entered a/an 5.0\n",
      "Total: 12.0\n"
     ]
    },
    {
     "name": "stdin",
     "output_type": "stream",
     "text": [
      "Enter a value:  7\n"
     ]
    },
    {
     "name": "stdout",
     "output_type": "stream",
     "text": [
      "You entered a/an 7.0\n",
      "Total: 19.0\n"
     ]
    },
    {
     "name": "stdin",
     "output_type": "stream",
     "text": [
      "Enter a value:  4\n"
     ]
    },
    {
     "name": "stdout",
     "output_type": "stream",
     "text": [
      "You entered a/an 4.0\n",
      "Total: 23.0\n"
     ]
    },
    {
     "name": "stdin",
     "output_type": "stream",
     "text": [
      "Enter a value:  0\n"
     ]
    },
    {
     "name": "stdout",
     "output_type": "stream",
     "text": [
      "You entered a/an 0.0\n"
     ]
    }
   ],
   "source": [
    "total=0\n",
    "while True:\n",
    "    number=float(input(\"Enter a value: \"))\n",
    "    print(f\"You entered a/an {number}\")\n",
    "    if number==0:\n",
    "        break\n",
    "    total = total+number\n",
    "    print(f\"Total: {total}\")\n",
    "    \n",
    "    "
   ]
  },
  {
   "cell_type": "code",
   "execution_count": 26,
   "id": "697ff767-589a-4267-acd8-e10bf2e89eef",
   "metadata": {},
   "outputs": [
    {
     "name": "stdin",
     "output_type": "stream",
     "text": [
      "Enter a value:  6\n"
     ]
    },
    {
     "name": "stdout",
     "output_type": "stream",
     "text": [
      "You entered a/an 6.0\n",
      "[6.0]\n",
      "Total: 6.0\n"
     ]
    },
    {
     "name": "stdin",
     "output_type": "stream",
     "text": [
      "Enter a value:  7\n"
     ]
    },
    {
     "name": "stdout",
     "output_type": "stream",
     "text": [
      "You entered a/an 7.0\n",
      "[6.0, 7.0]\n",
      "Total: 13.0\n"
     ]
    },
    {
     "name": "stdin",
     "output_type": "stream",
     "text": [
      "Enter a value:  8\n"
     ]
    },
    {
     "name": "stdout",
     "output_type": "stream",
     "text": [
      "You entered a/an 8.0\n",
      "[6.0, 7.0, 8.0]\n",
      "Total: 21.0\n"
     ]
    },
    {
     "name": "stdin",
     "output_type": "stream",
     "text": [
      "Enter a value:  9\n"
     ]
    },
    {
     "name": "stdout",
     "output_type": "stream",
     "text": [
      "You entered a/an 9.0\n",
      "[6.0, 7.0, 8.0, 9.0]\n",
      "Total: 30.0\n"
     ]
    },
    {
     "name": "stdin",
     "output_type": "stream",
     "text": [
      "Enter a value:  0\n"
     ]
    },
    {
     "name": "stdout",
     "output_type": "stream",
     "text": [
      "You entered a/an 0.0\n",
      "Average: 7.5\n"
     ]
    }
   ],
   "source": [
    "total=0\n",
    "numbers =[]\n",
    "while True:\n",
    "    number=float(input(\"Enter a value: \"))\n",
    "    print(f\"You entered a/an {number}\")\n",
    "    if number==0:\n",
    "        break\n",
    "    numbers.append(number)\n",
    "    print(numbers)\n",
    "    total = total+number\n",
    "    print(f\"Total: {total}\")\n",
    "freq=len(numbers)\n",
    "average=total/freq\n",
    "print(f\"Average: {average}\")\n",
    "    "
   ]
  },
  {
   "cell_type": "code",
   "execution_count": 34,
   "id": "f1a24da5-67c6-40a4-a9a4-65ebbc822f8c",
   "metadata": {},
   "outputs": [
    {
     "name": "stdin",
     "output_type": "stream",
     "text": [
      "Enter a value:  7\n"
     ]
    },
    {
     "name": "stdout",
     "output_type": "stream",
     "text": [
      "You entered a/an 7.0\n",
      "[7.0]\n",
      "Total: 7.0\n"
     ]
    },
    {
     "name": "stdin",
     "output_type": "stream",
     "text": [
      "Enter a value:  8\n"
     ]
    },
    {
     "name": "stdout",
     "output_type": "stream",
     "text": [
      "You entered a/an 8.0\n",
      "[7.0, 8.0]\n",
      "Total: 15.0\n"
     ]
    },
    {
     "name": "stdin",
     "output_type": "stream",
     "text": [
      "Enter a value:  8\n"
     ]
    },
    {
     "name": "stdout",
     "output_type": "stream",
     "text": [
      "You entered a/an 8.0\n",
      "[7.0, 8.0, 8.0]\n",
      "Total: 23.0\n"
     ]
    },
    {
     "name": "stdin",
     "output_type": "stream",
     "text": [
      "Enter a value:  0\n"
     ]
    },
    {
     "name": "stdout",
     "output_type": "stream",
     "text": [
      "You entered a/an 0.0\n"
     ]
    }
   ],
   "source": [
    "total=0\n",
    "numbers =[]\n",
    "while True:\n",
    "    number=float(input(\"Enter a value: \"))\n",
    "    print(f\"You entered a/an {number}\")\n",
    "    if number==0:\n",
    "        break\n",
    "    numbers.append(number)\n",
    "    print(numbers)\n",
    "    total = total+number\n",
    "    print(f\"Total: {total}\")\n",
    "else:\n",
    "    freq=len(numbers)\n",
    "    average=total/freq\n",
    "    print(f\"Average: {average}\")"
   ]
  },
  {
   "cell_type": "code",
   "execution_count": 48,
   "id": "58b1ef63-d0dc-46fa-b8e1-f5f93a4a603e",
   "metadata": {},
   "outputs": [
    {
     "name": "stdin",
     "output_type": "stream",
     "text": [
      "Enter a value:  6\n"
     ]
    },
    {
     "name": "stdout",
     "output_type": "stream",
     "text": [
      "You entered a/an 6.0\n",
      "[6.0]\n",
      "Total: 6.0\n"
     ]
    },
    {
     "name": "stdin",
     "output_type": "stream",
     "text": [
      "Enter a value:  8\n"
     ]
    },
    {
     "name": "stdout",
     "output_type": "stream",
     "text": [
      "You entered a/an 8.0\n",
      "[6.0, 8.0]\n",
      "Total: 14.0\n"
     ]
    },
    {
     "name": "stdin",
     "output_type": "stream",
     "text": [
      "Enter a value:  0\n"
     ]
    },
    {
     "name": "stdout",
     "output_type": "stream",
     "text": [
      "You entered a/an 0.0\n",
      "Average: 7.0\n"
     ]
    }
   ],
   "source": [
    "total=0\n",
    "numbers =[]\n",
    "while True:\n",
    "    number=float(input(\"Enter a value: \"))\n",
    "    print(f\"You entered a/an {number}\")\n",
    "    if number ==0 and len(numbers)==0:\n",
    "        print(\"The first value can't be a zero!\")\n",
    "        continue\n",
    "    elif number==0:\n",
    "        break\n",
    "    numbers.append(number)\n",
    "    print(numbers)\n",
    "    total = total+number\n",
    "    print(f\"Total: {total}\")\n",
    "freq=len(numbers)\n",
    "average=total/freq\n",
    "print(f\"Average: {average}\")\n",
    "    "
   ]
  },
  {
   "cell_type": "code",
   "execution_count": 50,
   "id": "12358e0c-5536-4201-8f6e-1fa93abbdb27",
   "metadata": {},
   "outputs": [
    {
     "name": "stdin",
     "output_type": "stream",
     "text": [
      "Enter a value:  5\n",
      "Enter a value:  4\n",
      "Enter a value:  7\n",
      "Enter a value:  2\n",
      "Enter a value:  0\n"
     ]
    },
    {
     "name": "stdout",
     "output_type": "stream",
     "text": [
      "Average: 4.5\n"
     ]
    }
   ],
   "source": [
    "total=0\n",
    "numbers =[]\n",
    "while True:\n",
    "    number=float(input(\"Enter a value: \"))\n",
    "    if number ==0 and len(numbers)==0:\n",
    "        print(\"The first value can't be a zero!\")\n",
    "    elif number==0:\n",
    "        break\n",
    "    numbers.append(number)\n",
    "    total = total+number\n",
    "freq=len(numbers)\n",
    "average=total/freq\n",
    "print(f\"Average: {average}\")\n",
    "    "
   ]
  },
  {
   "cell_type": "code",
   "execution_count": 3,
   "id": "efb62cce-eeb0-426e-8bf9-5e9df60f7da9",
   "metadata": {},
   "outputs": [
    {
     "name": "stdin",
     "output_type": "stream",
     "text": [
      "Enter a value:  0\n"
     ]
    },
    {
     "ename": "ZeroDivisionError",
     "evalue": "division by zero",
     "output_type": "error",
     "traceback": [
      "\u001b[1;31m---------------------------------------------------------------------------\u001b[0m",
      "\u001b[1;31mZeroDivisionError\u001b[0m                         Traceback (most recent call last)",
      "Cell \u001b[1;32mIn[3], line 9\u001b[0m\n\u001b[0;32m      7\u001b[0m     number\u001b[38;5;241m=\u001b[39m\u001b[38;5;28mfloat\u001b[39m(\u001b[38;5;28minput\u001b[39m(\u001b[38;5;124m\"\u001b[39m\u001b[38;5;124mEnter a value: \u001b[39m\u001b[38;5;124m\"\u001b[39m))\n\u001b[0;32m      8\u001b[0m freq\u001b[38;5;241m=\u001b[39m\u001b[38;5;28mlen\u001b[39m(numbers)\n\u001b[1;32m----> 9\u001b[0m average\u001b[38;5;241m=\u001b[39mtotal\u001b[38;5;241m/\u001b[39mfreq\n\u001b[0;32m     10\u001b[0m \u001b[38;5;28mprint\u001b[39m(\u001b[38;5;124mf\u001b[39m\u001b[38;5;124m\"\u001b[39m\u001b[38;5;124mAverage: \u001b[39m\u001b[38;5;132;01m{\u001b[39;00maverage\u001b[38;5;132;01m}\u001b[39;00m\u001b[38;5;124m\"\u001b[39m)\n",
      "\u001b[1;31mZeroDivisionError\u001b[0m: division by zero"
     ]
    }
   ],
   "source": [
    "total =0\n",
    "number=float(input(\"Enter a value: \"))\n",
    "numbers =[]\n",
    "while number!=0:\n",
    "    numbers.append(number)\n",
    "    total = total+number\n",
    "    number=float(input(\"Enter a value: \"))\n",
    "freq=len(numbers)\n",
    "average=total/freq\n",
    "print(f\"Average: {average}\")\n",
    "    \n",
    "    "
   ]
  },
  {
   "cell_type": "code",
   "execution_count": 20,
   "id": "16e25bc1-6986-4899-b974-4f68719ebb00",
   "metadata": {},
   "outputs": [
    {
     "name": "stdin",
     "output_type": "stream",
     "text": [
      "Enter a value:  0\n"
     ]
    },
    {
     "ename": "ZeroDivisionError",
     "evalue": "division by zero",
     "output_type": "error",
     "traceback": [
      "\u001b[1;31m---------------------------------------------------------------------------\u001b[0m",
      "\u001b[1;31mZeroDivisionError\u001b[0m                         Traceback (most recent call last)",
      "Cell \u001b[1;32mIn[20], line 13\u001b[0m\n\u001b[0;32m     10\u001b[0m         number\u001b[38;5;241m=\u001b[39m\u001b[38;5;28mfloat\u001b[39m(\u001b[38;5;28minput\u001b[39m(\u001b[38;5;124m\"\u001b[39m\u001b[38;5;124mEnter a value: \u001b[39m\u001b[38;5;124m\"\u001b[39m))\n\u001b[0;32m     12\u001b[0m freq\u001b[38;5;241m=\u001b[39m\u001b[38;5;28mlen\u001b[39m(numbers)\n\u001b[1;32m---> 13\u001b[0m average\u001b[38;5;241m=\u001b[39mtotal\u001b[38;5;241m/\u001b[39mfreq\n\u001b[0;32m     14\u001b[0m \u001b[38;5;28mprint\u001b[39m(\u001b[38;5;124mf\u001b[39m\u001b[38;5;124m\"\u001b[39m\u001b[38;5;124mAverage: \u001b[39m\u001b[38;5;132;01m{\u001b[39;00maverage\u001b[38;5;132;01m}\u001b[39;00m\u001b[38;5;124m\"\u001b[39m)\n",
      "\u001b[1;31mZeroDivisionError\u001b[0m: division by zero"
     ]
    }
   ],
   "source": [
    "total =0\n",
    "number=float(input(\"Enter a value: \"))\n",
    "numbers =[]\n",
    "while number!=0:\n",
    "    if number ==0 and len(numbers)==0:\n",
    "        print(\"Error\")\n",
    "    else:\n",
    "        numbers.append(number)\n",
    "        total = total+number\n",
    "        number=float(input(\"Enter a value: \"))\n",
    "    \n",
    "freq=len(numbers)\n",
    "average=total/freq\n",
    "print(f\"Average: {average}\")\n",
    "    \n",
    "    "
   ]
  },
  {
   "cell_type": "code",
   "execution_count": 24,
   "id": "d397d495-0bba-4709-9684-a88111d8174d",
   "metadata": {},
   "outputs": [
    {
     "name": "stdin",
     "output_type": "stream",
     "text": [
      "Enter a value:  9\n",
      "Enter a value:  8\n",
      "Enter a value:  0\n"
     ]
    },
    {
     "name": "stdout",
     "output_type": "stream",
     "text": [
      "Average: 8.0\n"
     ]
    }
   ],
   "source": []
  },
  {
   "cell_type": "code",
   "execution_count": 1,
   "id": "54bf45ca-aa1f-4534-86c9-81a62043e0c8",
   "metadata": {},
   "outputs": [
    {
     "ename": "NameError",
     "evalue": "name 'random' is not defined",
     "output_type": "error",
     "traceback": [
      "\u001b[1;31m---------------------------------------------------------------------------\u001b[0m",
      "\u001b[1;31mNameError\u001b[0m                                 Traceback (most recent call last)",
      "Cell \u001b[1;32mIn[1], line 1\u001b[0m\n\u001b[1;32m----> 1\u001b[0m random\n",
      "\u001b[1;31mNameError\u001b[0m: name 'random' is not defined"
     ]
    }
   ],
   "source": [
    "random"
   ]
  },
  {
   "cell_type": "code",
   "execution_count": 3,
   "id": "0b409688-be23-4acc-8de2-e35e036a88ba",
   "metadata": {},
   "outputs": [],
   "source": [
    "import random"
   ]
  },
  {
   "cell_type": "code",
   "execution_count": 5,
   "id": "ab1e8e51-49aa-4154-9e95-f68b8a9ef7a0",
   "metadata": {},
   "outputs": [
    {
     "data": {
      "text/plain": [
       "<module 'random' from 'C:\\\\Users\\\\ADMIN\\\\anaconda3\\\\Lib\\\\random.py'>"
      ]
     },
     "execution_count": 5,
     "metadata": {},
     "output_type": "execute_result"
    }
   ],
   "source": [
    "random"
   ]
  },
  {
   "cell_type": "code",
   "execution_count": 7,
   "id": "39605cf1-e585-494f-827d-a4a2e350a643",
   "metadata": {},
   "outputs": [
    {
     "data": {
      "text/plain": [
       "\u001b[1;31mType:\u001b[0m        module\n",
       "\u001b[1;31mString form:\u001b[0m <module 'random' from 'C:\\\\Users\\\\ADMIN\\\\anaconda3\\\\Lib\\\\random.py'>\n",
       "\u001b[1;31mFile:\u001b[0m        c:\\users\\admin\\anaconda3\\lib\\random.py\n",
       "\u001b[1;31mDocstring:\u001b[0m  \n",
       "Random variable generators.\n",
       "\n",
       "    bytes\n",
       "    -----\n",
       "           uniform bytes (values between 0 and 255)\n",
       "\n",
       "    integers\n",
       "    --------\n",
       "           uniform within range\n",
       "\n",
       "    sequences\n",
       "    ---------\n",
       "           pick random element\n",
       "           pick random sample\n",
       "           pick weighted random sample\n",
       "           generate random permutation\n",
       "\n",
       "    distributions on the real line:\n",
       "    ------------------------------\n",
       "           uniform\n",
       "           triangular\n",
       "           normal (Gaussian)\n",
       "           lognormal\n",
       "           negative exponential\n",
       "           gamma\n",
       "           beta\n",
       "           pareto\n",
       "           Weibull\n",
       "\n",
       "    distributions on the circle (angles 0 to 2pi)\n",
       "    ---------------------------------------------\n",
       "           circular uniform\n",
       "           von Mises\n",
       "\n",
       "    discrete distributions\n",
       "    ----------------------\n",
       "           binomial\n",
       "\n",
       "\n",
       "General notes on the underlying Mersenne Twister core generator:\n",
       "\n",
       "* The period is 2**19937-1.\n",
       "* It is one of the most extensively tested generators in existence.\n",
       "* The random() method is implemented in C, executes in a single Python step,\n",
       "  and is, therefore, threadsafe."
      ]
     },
     "metadata": {},
     "output_type": "display_data"
    }
   ],
   "source": [
    "random?"
   ]
  },
  {
   "cell_type": "code",
   "execution_count": 9,
   "id": "1203342a-05eb-4d7b-875c-7f6fead5a494",
   "metadata": {},
   "outputs": [],
   "source": [
    "a=78"
   ]
  },
  {
   "cell_type": "code",
   "execution_count": 11,
   "id": "8a39f0c6-d9cb-49ab-a44d-7ecc433bdd5d",
   "metadata": {},
   "outputs": [
    {
     "data": {
      "text/plain": [
       "\u001b[1;31mType:\u001b[0m        int\n",
       "\u001b[1;31mString form:\u001b[0m 78\n",
       "\u001b[1;31mDocstring:\u001b[0m  \n",
       "int([x]) -> integer\n",
       "int(x, base=10) -> integer\n",
       "\n",
       "Convert a number or string to an integer, or return 0 if no arguments\n",
       "are given.  If x is a number, return x.__int__().  For floating-point\n",
       "numbers, this truncates towards zero.\n",
       "\n",
       "If x is not a number or if base is given, then x must be a string,\n",
       "bytes, or bytearray instance representing an integer literal in the\n",
       "given base.  The literal can be preceded by '+' or '-' and be surrounded\n",
       "by whitespace.  The base defaults to 10.  Valid bases are 0 and 2-36.\n",
       "Base 0 means to interpret the base from the string as an integer literal.\n",
       ">>> int('0b100', base=0)\n",
       "4"
      ]
     },
     "metadata": {},
     "output_type": "display_data"
    }
   ],
   "source": [
    "a?"
   ]
  },
  {
   "cell_type": "code",
   "execution_count": 31,
   "id": "b0c07182-85f7-47be-a3e7-e569302c2ff7",
   "metadata": {},
   "outputs": [
    {
     "data": {
      "text/plain": [
       "40"
      ]
     },
     "execution_count": 31,
     "metadata": {},
     "output_type": "execute_result"
    }
   ],
   "source": [
    "random.randint(10,100)"
   ]
  },
  {
   "cell_type": "code",
   "execution_count": 41,
   "id": "91d93bc2-8aca-4360-b1b6-7c7ef82d3f93",
   "metadata": {},
   "outputs": [
    {
     "data": {
      "text/plain": [
       "'Smith'"
      ]
     },
     "execution_count": 41,
     "metadata": {},
     "output_type": "execute_result"
    }
   ],
   "source": [
    "random.choice([\"Precious\",\"Valentine\",\"Delzy\",\"Henry\",\"Smith\",\"Gideon\",\"Mike\",\"Malachy\"])"
   ]
  },
  {
   "cell_type": "code",
   "execution_count": 51,
   "id": "3924bb82-0b51-4b26-9ca4-10f20703985e",
   "metadata": {},
   "outputs": [
    {
     "data": {
      "text/plain": [
       "['Henry']"
      ]
     },
     "execution_count": 51,
     "metadata": {},
     "output_type": "execute_result"
    }
   ],
   "source": [
    "random.choices([\"Precious\",\"Valentine\",\"Delzy\",\"Henry\",\"Smith\",\"Gideon\",\"Mike\",\"Malachy\"])"
   ]
  },
  {
   "cell_type": "code",
   "execution_count": 61,
   "id": "c2a5aa51-9984-40a5-a279-cac980f88a9e",
   "metadata": {},
   "outputs": [
    {
     "data": {
      "text/plain": [
       "['Mike', 'Delzy', 'Gideon']"
      ]
     },
     "execution_count": 61,
     "metadata": {},
     "output_type": "execute_result"
    }
   ],
   "source": [
    "random.choices([\"Precious\",\"Valentine\",\"Delzy\",\"Henry\",\"Smith\",\"Gideon\",\"Mike\",\"Malachy\"],k=3)"
   ]
  },
  {
   "cell_type": "code",
   "execution_count": 77,
   "id": "bafd353c-343c-4bd7-9682-cd86e58c08cf",
   "metadata": {},
   "outputs": [
    {
     "data": {
      "text/plain": [
       "[65, 69, 18, 83]"
      ]
     },
     "execution_count": 77,
     "metadata": {},
     "output_type": "execute_result"
    }
   ],
   "source": [
    "random.choices(range(1,100),k=4)"
   ]
  },
  {
   "cell_type": "code",
   "execution_count": 73,
   "id": "1f4ae740-f84d-4559-a03b-461abae263f6",
   "metadata": {},
   "outputs": [
    {
     "data": {
      "text/plain": [
       "[4, 5, 6, 7, 8, 9]"
      ]
     },
     "execution_count": 73,
     "metadata": {},
     "output_type": "execute_result"
    }
   ],
   "source": [
    "list(range(4,10))"
   ]
  },
  {
   "cell_type": "code",
   "execution_count": null,
   "id": "920a7cc2-50ab-474c-8dde-95ca6570d8bf",
   "metadata": {},
   "outputs": [],
   "source": [
    "import ra"
   ]
  },
  {
   "cell_type": "markdown",
   "id": "d23b0657-93da-4a29-aba6-5fbe1293d23e",
   "metadata": {},
   "source": [
    "## Guessing  game 1"
   ]
  },
  {
   "cell_type": "code",
   "execution_count": 5,
   "id": "0e81193f-2fbb-4ac0-8a9b-29927561d4f5",
   "metadata": {},
   "outputs": [
    {
     "name": "stdout",
     "output_type": "stream",
     "text": [
      "My guess is 9\n"
     ]
    },
    {
     "name": "stdin",
     "output_type": "stream",
     "text": [
      "Am i right?(y/n):  n\n"
     ]
    },
    {
     "name": "stdout",
     "output_type": "stream",
     "text": [
      "You're wrong\n",
      "Try again\n",
      "My guess is 6\n"
     ]
    },
    {
     "name": "stdin",
     "output_type": "stream",
     "text": [
      "Am i right?(y/n):  n\n"
     ]
    },
    {
     "name": "stdout",
     "output_type": "stream",
     "text": [
      "You're wrong\n",
      "Try again\n",
      "My guess is 3\n"
     ]
    },
    {
     "name": "stdin",
     "output_type": "stream",
     "text": [
      "Am i right?(y/n):  n\n"
     ]
    },
    {
     "name": "stdout",
     "output_type": "stream",
     "text": [
      "You're wrong\n",
      "Try again\n",
      "My guess is 4\n"
     ]
    },
    {
     "name": "stdin",
     "output_type": "stream",
     "text": [
      "Am i right?(y/n):  n\n"
     ]
    },
    {
     "name": "stdout",
     "output_type": "stream",
     "text": [
      "You're wrong\n",
      "Try again\n",
      "My guess is 3\n"
     ]
    },
    {
     "name": "stdin",
     "output_type": "stream",
     "text": [
      "Am i right?(y/n):  n\n"
     ]
    },
    {
     "name": "stdout",
     "output_type": "stream",
     "text": [
      "You're wrong\n",
      "Try again\n"
     ]
    }
   ],
   "source": [
    "import random\n",
    "for i in range(5):\n",
    "    computer_guess=random.randint(1,10)\n",
    "    print(f\"My guess is {computer_guess}\")\n",
    "    response = input(\"Am i right?(y/n): \")\n",
    "    if response==\"n\":\n",
    "        print(\"You're wrong\\nTry again\")\n",
    "    else:\n",
    "        print(\"Great!!\\nYou got it right\")\n",
    "        break"
   ]
  },
  {
   "cell_type": "code",
   "execution_count": 9,
   "id": "f5a4ca7f-37bc-4e75-a8b8-c6d375a8942b",
   "metadata": {},
   "outputs": [
    {
     "name": "stdout",
     "output_type": "stream",
     "text": [
      "My guess is 5\n"
     ]
    },
    {
     "name": "stdin",
     "output_type": "stream",
     "text": [
      "Am i right?(y/n):  NO\n"
     ]
    },
    {
     "name": "stdout",
     "output_type": "stream",
     "text": [
      "You're wrong\n",
      "Try again\n",
      "My guess is 4\n"
     ]
    },
    {
     "name": "stdin",
     "output_type": "stream",
     "text": [
      "Am i right?(y/n):  op\n"
     ]
    },
    {
     "name": "stdout",
     "output_type": "stream",
     "text": [
      "Great!!\n",
      "You got it right\n"
     ]
    }
   ],
   "source": [
    "import random\n",
    "for i in range(5):\n",
    "    computer_guess=random.randint(1,10)\n",
    "    print(f\"My guess is {computer_guess}\")\n",
    "    response = input(\"Am i right?(y/n): \").strip().lower()\n",
    "    if response in [\"n\",\"no\",\"nah\",\"nope\"]:\n",
    "        print(\"You're wrong\\nTry again\")\n",
    "    else:\n",
    "        print(\"Great!!\\nYou got it right\")\n",
    "        break"
   ]
  },
  {
   "cell_type": "code",
   "execution_count": 5,
   "id": "f9e84a2e-2eca-4b51-87f0-5e2efef79060",
   "metadata": {},
   "outputs": [
    {
     "name": "stdin",
     "output_type": "stream",
     "text": [
      "What is the magic number? (between 1 and 10):  9\n"
     ]
    },
    {
     "name": "stdout",
     "output_type": "stream",
     "text": [
      "You got it right\n"
     ]
    }
   ],
   "source": [
    "import random as valentine\n",
    "computer_guess=valentine.randint(1,10)\n",
    "for i in range(9):\n",
    "    user_input=int(input(\"What is the magic number? (between 1 and 10): \"))\n",
    "    if user_input ==computer_guess:\n",
    "        print(\"You got it right\")\n",
    "        break\n",
    "    else:\n",
    "        print(\"Olodo!!\\nTry again!\")"
   ]
  },
  {
   "cell_type": "code",
   "execution_count": 1,
   "id": "b5b2326b-09b4-4ccb-a1e3-05c6903cd472",
   "metadata": {},
   "outputs": [
    {
     "name": "stdin",
     "output_type": "stream",
     "text": [
      "What is the magic number? (between 1 and 10):  7\n"
     ]
    },
    {
     "name": "stdout",
     "output_type": "stream",
     "text": [
      "Olodo!!\n",
      "Try again!\n",
      "You have 8 trials left.\n"
     ]
    },
    {
     "name": "stdin",
     "output_type": "stream",
     "text": [
      "What is the magic number? (between 1 and 10):  8\n"
     ]
    },
    {
     "name": "stdout",
     "output_type": "stream",
     "text": [
      "Olodo!!\n",
      "Try again!\n",
      "You have 7 trials left.\n"
     ]
    },
    {
     "name": "stdin",
     "output_type": "stream",
     "text": [
      "What is the magic number? (between 1 and 10):  1\n"
     ]
    },
    {
     "name": "stdout",
     "output_type": "stream",
     "text": [
      "Olodo!!\n",
      "Try again!\n",
      "You have 6 trials left.\n"
     ]
    },
    {
     "name": "stdin",
     "output_type": "stream",
     "text": [
      "What is the magic number? (between 1 and 10):  2\n"
     ]
    },
    {
     "name": "stdout",
     "output_type": "stream",
     "text": [
      "Olodo!!\n",
      "Try again!\n",
      "You have 5 trials left.\n"
     ]
    },
    {
     "name": "stdin",
     "output_type": "stream",
     "text": [
      "What is the magic number? (between 1 and 10):  5\n"
     ]
    },
    {
     "name": "stdout",
     "output_type": "stream",
     "text": [
      "Olodo!!\n",
      "Try again!\n",
      "You have 4 trials left.\n"
     ]
    },
    {
     "name": "stdin",
     "output_type": "stream",
     "text": [
      "What is the magic number? (between 1 and 10):  3\n"
     ]
    },
    {
     "name": "stdout",
     "output_type": "stream",
     "text": [
      "You got it right\n"
     ]
    }
   ],
   "source": [
    "import random as valentine\n",
    "computer_guess=valentine.randint(1,10)\n",
    "count=0\n",
    "for i in range(9):\n",
    "    user_input=int(input(\"What is the magic number? (between 1 and 10): \"))\n",
    "    count +=1\n",
    "    if user_input ==computer_guess:\n",
    "        print(\"You got it right\")\n",
    "        break\n",
    "    else:\n",
    "        print(\"Olodo!!\\nTry again!\")\n",
    "        print(f\"You have {9-count} trials left.\")\n",
    "    "
   ]
  },
  {
   "cell_type": "code",
   "execution_count": 9,
   "id": "d3967e97-43ac-4dc7-9b62-31fa865d8040",
   "metadata": {},
   "outputs": [
    {
     "data": {
      "text/plain": [
       "35"
      ]
     },
     "execution_count": 9,
     "metadata": {},
     "output_type": "execute_result"
    }
   ],
   "source": [
    "a=5\n",
    "a *=7\n",
    "a"
   ]
  },
  {
   "cell_type": "code",
   "execution_count": null,
   "id": "5715cff5-b0d0-4c61-935d-b53a1d3a1769",
   "metadata": {},
   "outputs": [],
   "source": []
  }
 ],
 "metadata": {
  "kernelspec": {
   "display_name": "Python 3 (ipykernel)",
   "language": "python",
   "name": "python3"
  },
  "language_info": {
   "codemirror_mode": {
    "name": "ipython",
    "version": 3
   },
   "file_extension": ".py",
   "mimetype": "text/x-python",
   "name": "python",
   "nbconvert_exporter": "python",
   "pygments_lexer": "ipython3",
   "version": "3.12.7"
  }
 },
 "nbformat": 4,
 "nbformat_minor": 5
}
