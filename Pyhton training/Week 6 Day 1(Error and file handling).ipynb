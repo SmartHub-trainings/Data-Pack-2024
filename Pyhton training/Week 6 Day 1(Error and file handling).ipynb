{
 "cells": [
  {
   "cell_type": "code",
   "execution_count": null,
   "id": "51b6ebfd",
   "metadata": {},
   "outputs": [],
   "source": [
    "def duplication():\n",
    "    collections=[]\n",
    "    duplicate=[]\n",
    "    while True:\n",
    "        user_input=input('enter collection of words')\n",
    "        if user_input=='':\n",
    "            break\n",
    "        collections.append(user_input)\n",
    "        if user_input not in duplicate:\n",
    "            duplicate.append(user_input)\n",
    "    return duplicate"
   ]
  },
  {
   "cell_type": "code",
   "execution_count": null,
   "id": "76065c8c",
   "metadata": {},
   "outputs": [],
   "source": [
    "duplication()"
   ]
  },
  {
   "cell_type": "markdown",
   "id": "985d3ace",
   "metadata": {},
   "source": [
    "#### "
   ]
  },
  {
   "cell_type": "code",
   "execution_count": null,
   "id": "6a075c63",
   "metadata": {},
   "outputs": [],
   "source": [
    "g=[3,5,5,6,74,64,4,5,3,5,5,2,4]"
   ]
  },
  {
   "cell_type": "code",
   "execution_count": null,
   "id": "58a8ee90",
   "metadata": {},
   "outputs": [],
   "source": [
    "set(g)"
   ]
  },
  {
   "cell_type": "code",
   "execution_count": null,
   "id": "812baf98",
   "metadata": {},
   "outputs": [],
   "source": [
    "list(set(g))"
   ]
  },
  {
   "cell_type": "code",
   "execution_count": null,
   "id": "99d5509e",
   "metadata": {},
   "outputs": [],
   "source": [
    "[set(g)]"
   ]
  },
  {
   "cell_type": "markdown",
   "id": "73c5c2ef",
   "metadata": {},
   "source": [
    "# Error handling"
   ]
  },
  {
   "cell_type": "code",
   "execution_count": 19,
   "id": "a26b74fb",
   "metadata": {},
   "outputs": [
    {
     "name": "stdout",
     "output_type": "stream",
     "text": [
      "Enter the numerator: uijmn\n"
     ]
    },
    {
     "ename": "ValueError",
     "evalue": "could not convert string to float: 'uijmn'",
     "output_type": "error",
     "traceback": [
      "\u001b[0;31m---------------------------------------------------------------------------\u001b[0m",
      "\u001b[0;31mValueError\u001b[0m                                Traceback (most recent call last)",
      "\u001b[0;32m/var/folders/3d/pkg6m4_x11s9hw4jt5sb8zp00000gn/T/ipykernel_13113/3321235270.py\u001b[0m in \u001b[0;36m<module>\u001b[0;34m\u001b[0m\n\u001b[0;32m----> 1\u001b[0;31m \u001b[0mnumerator\u001b[0m \u001b[0;34m=\u001b[0m\u001b[0mfloat\u001b[0m\u001b[0;34m(\u001b[0m\u001b[0minput\u001b[0m\u001b[0;34m(\u001b[0m\u001b[0;34m\"Enter the numerator: \"\u001b[0m\u001b[0;34m)\u001b[0m\u001b[0;34m)\u001b[0m\u001b[0;34m\u001b[0m\u001b[0;34m\u001b[0m\u001b[0m\n\u001b[0m\u001b[1;32m      2\u001b[0m \u001b[0mdenominator\u001b[0m \u001b[0;34m=\u001b[0m\u001b[0mfloat\u001b[0m\u001b[0;34m(\u001b[0m\u001b[0minput\u001b[0m\u001b[0;34m(\u001b[0m\u001b[0;34m\"Enter the denominator: \"\u001b[0m\u001b[0;34m)\u001b[0m\u001b[0;34m)\u001b[0m\u001b[0;34m\u001b[0m\u001b[0;34m\u001b[0m\u001b[0m\n\u001b[1;32m      3\u001b[0m \u001b[0mresult\u001b[0m \u001b[0;34m=\u001b[0m \u001b[0mnumerator\u001b[0m\u001b[0;34m/\u001b[0m\u001b[0mdenominator\u001b[0m\u001b[0;34m\u001b[0m\u001b[0;34m\u001b[0m\u001b[0m\n\u001b[1;32m      4\u001b[0m \u001b[0mprint\u001b[0m\u001b[0;34m(\u001b[0m\u001b[0mresult\u001b[0m\u001b[0;34m)\u001b[0m\u001b[0;34m\u001b[0m\u001b[0;34m\u001b[0m\u001b[0m\n",
      "\u001b[0;31mValueError\u001b[0m: could not convert string to float: 'uijmn'"
     ]
    }
   ],
   "source": [
    "numerator =float(input(\"Enter the numerator: \"))\n",
    "denominator =float(input(\"Enter the denominator: \"))\n",
    "result = numerator/denominator\n",
    "print(result)\n"
   ]
  },
  {
   "cell_type": "code",
   "execution_count": null,
   "id": "48206c1a",
   "metadata": {},
   "outputs": [],
   "source": [
    "numerator =float(input(\"Enter the numerator: \"))\n",
    "denominator =float(input(\"Enter the denominator: \"))\n",
    "if denominator==0:\n",
    "    print(\"Invalid entry\")\n",
    "else:\n",
    "    result = numerator/denominator\n",
    "    print(result)"
   ]
  },
  {
   "cell_type": "code",
   "execution_count": null,
   "id": "c42719dc",
   "metadata": {},
   "outputs": [],
   "source": [
    "\n",
    "try:\n",
    "    numerator =float(input(\"Enter the numerator: \"))\n",
    "    denominator =float(input(\"Enter the denominator: \"))\n",
    "    result = numerator/denominator\n",
    "    print(result)\n",
    "except:\n",
    "    print(\"There was an error\")\n"
   ]
  },
  {
   "cell_type": "code",
   "execution_count": null,
   "id": "53c67225",
   "metadata": {},
   "outputs": [],
   "source": [
    "import this"
   ]
  },
  {
   "cell_type": "code",
   "execution_count": 1,
   "id": "7540c237",
   "metadata": {},
   "outputs": [
    {
     "name": "stdout",
     "output_type": "stream",
     "text": [
      "Enter the numerator: 6\n",
      "Enter the denominator: 0\n",
      "There was an error\n"
     ]
    },
    {
     "ename": "NameError",
     "evalue": "name 'result' is not defined",
     "output_type": "error",
     "traceback": [
      "\u001b[0;31m---------------------------------------------------------------------------\u001b[0m",
      "\u001b[0;31mNameError\u001b[0m                                 Traceback (most recent call last)",
      "\u001b[0;32m/var/folders/3d/pkg6m4_x11s9hw4jt5sb8zp00000gn/T/ipykernel_13113/2875293358.py\u001b[0m in \u001b[0;36m<module>\u001b[0;34m\u001b[0m\n\u001b[1;32m      5\u001b[0m \u001b[0;32mexcept\u001b[0m\u001b[0;34m:\u001b[0m\u001b[0;34m\u001b[0m\u001b[0;34m\u001b[0m\u001b[0m\n\u001b[1;32m      6\u001b[0m     \u001b[0mprint\u001b[0m\u001b[0;34m(\u001b[0m\u001b[0;34m\"There was an error\"\u001b[0m\u001b[0;34m)\u001b[0m\u001b[0;34m\u001b[0m\u001b[0;34m\u001b[0m\u001b[0m\n\u001b[0;32m----> 7\u001b[0;31m \u001b[0mprint\u001b[0m\u001b[0;34m(\u001b[0m\u001b[0mresult\u001b[0m\u001b[0;34m)\u001b[0m\u001b[0;34m\u001b[0m\u001b[0;34m\u001b[0m\u001b[0m\n\u001b[0m",
      "\u001b[0;31mNameError\u001b[0m: name 'result' is not defined"
     ]
    }
   ],
   "source": [
    "try:\n",
    "    numerator =float(input(\"Enter the numerator: \"))\n",
    "    denominator =float(input(\"Enter the denominator: \"))\n",
    "    result = numerator/denominator\n",
    "except:\n",
    "    print(\"There was an error\")\n",
    "print(result)"
   ]
  },
  {
   "cell_type": "code",
   "execution_count": 3,
   "id": "8364916b",
   "metadata": {},
   "outputs": [
    {
     "name": "stdout",
     "output_type": "stream",
     "text": [
      "Enter the numerator: 5\n",
      "Enter the denominator: 0\n",
      "There was an error\n"
     ]
    }
   ],
   "source": [
    "try:\n",
    "    numerator =float(input(\"Enter the numerator: \"))\n",
    "    denominator =float(input(\"Enter the denominator: \"))\n",
    "    result = numerator/denominator\n",
    "except:\n",
    "    print(\"There was an error\")\n",
    "else:\n",
    "    print(result)"
   ]
  },
  {
   "cell_type": "code",
   "execution_count": 5,
   "id": "24c6bdd8",
   "metadata": {},
   "outputs": [
    {
     "name": "stdout",
     "output_type": "stream",
     "text": [
      "Enter the numerator: 6\n",
      "Enter the denominator: 0\n",
      "You can't divide by 0\n"
     ]
    }
   ],
   "source": [
    "numerator =float(input(\"Enter the numerator: \"))\n",
    "denominator =float(input(\"Enter the denominator: \"))\n",
    "try:\n",
    "    \n",
    "    result = numerator/denominator\n",
    "except:\n",
    "    print(\"You can't divide by 0\")\n",
    "else:\n",
    "    print(result)"
   ]
  },
  {
   "cell_type": "code",
   "execution_count": 7,
   "id": "396dba67",
   "metadata": {},
   "outputs": [
    {
     "name": "stdout",
     "output_type": "stream",
     "text": [
      "Enter the numerator: 5\n",
      "Enter the denominator: 8.6i\n",
      "You can't divide by 0\n"
     ]
    }
   ],
   "source": [
    "\n",
    "try:\n",
    "    numerator =float(input(\"Enter the numerator: \"))\n",
    "    denominator =float(input(\"Enter the denominator: \"))\n",
    "    result = numerator/denominator\n",
    "except:\n",
    "    print(\"You can't divide by 0\")\n",
    "else:\n",
    "    print(result)"
   ]
  },
  {
   "cell_type": "code",
   "execution_count": 9,
   "id": "090e9150",
   "metadata": {},
   "outputs": [
    {
     "name": "stdout",
     "output_type": "stream",
     "text": [
      "Enter the numerator: 7\n",
      "Enter the denominator: 7.3y\n"
     ]
    },
    {
     "ename": "ValueError",
     "evalue": "could not convert string to float: '7.3y'",
     "output_type": "error",
     "traceback": [
      "\u001b[0;31m---------------------------------------------------------------------------\u001b[0m",
      "\u001b[0;31mValueError\u001b[0m                                Traceback (most recent call last)",
      "\u001b[0;32m/var/folders/3d/pkg6m4_x11s9hw4jt5sb8zp00000gn/T/ipykernel_13113/2076664920.py\u001b[0m in \u001b[0;36m<module>\u001b[0;34m\u001b[0m\n\u001b[1;32m      1\u001b[0m \u001b[0;32mtry\u001b[0m\u001b[0;34m:\u001b[0m\u001b[0;34m\u001b[0m\u001b[0;34m\u001b[0m\u001b[0m\n\u001b[1;32m      2\u001b[0m     \u001b[0mnumerator\u001b[0m \u001b[0;34m=\u001b[0m\u001b[0mfloat\u001b[0m\u001b[0;34m(\u001b[0m\u001b[0minput\u001b[0m\u001b[0;34m(\u001b[0m\u001b[0;34m\"Enter the numerator: \"\u001b[0m\u001b[0;34m)\u001b[0m\u001b[0;34m)\u001b[0m\u001b[0;34m\u001b[0m\u001b[0;34m\u001b[0m\u001b[0m\n\u001b[0;32m----> 3\u001b[0;31m     \u001b[0mdenominator\u001b[0m \u001b[0;34m=\u001b[0m\u001b[0mfloat\u001b[0m\u001b[0;34m(\u001b[0m\u001b[0minput\u001b[0m\u001b[0;34m(\u001b[0m\u001b[0;34m\"Enter the denominator: \"\u001b[0m\u001b[0;34m)\u001b[0m\u001b[0;34m)\u001b[0m\u001b[0;34m\u001b[0m\u001b[0;34m\u001b[0m\u001b[0m\n\u001b[0m\u001b[1;32m      4\u001b[0m     \u001b[0mresult\u001b[0m \u001b[0;34m=\u001b[0m \u001b[0mnumerator\u001b[0m\u001b[0;34m/\u001b[0m\u001b[0mdenominator\u001b[0m\u001b[0;34m\u001b[0m\u001b[0;34m\u001b[0m\u001b[0m\n\u001b[1;32m      5\u001b[0m \u001b[0;32mexcept\u001b[0m \u001b[0mZeroDivisionError\u001b[0m\u001b[0;34m:\u001b[0m\u001b[0;34m\u001b[0m\u001b[0;34m\u001b[0m\u001b[0m\n",
      "\u001b[0;31mValueError\u001b[0m: could not convert string to float: '7.3y'"
     ]
    }
   ],
   "source": [
    "\n",
    "try:\n",
    "    numerator =float(input(\"Enter the numerator: \"))\n",
    "    denominator =float(input(\"Enter the denominator: \"))\n",
    "    result = numerator/denominator\n",
    "except ZeroDivisionError:\n",
    "    print(\"You can't divide by 0\")\n",
    "else:\n",
    "    print(result)"
   ]
  },
  {
   "cell_type": "code",
   "execution_count": 15,
   "id": "fec12a0f",
   "metadata": {},
   "outputs": [
    {
     "name": "stdout",
     "output_type": "stream",
     "text": [
      "Enter the numerator: 7\n",
      "Enter the denominator: 8\n",
      "Oooop!!\n",
      "You did something wrong!!\n"
     ]
    }
   ],
   "source": [
    "try:\n",
    "    numerator =float(input(\"Enter the numerator: \"))\n",
    "    denominator =float(input(\"Enter the denominator: \"))\n",
    "    result = numerator/denominator\n",
    "except ZeroDivisionError:\n",
    "    print(\"You can't divide by 0\")\n",
    "except ValueError:\n",
    "    print(\"Invalid number was entered\")\n",
    "except:\n",
    "    print(\"Oooop!!\\nYou did something wrong!!\")\n",
    "else:\n",
    "    print(result)"
   ]
  },
  {
   "cell_type": "code",
   "execution_count": 16,
   "id": "0041b306",
   "metadata": {},
   "outputs": [
    {
     "name": "stdout",
     "output_type": "stream",
     "text": [
      "Enter the numerator: 5\n",
      "Enter the denominator: 7\n"
     ]
    },
    {
     "ename": "NameError",
     "evalue": "name 'y' is not defined",
     "output_type": "error",
     "traceback": [
      "\u001b[0;31m---------------------------------------------------------------------------\u001b[0m",
      "\u001b[0;31mNameError\u001b[0m                                 Traceback (most recent call last)",
      "\u001b[0;32m/var/folders/3d/pkg6m4_x11s9hw4jt5sb8zp00000gn/T/ipykernel_13113/9058532.py\u001b[0m in \u001b[0;36m<module>\u001b[0;34m\u001b[0m\n\u001b[1;32m      2\u001b[0m \u001b[0mdenominator\u001b[0m \u001b[0;34m=\u001b[0m\u001b[0mfloat\u001b[0m\u001b[0;34m(\u001b[0m\u001b[0minput\u001b[0m\u001b[0;34m(\u001b[0m\u001b[0;34m\"Enter the denominator: \"\u001b[0m\u001b[0;34m)\u001b[0m\u001b[0;34m)\u001b[0m\u001b[0;34m\u001b[0m\u001b[0;34m\u001b[0m\u001b[0m\n\u001b[1;32m      3\u001b[0m \u001b[0mresult\u001b[0m \u001b[0;34m=\u001b[0m \u001b[0mnumerator\u001b[0m\u001b[0;34m/\u001b[0m\u001b[0mdenominator\u001b[0m\u001b[0;34m\u001b[0m\u001b[0;34m\u001b[0m\u001b[0m\n\u001b[0;32m----> 4\u001b[0;31m \u001b[0my\u001b[0m\u001b[0;34m\u001b[0m\u001b[0;34m\u001b[0m\u001b[0m\n\u001b[0m",
      "\u001b[0;31mNameError\u001b[0m: name 'y' is not defined"
     ]
    }
   ],
   "source": [
    "numerator =float(input(\"Enter the numerator: \"))\n",
    "denominator =float(input(\"Enter the denominator: \"))\n",
    "result = numerator/denominator\n",
    "y=8\n",
    "y\n"
   ]
  },
  {
   "cell_type": "markdown",
   "id": "be9edf11",
   "metadata": {},
   "source": [
    "# File handling"
   ]
  },
  {
   "cell_type": "code",
   "execution_count": 20,
   "id": "3cf4ac44",
   "metadata": {},
   "outputs": [
    {
     "ename": "FileNotFoundError",
     "evalue": "[Errno 2] No such file or directory: 'names.txt'",
     "output_type": "error",
     "traceback": [
      "\u001b[0;31m---------------------------------------------------------------------------\u001b[0m",
      "\u001b[0;31mFileNotFoundError\u001b[0m                         Traceback (most recent call last)",
      "\u001b[0;32m/var/folders/3d/pkg6m4_x11s9hw4jt5sb8zp00000gn/T/ipykernel_13113/3463299554.py\u001b[0m in \u001b[0;36m<module>\u001b[0;34m\u001b[0m\n\u001b[0;32m----> 1\u001b[0;31m \u001b[0mfile\u001b[0m \u001b[0;34m=\u001b[0m\u001b[0mopen\u001b[0m\u001b[0;34m(\u001b[0m\u001b[0;34m\"names.txt\"\u001b[0m\u001b[0;34m)\u001b[0m\u001b[0;34m\u001b[0m\u001b[0;34m\u001b[0m\u001b[0m\n\u001b[0m",
      "\u001b[0;31mFileNotFoundError\u001b[0m: [Errno 2] No such file or directory: 'names.txt'"
     ]
    }
   ],
   "source": [
    "file =open(\"names.txt\")"
   ]
  },
  {
   "cell_type": "code",
   "execution_count": 21,
   "id": "2830fcab",
   "metadata": {},
   "outputs": [],
   "source": [
    "file =open(\"names.txt\",\"w\")"
   ]
  },
  {
   "cell_type": "code",
   "execution_count": 22,
   "id": "a100d96d",
   "metadata": {},
   "outputs": [
    {
     "data": {
      "text/plain": [
       "3"
      ]
     },
     "execution_count": 22,
     "metadata": {},
     "output_type": "execute_result"
    }
   ],
   "source": [
    "file =open(\"names.txt\",\"w\")\n",
    "file.write(\"David\")\n",
    "file.write(\"Precious\")\n",
    "file.write(\"Henry\")\n",
    "file.write(\"Mike\")\n",
    "file.write(\"Ola\")\n"
   ]
  },
  {
   "cell_type": "code",
   "execution_count": 23,
   "id": "89efff0a",
   "metadata": {},
   "outputs": [],
   "source": [
    "file =open(\"names.txt\",\"w\")\n",
    "file.write(\"David\")\n",
    "file.write(\"Precious\")\n",
    "file.write(\"Henry\")\n",
    "file.write(\"Mike\")\n",
    "file.write(\"Ola\")\n",
    "file.close()"
   ]
  },
  {
   "cell_type": "code",
   "execution_count": 26,
   "id": "dd0d6880",
   "metadata": {},
   "outputs": [],
   "source": [
    "file =open(\"names.txt\",\"w\")\n",
    "file.write(\"David\\n\")\n",
    "file.write(\"Precious\\n\")\n",
    "file.write(\"Henry\\n\")\n",
    "file.write(\"Mike\\n\")\n",
    "file.write(\"Ola\\n\")\n",
    "file.close()"
   ]
  },
  {
   "cell_type": "code",
   "execution_count": 25,
   "id": "a7c572c8",
   "metadata": {},
   "outputs": [],
   "source": [
    "# file =open(\"names.txt\",\"w\")\n",
    "# file.write(\"Valentine\\n\")\n",
    "# file.close()"
   ]
  },
  {
   "cell_type": "code",
   "execution_count": 27,
   "id": "4e49b184",
   "metadata": {},
   "outputs": [],
   "source": [
    "file =open(\"names.txt\",\"a\")\n",
    "file.write(\"Valentine\\n\")\n",
    "file.close()"
   ]
  },
  {
   "cell_type": "code",
   "execution_count": 29,
   "id": "9086d6d0",
   "metadata": {},
   "outputs": [
    {
     "name": "stdout",
     "output_type": "stream",
     "text": [
      "David\n",
      "Precious\n",
      "Henry\n",
      "Mike\n",
      "Ola\n",
      "Valentine\n",
      "Emmanuel\n",
      "George\n",
      "Edison\n",
      "\n"
     ]
    }
   ],
   "source": [
    "file=open(\"names.txt\")\n",
    "content =file.read()\n",
    "file.close()\n",
    "print(content)"
   ]
  },
  {
   "cell_type": "code",
   "execution_count": 32,
   "id": "e8c45d2a",
   "metadata": {},
   "outputs": [
    {
     "name": "stdout",
     "output_type": "stream",
     "text": [
      "Enter name: David\n",
      "Enter Score: 20\n",
      "Enter name: Precious\n",
      "Enter Score: 80\n"
     ]
    }
   ],
   "source": [
    "file = open(\"register.txt\",\"w\")\n",
    "file.write(f\"Name\\tScore\\tRemark\\n\")\n",
    "for i in range(1,3):\n",
    "    name =input(\"Enter name: \")\n",
    "    score = int(input(\"Enter Score: \"))\n",
    "    remark = \"Passed\" if score >=60 else \"Failed\"\n",
    "    file.write(f\"{name}\\t{score}\\t{remark}\\n\")\n",
    "file.close()\n",
    "    \n",
    "    "
   ]
  },
  {
   "cell_type": "code",
   "execution_count": 34,
   "id": "0bcc22dd",
   "metadata": {},
   "outputs": [
    {
     "name": "stdout",
     "output_type": "stream",
     "text": [
      "Enter name: favid\n",
      "Enter Score: 60\n",
      "Enter name: Precious\n",
      "Enter Score: 80\n"
     ]
    }
   ],
   "source": [
    "file = open(\"register.txt\",\"w\")\n",
    "file.write(\"Name\\t\\tScore\\t\\tRemark\\n\")\n",
    "for i in range(1,3):\n",
    "    name =input(\"Enter name: \")\n",
    "    score = int(input(\"Enter Score: \"))\n",
    "    remark = \"Passed\" if score >=60 else \"Failed\"\n",
    "    file.write(f\"{name}\\t\\t{score}\\t\\t{remark}\\n\")\n",
    "file.close()"
   ]
  },
  {
   "cell_type": "code",
   "execution_count": 4,
   "id": "4fa36d64",
   "metadata": {},
   "outputs": [
    {
     "name": "stdout",
     "output_type": "stream",
     "text": [
      "Enter name: David\n",
      "Enter Score: 20\n",
      "Enter name: Precious\n",
      "Enter Score: 80\n"
     ]
    }
   ],
   "source": [
    "file = open(\"register.txt\",\"w\")\n",
    "name =\"Name\"; remark=\"Remark\"; score=\"Score\"\n",
    "file.write(f\"{name:20}{remark:12}{score:6}\\n\")\n",
    "for i in range(1,3):\n",
    "    name =input(\"Enter name: \")\n",
    "    score = int(input(\"Enter Score: \"))\n",
    "    remark = \"Passed\" if score >=60 else \"Failed\"\n",
    "    file.write(f\"{name:20}{remark:12}{score:6}\\n\")\n",
    "file.close()"
   ]
  },
  {
   "cell_type": "code",
   "execution_count": null,
   "id": "d06f0932",
   "metadata": {},
   "outputs": [],
   "source": []
  }
 ],
 "metadata": {
  "kernelspec": {
   "display_name": "Python 3 (ipykernel)",
   "language": "python",
   "name": "python3"
  },
  "language_info": {
   "codemirror_mode": {
    "name": "ipython",
    "version": 3
   },
   "file_extension": ".py",
   "mimetype": "text/x-python",
   "name": "python",
   "nbconvert_exporter": "python",
   "pygments_lexer": "ipython3",
   "version": "3.9.7"
  }
 },
 "nbformat": 4,
 "nbformat_minor": 5
}
