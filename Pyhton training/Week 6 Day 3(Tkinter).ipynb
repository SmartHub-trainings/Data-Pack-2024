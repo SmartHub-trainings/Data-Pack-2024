{
 "cells": [
  {
   "cell_type": "code",
   "execution_count": 1,
   "id": "3349af2f",
   "metadata": {},
   "outputs": [],
   "source": [
    "class Animal:\n",
    "    def __init__(self,name):\n",
    "        self.name = name\n",
    "        \n",
    "    def eats(self):\n",
    "        return \"All animals eats\"\n",
    "    \n",
    "    def make_sound(self):\n",
    "        return \"This animal makes a sound\"\n",
    "    "
   ]
  },
  {
   "cell_type": "code",
   "execution_count": 2,
   "id": "e4b5fd1c",
   "metadata": {},
   "outputs": [],
   "source": [
    "dog1= Animal(\"Mara\")"
   ]
  },
  {
   "cell_type": "code",
   "execution_count": 3,
   "id": "2c73aeae",
   "metadata": {},
   "outputs": [
    {
     "data": {
      "text/plain": [
       "'Mara'"
      ]
     },
     "execution_count": 3,
     "metadata": {},
     "output_type": "execute_result"
    }
   ],
   "source": [
    "dog1.name"
   ]
  },
  {
   "cell_type": "code",
   "execution_count": 4,
   "id": "72456fc4",
   "metadata": {},
   "outputs": [
    {
     "data": {
      "text/plain": [
       "'This animal makes a sound'"
      ]
     },
     "execution_count": 4,
     "metadata": {},
     "output_type": "execute_result"
    }
   ],
   "source": [
    "dog1.make_sound()"
   ]
  },
  {
   "cell_type": "code",
   "execution_count": 5,
   "id": "a84e91f2",
   "metadata": {},
   "outputs": [],
   "source": [
    "class Dog(Animal):\n",
    "    pass "
   ]
  },
  {
   "cell_type": "code",
   "execution_count": 7,
   "id": "1ec372ee",
   "metadata": {},
   "outputs": [],
   "source": [
    "dog2=Dog(\"Mara SuperCharged\")"
   ]
  },
  {
   "cell_type": "code",
   "execution_count": 8,
   "id": "12df37fc",
   "metadata": {},
   "outputs": [
    {
     "data": {
      "text/plain": [
       "'Mara SuperCharged'"
      ]
     },
     "execution_count": 8,
     "metadata": {},
     "output_type": "execute_result"
    }
   ],
   "source": [
    "dog2.name"
   ]
  },
  {
   "cell_type": "code",
   "execution_count": 9,
   "id": "040113df",
   "metadata": {},
   "outputs": [
    {
     "data": {
      "text/plain": [
       "'This animal makes a sound'"
      ]
     },
     "execution_count": 9,
     "metadata": {},
     "output_type": "execute_result"
    }
   ],
   "source": [
    "dog2.make_sound()"
   ]
  },
  {
   "cell_type": "code",
   "execution_count": 10,
   "id": "7b37b0f8",
   "metadata": {},
   "outputs": [],
   "source": [
    "class Dog(Animal):\n",
    "    def make_sound(self):\n",
    "        return f\"{self.name} Barks\""
   ]
  },
  {
   "cell_type": "code",
   "execution_count": 11,
   "id": "a2615adb",
   "metadata": {},
   "outputs": [],
   "source": [
    "dog3=Dog(\"Jack\")"
   ]
  },
  {
   "cell_type": "code",
   "execution_count": 12,
   "id": "834db12d",
   "metadata": {},
   "outputs": [
    {
     "data": {
      "text/plain": [
       "'Jack'"
      ]
     },
     "execution_count": 12,
     "metadata": {},
     "output_type": "execute_result"
    }
   ],
   "source": [
    "dog3.name"
   ]
  },
  {
   "cell_type": "code",
   "execution_count": 13,
   "id": "c34b341d",
   "metadata": {},
   "outputs": [
    {
     "data": {
      "text/plain": [
       "'Jack Barks'"
      ]
     },
     "execution_count": 13,
     "metadata": {},
     "output_type": "execute_result"
    }
   ],
   "source": [
    "dog3.make_sound()"
   ]
  },
  {
   "cell_type": "code",
   "execution_count": 14,
   "id": "8ad2dfbc",
   "metadata": {},
   "outputs": [],
   "source": [
    "class Cat(Animal):\n",
    "    def make_sound(self):\n",
    "        return f\"{self.name} meows\""
   ]
  },
  {
   "cell_type": "code",
   "execution_count": 15,
   "id": "e3fc4710",
   "metadata": {},
   "outputs": [],
   "source": [
    "my_cat=Cat(\"Mira\")"
   ]
  },
  {
   "cell_type": "code",
   "execution_count": 16,
   "id": "ff2c29e3",
   "metadata": {},
   "outputs": [
    {
     "data": {
      "text/plain": [
       "'Mira'"
      ]
     },
     "execution_count": 16,
     "metadata": {},
     "output_type": "execute_result"
    }
   ],
   "source": [
    "my_cat.name"
   ]
  },
  {
   "cell_type": "code",
   "execution_count": 17,
   "id": "df953cf0",
   "metadata": {},
   "outputs": [
    {
     "data": {
      "text/plain": [
       "'Mira meows'"
      ]
     },
     "execution_count": 17,
     "metadata": {},
     "output_type": "execute_result"
    }
   ],
   "source": [
    "my_cat.make_sound()"
   ]
  },
  {
   "cell_type": "code",
   "execution_count": 19,
   "id": "2c14e66b",
   "metadata": {},
   "outputs": [],
   "source": [
    "class Car:\n",
    "    def __init__(self,model,year,color,price):\n",
    "        self.model=model\n",
    "        self.year=year\n",
    "        self.color=color\n",
    "        self.price=price\n",
    "        "
   ]
  },
  {
   "cell_type": "code",
   "execution_count": 20,
   "id": "ef73e2e0",
   "metadata": {},
   "outputs": [],
   "source": [
    "davids_car=Car(\"Corolla\",\"2009\",\"gray\",5e7)"
   ]
  },
  {
   "cell_type": "code",
   "execution_count": 21,
   "id": "b289c0ec",
   "metadata": {},
   "outputs": [
    {
     "data": {
      "text/plain": [
       "50000000.0"
      ]
     },
     "execution_count": 21,
     "metadata": {},
     "output_type": "execute_result"
    }
   ],
   "source": [
    "davids_car.price"
   ]
  },
  {
   "cell_type": "code",
   "execution_count": 22,
   "id": "8231816d",
   "metadata": {},
   "outputs": [
    {
     "data": {
      "text/plain": [
       "'Corolla'"
      ]
     },
     "execution_count": 22,
     "metadata": {},
     "output_type": "execute_result"
    }
   ],
   "source": [
    "davids_car.model"
   ]
  },
  {
   "cell_type": "code",
   "execution_count": 23,
   "id": "9a8884c3",
   "metadata": {},
   "outputs": [],
   "source": [
    "davids_car.price=500"
   ]
  },
  {
   "cell_type": "code",
   "execution_count": 24,
   "id": "7058301a",
   "metadata": {},
   "outputs": [
    {
     "data": {
      "text/plain": [
       "500"
      ]
     },
     "execution_count": 24,
     "metadata": {},
     "output_type": "execute_result"
    }
   ],
   "source": [
    "davids_car.price"
   ]
  },
  {
   "cell_type": "code",
   "execution_count": 29,
   "id": "a27e2c7f",
   "metadata": {},
   "outputs": [],
   "source": [
    "class Car:\n",
    "    def __init__(self,model,year,color,price):\n",
    "        self.__model=model\n",
    "        self.year=year\n",
    "        self.color=color\n",
    "        self.__price=price\n",
    "        "
   ]
  },
  {
   "cell_type": "code",
   "execution_count": 30,
   "id": "825dfde7",
   "metadata": {},
   "outputs": [],
   "source": [
    "davids_car=Car(\"Corolla\",\"2009\",\"gray\",5e7)"
   ]
  },
  {
   "cell_type": "code",
   "execution_count": 32,
   "id": "a0e039ef",
   "metadata": {},
   "outputs": [
    {
     "data": {
      "text/plain": [
       "'gray'"
      ]
     },
     "execution_count": 32,
     "metadata": {},
     "output_type": "execute_result"
    }
   ],
   "source": [
    "davids_car.color"
   ]
  },
  {
   "cell_type": "code",
   "execution_count": 33,
   "id": "64dae116",
   "metadata": {},
   "outputs": [
    {
     "ename": "AttributeError",
     "evalue": "'Car' object has no attribute '__price'",
     "output_type": "error",
     "traceback": [
      "\u001b[0;31m---------------------------------------------------------------------------\u001b[0m",
      "\u001b[0;31mAttributeError\u001b[0m                            Traceback (most recent call last)",
      "\u001b[0;32m/var/folders/3d/pkg6m4_x11s9hw4jt5sb8zp00000gn/T/ipykernel_31139/3724715060.py\u001b[0m in \u001b[0;36m<module>\u001b[0;34m\u001b[0m\n\u001b[0;32m----> 1\u001b[0;31m \u001b[0mdavids_car\u001b[0m\u001b[0;34m.\u001b[0m\u001b[0m__price\u001b[0m\u001b[0;34m\u001b[0m\u001b[0;34m\u001b[0m\u001b[0m\n\u001b[0m",
      "\u001b[0;31mAttributeError\u001b[0m: 'Car' object has no attribute '__price'"
     ]
    }
   ],
   "source": [
    "davids_car.__price"
   ]
  },
  {
   "cell_type": "code",
   "execution_count": 34,
   "id": "62b976c5",
   "metadata": {},
   "outputs": [],
   "source": [
    "class Car:\n",
    "    def __init__(self,model,year,color,price):\n",
    "        self.__model=model\n",
    "        self.year=year\n",
    "        self.color=color\n",
    "        self.__price=price\n",
    "        \n",
    "    def get_price(self):\n",
    "        return self.__price\n",
    "        "
   ]
  },
  {
   "cell_type": "code",
   "execution_count": 35,
   "id": "5185c4d1",
   "metadata": {},
   "outputs": [],
   "source": [
    "davids_car=Car(\"Corolla\",\"2009\",\"gray\",5e7)"
   ]
  },
  {
   "cell_type": "code",
   "execution_count": 36,
   "id": "a27233f7",
   "metadata": {},
   "outputs": [
    {
     "data": {
      "text/plain": [
       "50000000.0"
      ]
     },
     "execution_count": 36,
     "metadata": {},
     "output_type": "execute_result"
    }
   ],
   "source": [
    "davids_car.get_price()"
   ]
  },
  {
   "cell_type": "code",
   "execution_count": 37,
   "id": "9e43a184",
   "metadata": {},
   "outputs": [
    {
     "data": {
      "text/plain": [
       "'2009'"
      ]
     },
     "execution_count": 37,
     "metadata": {},
     "output_type": "execute_result"
    }
   ],
   "source": [
    "davids_car.year"
   ]
  },
  {
   "cell_type": "code",
   "execution_count": null,
   "id": "77a80ccb",
   "metadata": {},
   "outputs": [],
   "source": []
  },
  {
   "cell_type": "code",
   "execution_count": null,
   "id": "73546975",
   "metadata": {},
   "outputs": [],
   "source": []
  },
  {
   "cell_type": "code",
   "execution_count": null,
   "id": "37f597d4",
   "metadata": {},
   "outputs": [],
   "source": []
  },
  {
   "cell_type": "code",
   "execution_count": null,
   "id": "e571fb27",
   "metadata": {},
   "outputs": [],
   "source": []
  },
  {
   "cell_type": "code",
   "execution_count": null,
   "id": "cfa4ab48",
   "metadata": {},
   "outputs": [],
   "source": []
  },
  {
   "cell_type": "code",
   "execution_count": 38,
   "id": "edde72d2",
   "metadata": {},
   "outputs": [],
   "source": [
    "a=12\n",
    "p=round"
   ]
  },
  {
   "cell_type": "code",
   "execution_count": 39,
   "id": "6df84873",
   "metadata": {},
   "outputs": [
    {
     "data": {
      "text/plain": [
       "23.46"
      ]
     },
     "execution_count": 39,
     "metadata": {},
     "output_type": "execute_result"
    }
   ],
   "source": [
    "p(23.45645,2)"
   ]
  },
  {
   "cell_type": "code",
   "execution_count": 40,
   "id": "e7adc4b0",
   "metadata": {},
   "outputs": [],
   "source": [
    "def make_use(f,a):\n",
    "    return f(a)"
   ]
  },
  {
   "cell_type": "code",
   "execution_count": 41,
   "id": "c9a486a1",
   "metadata": {},
   "outputs": [
    {
     "data": {
      "text/plain": [
       "4001"
      ]
     },
     "execution_count": 41,
     "metadata": {},
     "output_type": "execute_result"
    }
   ],
   "source": [
    "make_use(round,4000.764455)"
   ]
  },
  {
   "cell_type": "code",
   "execution_count": 42,
   "id": "bdb4795f",
   "metadata": {},
   "outputs": [
    {
     "name": "stdout",
     "output_type": "stream",
     "text": [
      "This is for me\n"
     ]
    }
   ],
   "source": [
    "make_use(print,\"This is for me\")"
   ]
  },
  {
   "cell_type": "code",
   "execution_count": 43,
   "id": "7382f43d",
   "metadata": {},
   "outputs": [
    {
     "data": {
      "text/plain": [
       "dict"
      ]
     },
     "execution_count": 43,
     "metadata": {},
     "output_type": "execute_result"
    }
   ],
   "source": [
    "make_use(type,{})"
   ]
  },
  {
   "cell_type": "code",
   "execution_count": 44,
   "id": "e29d7fdb",
   "metadata": {},
   "outputs": [
    {
     "data": {
      "text/plain": [
       "[0, 1, 2, 3, 4, 5, 6, 7, 8, 9]"
      ]
     },
     "execution_count": 44,
     "metadata": {},
     "output_type": "execute_result"
    }
   ],
   "source": [
    "make_use(list,range(10))"
   ]
  },
  {
   "cell_type": "code",
   "execution_count": 45,
   "id": "8948c1fc",
   "metadata": {},
   "outputs": [
    {
     "data": {
      "text/plain": [
       "['t', 'h', 'i', 's', ' ', 'i', 's', ' ', 'm', 'e']"
      ]
     },
     "execution_count": 45,
     "metadata": {},
     "output_type": "execute_result"
    }
   ],
   "source": [
    "make_use(list,\"this is me\")"
   ]
  },
  {
   "cell_type": "code",
   "execution_count": null,
   "id": "50ea92a5",
   "metadata": {},
   "outputs": [],
   "source": []
  },
  {
   "cell_type": "code",
   "execution_count": 1,
   "id": "b2633d7e",
   "metadata": {},
   "outputs": [],
   "source": [
    "from tkinter import *"
   ]
  },
  {
   "cell_type": "code",
   "execution_count": 49,
   "id": "2a836061",
   "metadata": {},
   "outputs": [
    {
     "data": {
      "text/plain": [
       "['ACTIVE',\n",
       " 'ALL',\n",
       " 'ANCHOR',\n",
       " 'ARC',\n",
       " 'Animal',\n",
       " 'BASELINE',\n",
       " 'BEVEL',\n",
       " 'BOTH',\n",
       " 'BOTTOM',\n",
       " 'BROWSE',\n",
       " 'BUTT',\n",
       " 'BaseWidget',\n",
       " 'BitmapImage',\n",
       " 'BooleanVar',\n",
       " 'Button',\n",
       " 'CASCADE',\n",
       " 'CENTER',\n",
       " 'CHAR',\n",
       " 'CHECKBUTTON',\n",
       " 'CHORD',\n",
       " 'COMMAND',\n",
       " 'CURRENT',\n",
       " 'CallWrapper',\n",
       " 'Canvas',\n",
       " 'Car',\n",
       " 'Cat',\n",
       " 'Checkbutton',\n",
       " 'DISABLED',\n",
       " 'DOTBOX',\n",
       " 'Dog',\n",
       " 'DoubleVar',\n",
       " 'E',\n",
       " 'END',\n",
       " 'EW',\n",
       " 'EXCEPTION',\n",
       " 'EXTENDED',\n",
       " 'Entry',\n",
       " 'Event',\n",
       " 'EventType',\n",
       " 'FALSE',\n",
       " 'FIRST',\n",
       " 'FLAT',\n",
       " 'Frame',\n",
       " 'GROOVE',\n",
       " 'Grid',\n",
       " 'HIDDEN',\n",
       " 'HORIZONTAL',\n",
       " 'INSERT',\n",
       " 'INSIDE',\n",
       " 'Image',\n",
       " 'In',\n",
       " 'IntVar',\n",
       " 'LAST',\n",
       " 'LEFT',\n",
       " 'Label',\n",
       " 'LabelFrame',\n",
       " 'Listbox',\n",
       " 'MITER',\n",
       " 'MOVETO',\n",
       " 'MULTIPLE',\n",
       " 'Menu',\n",
       " 'Menubutton',\n",
       " 'Message',\n",
       " 'Misc',\n",
       " 'N',\n",
       " 'NE',\n",
       " 'NO',\n",
       " 'NONE',\n",
       " 'NORMAL',\n",
       " 'NS',\n",
       " 'NSEW',\n",
       " 'NUMERIC',\n",
       " 'NW',\n",
       " 'NoDefaultRoot',\n",
       " 'OFF',\n",
       " 'ON',\n",
       " 'OUTSIDE',\n",
       " 'OptionMenu',\n",
       " 'Out',\n",
       " 'PAGES',\n",
       " 'PIESLICE',\n",
       " 'PROJECTING',\n",
       " 'Pack',\n",
       " 'PanedWindow',\n",
       " 'PhotoImage',\n",
       " 'Place',\n",
       " 'RADIOBUTTON',\n",
       " 'RAISED',\n",
       " 'READABLE',\n",
       " 'RIDGE',\n",
       " 'RIGHT',\n",
       " 'ROUND',\n",
       " 'Radiobutton',\n",
       " 'S',\n",
       " 'SCROLL',\n",
       " 'SE',\n",
       " 'SEL',\n",
       " 'SEL_FIRST',\n",
       " 'SEL_LAST',\n",
       " 'SEPARATOR',\n",
       " 'SINGLE',\n",
       " 'SOLID',\n",
       " 'SUNKEN',\n",
       " 'SW',\n",
       " 'Scale',\n",
       " 'Scrollbar',\n",
       " 'Spinbox',\n",
       " 'StringVar',\n",
       " 'TOP',\n",
       " 'TRUE',\n",
       " 'Tcl',\n",
       " 'TclError',\n",
       " 'TclVersion',\n",
       " 'Text',\n",
       " 'Tk',\n",
       " 'TkVersion',\n",
       " 'Toplevel',\n",
       " 'UNDERLINE',\n",
       " 'UNITS',\n",
       " 'VERTICAL',\n",
       " 'Variable',\n",
       " 'W',\n",
       " 'WORD',\n",
       " 'WRITABLE',\n",
       " 'Widget',\n",
       " 'Wm',\n",
       " 'X',\n",
       " 'XView',\n",
       " 'Y',\n",
       " 'YES',\n",
       " 'YView',\n",
       " '_',\n",
       " '_12',\n",
       " '_13',\n",
       " '_16',\n",
       " '_17',\n",
       " '_21',\n",
       " '_22',\n",
       " '_24',\n",
       " '_3',\n",
       " '_32',\n",
       " '_36',\n",
       " '_37',\n",
       " '_39',\n",
       " '_4',\n",
       " '_41',\n",
       " '_43',\n",
       " '_44',\n",
       " '_45',\n",
       " '_47',\n",
       " '_8',\n",
       " '_9',\n",
       " '__',\n",
       " '___',\n",
       " '__builtin__',\n",
       " '__builtins__',\n",
       " '__doc__',\n",
       " '__loader__',\n",
       " '__name__',\n",
       " '__package__',\n",
       " '__spec__',\n",
       " '_dh',\n",
       " '_i',\n",
       " '_i1',\n",
       " '_i10',\n",
       " '_i11',\n",
       " '_i12',\n",
       " '_i13',\n",
       " '_i14',\n",
       " '_i15',\n",
       " '_i16',\n",
       " '_i17',\n",
       " '_i18',\n",
       " '_i19',\n",
       " '_i2',\n",
       " '_i20',\n",
       " '_i21',\n",
       " '_i22',\n",
       " '_i23',\n",
       " '_i24',\n",
       " '_i25',\n",
       " '_i26',\n",
       " '_i27',\n",
       " '_i28',\n",
       " '_i29',\n",
       " '_i3',\n",
       " '_i30',\n",
       " '_i31',\n",
       " '_i32',\n",
       " '_i33',\n",
       " '_i34',\n",
       " '_i35',\n",
       " '_i36',\n",
       " '_i37',\n",
       " '_i38',\n",
       " '_i39',\n",
       " '_i4',\n",
       " '_i40',\n",
       " '_i41',\n",
       " '_i42',\n",
       " '_i43',\n",
       " '_i44',\n",
       " '_i45',\n",
       " '_i46',\n",
       " '_i47',\n",
       " '_i48',\n",
       " '_i49',\n",
       " '_i5',\n",
       " '_i6',\n",
       " '_i7',\n",
       " '_i8',\n",
       " '_i9',\n",
       " '_ih',\n",
       " '_ii',\n",
       " '_iii',\n",
       " '_oh',\n",
       " 'a',\n",
       " 'davids_car',\n",
       " 'dog1',\n",
       " 'dog2',\n",
       " 'dog3',\n",
       " 'exit',\n",
       " 'get_ipython',\n",
       " 'getboolean',\n",
       " 'getdouble',\n",
       " 'getint',\n",
       " 'image_names',\n",
       " 'image_types',\n",
       " 'mainloop',\n",
       " 'make_use',\n",
       " 'my_cat',\n",
       " 'p',\n",
       " 'quit',\n",
       " 'tkinter']"
      ]
     },
     "execution_count": 49,
     "metadata": {},
     "output_type": "execute_result"
    }
   ],
   "source": [
    "dir()"
   ]
  },
  {
   "cell_type": "code",
   "execution_count": 52,
   "id": "d2db2cb3",
   "metadata": {},
   "outputs": [],
   "source": [
    "root=Tk()\n",
    "root.mainloop()"
   ]
  },
  {
   "cell_type": "code",
   "execution_count": 53,
   "id": "f4e2e171",
   "metadata": {},
   "outputs": [],
   "source": [
    "root=Tk(className=\"Calculator\")\n",
    "root.mainloop()"
   ]
  },
  {
   "cell_type": "code",
   "execution_count": 56,
   "id": "dff447d3",
   "metadata": {},
   "outputs": [],
   "source": [
    "root=Tk(className=\"Calculator\")\n",
    "Label(root,text=\"First Number\").pack()\n",
    "Entry(root).pack()\n",
    "root.mainloop()"
   ]
  },
  {
   "cell_type": "code",
   "execution_count": 1,
   "id": "2a87526f",
   "metadata": {},
   "outputs": [],
   "source": [
    "from tkinter import *\n",
    "root=Tk(className=\"Calculator\")\n",
    "frame1=Frame(root).pack()\n",
    "Label(frame1,text=\"First Number\").pack(side=\"left\")\n",
    "Entry(frame1).pack()\n",
    "\n",
    "frame2=Frame(root).pack()\n",
    "Label(frame2,text=\"Second Number\").pack(side=\"left\")\n",
    "Entry(frame2).pack()\n",
    "Button(text=\"Add\").pack()\n",
    "root.mainloop()"
   ]
  },
  {
   "cell_type": "code",
   "execution_count": 5,
   "id": "69935083",
   "metadata": {},
   "outputs": [],
   "source": [
    "from tkinter import *\n",
    "root=Tk(className=\"Calculator\")\n",
    "\n",
    "Label(root,text=\"First Number\").grid(row=1,column=1)\n",
    "Entry(root).grid(row=1,column=2)\n",
    "\n",
    "Label(root,text=\"Second Number\").grid(row=2,column=1)\n",
    "Entry(root).grid(row=2,column=2)\n",
    "Button(text=\"Add\").grid(row=3,column=1,columnspan=2)\n",
    "root.mainloop()"
   ]
  },
  {
   "cell_type": "code",
   "execution_count": null,
   "id": "58763676",
   "metadata": {},
   "outputs": [],
   "source": []
  }
 ],
 "metadata": {
  "kernelspec": {
   "display_name": "Python 3 (ipykernel)",
   "language": "python",
   "name": "python3"
  },
  "language_info": {
   "codemirror_mode": {
    "name": "ipython",
    "version": 3
   },
   "file_extension": ".py",
   "mimetype": "text/x-python",
   "name": "python",
   "nbconvert_exporter": "python",
   "pygments_lexer": "ipython3",
   "version": "3.9.7"
  }
 },
 "nbformat": 4,
 "nbformat_minor": 5
}
