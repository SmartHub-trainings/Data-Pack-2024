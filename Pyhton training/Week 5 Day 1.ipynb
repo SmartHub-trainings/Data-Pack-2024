{
 "cells": [
  {
   "cell_type": "code",
   "execution_count": 1,
   "id": "43dbfcaf",
   "metadata": {},
   "outputs": [
    {
     "name": "stdout",
     "output_type": "stream",
     "text": [
      "Enter breadth: 4\n",
      "Enter Heaight: 6\n",
      "12.0\n"
     ]
    }
   ],
   "source": [
    "b=float(input(\"Enter breadth: \"))\n",
    "h=float(input(\"Enter Heaight: \"))\n",
    "area = b*h/2\n",
    "print(area)"
   ]
  },
  {
   "cell_type": "code",
   "execution_count": 3,
   "id": "bffe9e7f",
   "metadata": {},
   "outputs": [],
   "source": [
    "def area_of_traingle(h,l):\n",
    "    area = h*l/2\n",
    "    return area"
   ]
  },
  {
   "cell_type": "code",
   "execution_count": 5,
   "id": "9f63d537",
   "metadata": {},
   "outputs": [
    {
     "data": {
      "text/plain": [
       "12.0"
      ]
     },
     "execution_count": 5,
     "metadata": {},
     "output_type": "execute_result"
    }
   ],
   "source": [
    "area_of_traingle(4,6)"
   ]
  },
  {
   "cell_type": "code",
   "execution_count": 6,
   "id": "3536bf24",
   "metadata": {},
   "outputs": [
    {
     "name": "stdout",
     "output_type": "stream",
     "text": [
      "Enter height: 7\n",
      "Enter lenght: 8\n"
     ]
    },
    {
     "data": {
      "text/plain": [
       "28.0"
      ]
     },
     "execution_count": 6,
     "metadata": {},
     "output_type": "execute_result"
    }
   ],
   "source": [
    "height = float(input(\"Enter height: \"))\n",
    "lenght = float(input(\"Enter lenght: \"))\n",
    "area_of_traingle(height,lenght)"
   ]
  },
  {
   "cell_type": "code",
   "execution_count": 7,
   "id": "d5213717",
   "metadata": {},
   "outputs": [
    {
     "name": "stdout",
     "output_type": "stream",
     "text": [
      "Enter height: 5\n",
      "Enter lenght: 9\n",
      "Area of triangle is 22.5\n"
     ]
    }
   ],
   "source": [
    "height = float(input(\"Enter height: \"))\n",
    "lenght = float(input(\"Enter lenght: \"))\n",
    "area =area_of_traingle(height,lenght)\n",
    "print(f\"Area of triangle is {area}\")"
   ]
  },
  {
   "cell_type": "code",
   "execution_count": 8,
   "id": "89926c48",
   "metadata": {},
   "outputs": [
    {
     "name": "stdout",
     "output_type": "stream",
     "text": [
      "Enter height: 6\n",
      "Enter lenght: 4\n",
      "Twice the area of the land is 24.0\n"
     ]
    }
   ],
   "source": [
    "height = float(input(\"Enter height: \"))\n",
    "lenght = float(input(\"Enter lenght: \"))\n",
    "area =area_of_traingle(height,lenght)\n",
    "double = 2*area\n",
    "print(f\"Twice the area of the land is {double}\")"
   ]
  },
  {
   "cell_type": "code",
   "execution_count": null,
   "id": "0904eb25",
   "metadata": {},
   "outputs": [],
   "source": []
  }
 ],
 "metadata": {
  "kernelspec": {
   "display_name": "Python 3 (ipykernel)",
   "language": "python",
   "name": "python3"
  },
  "language_info": {
   "codemirror_mode": {
    "name": "ipython",
    "version": 3
   },
   "file_extension": ".py",
   "mimetype": "text/x-python",
   "name": "python",
   "nbconvert_exporter": "python",
   "pygments_lexer": "ipython3",
   "version": "3.9.7"
  }
 },
 "nbformat": 4,
 "nbformat_minor": 5
}
