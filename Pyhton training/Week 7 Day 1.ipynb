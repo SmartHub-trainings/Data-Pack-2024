{
 "cells": [
  {
   "cell_type": "code",
   "execution_count": 5,
   "id": "dc49ad50",
   "metadata": {},
   "outputs": [
    {
     "name": "stdout",
     "output_type": "stream",
     "text": [
      "I'm computing\n",
      "I'm computing\n",
      "I'm computing\n",
      "I'm computing\n"
     ]
    }
   ],
   "source": [
    "from tkinter import *\n",
    "root= Tk()\n",
    "def calculate():\n",
    "    print(\"I'm computing\")\n",
    "\n",
    "Label(root,text=\"Number one: \").grid(row=1,column=1)\n",
    "Entry(root).grid(row=1,column=2)\n",
    "Label(root,text=\"Number two: \").grid(row=2,column=1)\n",
    "Entry(root).grid(row=2,column=2)\n",
    "Button(root,text=\"Compute\",command=calculate).grid(row=3,column=1,columnspan=2)\n",
    "root.mainloop()"
   ]
  },
  {
   "cell_type": "code",
   "execution_count": 10,
   "id": "46fae9c8",
   "metadata": {},
   "outputs": [
    {
     "name": "stdout",
     "output_type": "stream",
     "text": [
      "1030\n"
     ]
    }
   ],
   "source": [
    "from tkinter import *\n",
    "root= Tk()\n",
    "def calculate():\n",
    "    number_one=first_number.get()\n",
    "    number_two=second_number.get()\n",
    "    result = number_one+number_two\n",
    "    print(result)\n",
    "\n",
    "Label(root,text=\"Number one: \").grid(row=1,column=1)\n",
    "first_number=Entry(root)\n",
    "first_number.grid(row=1,column=2)\n",
    "Label(root,text=\"Number two: \").grid(row=2,column=1)\n",
    "second_number=Entry(root)\n",
    "second_number.grid(row=2,column=2)\n",
    "Button(root,text=\"Compute\",command=calculate).grid(row=3,column=1,columnspan=2)\n",
    "root.mainloop()"
   ]
  },
  {
   "cell_type": "code",
   "execution_count": 13,
   "id": "5828403c",
   "metadata": {},
   "outputs": [
    {
     "name": "stdout",
     "output_type": "stream",
     "text": [
      "40.0\n"
     ]
    }
   ],
   "source": [
    "from tkinter import *\n",
    "root= Tk()\n",
    "def calculate():\n",
    "    number_one=float(first_number.get())\n",
    "    number_two=float(second_number.get())\n",
    "    result = number_one+number_two\n",
    "    print(result)\n",
    "    Label(root,text=f\"Result: {result}\",font=\"courier 40\").grid(row=4,column=1,columnspan=2)\n",
    "\n",
    "Label(root,text=\"Number one: \").grid(row=1,column=1)\n",
    "first_number=Entry(root)\n",
    "first_number.grid(row=1,column=2)\n",
    "Label(root,text=\"Number two: \").grid(row=2,column=1)\n",
    "second_number=Entry(root)\n",
    "second_number.grid(row=2,column=2)\n",
    "Button(root,text=\"Compute\",command=calculate).grid(row=3,column=1,columnspan=2)\n",
    "root.mainloop()"
   ]
  },
  {
   "cell_type": "code",
   "execution_count": 16,
   "id": "7182e207",
   "metadata": {},
   "outputs": [],
   "source": [
    "from tkinter import *\n",
    "root= Tk()\n",
    "def calculate():\n",
    "    number_one=float(first_number.get())\n",
    "    number_two=float(second_number.get())\n",
    "    result = number_one+number_two\n",
    "    Label(root,text=f\"Result: {result}\",font=\"courier 40\").grid(row=4,column=1,\n",
    "                                                                columnspan=2)\n",
    "    first_number.delete(0,END)\n",
    "    second_number.delete(0,\"end\")\n",
    "\n",
    "Label(root,text=\"Number one: \").grid(row=1,column=1)\n",
    "first_number=Entry(root)\n",
    "first_number.grid(row=1,column=2)\n",
    "Label(root,text=\"Number two: \").grid(row=2,column=1)\n",
    "second_number=Entry(root)\n",
    "second_number.grid(row=2,column=2)\n",
    "Button(root,text=\"Compute\",command=calculate).grid(row=3,column=1,columnspan=2)\n",
    "root.mainloop()"
   ]
  },
  {
   "cell_type": "code",
   "execution_count": 17,
   "id": "2ff62bdb",
   "metadata": {},
   "outputs": [
    {
     "data": {
      "text/plain": [
       "['ACTIVE',\n",
       " 'ALL',\n",
       " 'ANCHOR',\n",
       " 'ARC',\n",
       " 'BASELINE',\n",
       " 'BEVEL',\n",
       " 'BOTH',\n",
       " 'BOTTOM',\n",
       " 'BROWSE',\n",
       " 'BUTT',\n",
       " 'BaseWidget',\n",
       " 'BitmapImage',\n",
       " 'BooleanVar',\n",
       " 'Button',\n",
       " 'CASCADE',\n",
       " 'CENTER',\n",
       " 'CHAR',\n",
       " 'CHECKBUTTON',\n",
       " 'CHORD',\n",
       " 'COMMAND',\n",
       " 'CURRENT',\n",
       " 'CallWrapper',\n",
       " 'Canvas',\n",
       " 'Checkbutton',\n",
       " 'DISABLED',\n",
       " 'DOTBOX',\n",
       " 'DoubleVar',\n",
       " 'E',\n",
       " 'END',\n",
       " 'EW',\n",
       " 'EXCEPTION',\n",
       " 'EXTENDED',\n",
       " 'Entry',\n",
       " 'Event',\n",
       " 'EventType',\n",
       " 'FALSE',\n",
       " 'FIRST',\n",
       " 'FLAT',\n",
       " 'Frame',\n",
       " 'GROOVE',\n",
       " 'Grid',\n",
       " 'HIDDEN',\n",
       " 'HORIZONTAL',\n",
       " 'INSERT',\n",
       " 'INSIDE',\n",
       " 'Image',\n",
       " 'In',\n",
       " 'IntVar',\n",
       " 'LAST',\n",
       " 'LEFT',\n",
       " 'Label',\n",
       " 'LabelFrame',\n",
       " 'Listbox',\n",
       " 'MITER',\n",
       " 'MOVETO',\n",
       " 'MULTIPLE',\n",
       " 'Menu',\n",
       " 'Menubutton',\n",
       " 'Message',\n",
       " 'Misc',\n",
       " 'N',\n",
       " 'NE',\n",
       " 'NO',\n",
       " 'NONE',\n",
       " 'NORMAL',\n",
       " 'NS',\n",
       " 'NSEW',\n",
       " 'NUMERIC',\n",
       " 'NW',\n",
       " 'NoDefaultRoot',\n",
       " 'OFF',\n",
       " 'ON',\n",
       " 'OUTSIDE',\n",
       " 'OptionMenu',\n",
       " 'Out',\n",
       " 'PAGES',\n",
       " 'PIESLICE',\n",
       " 'PROJECTING',\n",
       " 'Pack',\n",
       " 'PanedWindow',\n",
       " 'PhotoImage',\n",
       " 'Place',\n",
       " 'RADIOBUTTON',\n",
       " 'RAISED',\n",
       " 'READABLE',\n",
       " 'RIDGE',\n",
       " 'RIGHT',\n",
       " 'ROUND',\n",
       " 'Radiobutton',\n",
       " 'S',\n",
       " 'SCROLL',\n",
       " 'SE',\n",
       " 'SEL',\n",
       " 'SEL_FIRST',\n",
       " 'SEL_LAST',\n",
       " 'SEPARATOR',\n",
       " 'SINGLE',\n",
       " 'SOLID',\n",
       " 'SUNKEN',\n",
       " 'SW',\n",
       " 'Scale',\n",
       " 'Scrollbar',\n",
       " 'Spinbox',\n",
       " 'StringVar',\n",
       " 'TOP',\n",
       " 'TRUE',\n",
       " 'Tcl',\n",
       " 'TclError',\n",
       " 'TclVersion',\n",
       " 'Text',\n",
       " 'Tk',\n",
       " 'TkVersion',\n",
       " 'Toplevel',\n",
       " 'UNDERLINE',\n",
       " 'UNITS',\n",
       " 'VERTICAL',\n",
       " 'Variable',\n",
       " 'W',\n",
       " 'WORD',\n",
       " 'WRITABLE',\n",
       " 'Widget',\n",
       " 'Wm',\n",
       " 'X',\n",
       " 'XView',\n",
       " 'Y',\n",
       " 'YES',\n",
       " 'YView',\n",
       " '_',\n",
       " '__',\n",
       " '___',\n",
       " '__builtin__',\n",
       " '__builtins__',\n",
       " '__doc__',\n",
       " '__loader__',\n",
       " '__name__',\n",
       " '__package__',\n",
       " '__spec__',\n",
       " '_dh',\n",
       " '_i',\n",
       " '_i1',\n",
       " '_i10',\n",
       " '_i11',\n",
       " '_i12',\n",
       " '_i13',\n",
       " '_i14',\n",
       " '_i15',\n",
       " '_i16',\n",
       " '_i17',\n",
       " '_i2',\n",
       " '_i3',\n",
       " '_i4',\n",
       " '_i5',\n",
       " '_i6',\n",
       " '_i7',\n",
       " '_i8',\n",
       " '_i9',\n",
       " '_ih',\n",
       " '_ii',\n",
       " '_iii',\n",
       " '_oh',\n",
       " 'calculate',\n",
       " 'exit',\n",
       " 'first_number',\n",
       " 'get_ipython',\n",
       " 'getboolean',\n",
       " 'getdouble',\n",
       " 'getint',\n",
       " 'image_names',\n",
       " 'image_types',\n",
       " 'mainloop',\n",
       " 'quit',\n",
       " 'root',\n",
       " 'second_number']"
      ]
     },
     "execution_count": 17,
     "metadata": {},
     "output_type": "execute_result"
    }
   ],
   "source": [
    "dir()"
   ]
  },
  {
   "cell_type": "code",
   "execution_count": 24,
   "id": "0ab26462",
   "metadata": {},
   "outputs": [],
   "source": [
    "from tkinter import *\n",
    "root= Tk(className=\" Business Calculator\")\n",
    "def calculate():\n",
    "    number_one=float(first_number.get())\n",
    "    number_two=float(second_number.get())\n",
    "    result = number_one+number_two\n",
    "    Label(root,text=f\"Result: {result}\",font=\"courier 40\").grid(row=4,column=1,\n",
    "                                                                columnspan=2)\n",
    "    first_number.delete(0,END)\n",
    "    second_number.delete(0,\"end\")\n",
    "\n",
    "\n",
    "Label(root,text=\"Business Calculator\").grid(row=0,column=1,columnspan=2)\n",
    "Label(root,text=\"Number one: \").grid(row=1,column=1)\n",
    "first_number=Entry(root)\n",
    "first_number.grid(row=1,column=2)\n",
    "Label(root,text=\"Number two: \").grid(row=2,column=1)\n",
    "second_number=Entry(root)\n",
    "second_number.grid(row=2,column=2)\n",
    "Button(root,text=\"+\",command=calculate).grid(row=3,column=1)\n",
    "Button(root,text=\"-\",command=calculate).grid(row=3,column=2)\n",
    "Button(root,text=\"X\",command=calculate).grid(row=3,column=3)\n",
    "Button(root,text=\"/\",command=calculate).grid(row=3,column=4)\n",
    "\n",
    "root.mainloop()"
   ]
  },
  {
   "cell_type": "code",
   "execution_count": 31,
   "id": "2de85d7f",
   "metadata": {},
   "outputs": [],
   "source": [
    "from tkinter import *\n",
    "root= Tk(className=\" Business Calculator\")\n",
    "def add():\n",
    "    number_one=float(first_number.get())\n",
    "    number_two=float(second_number.get())\n",
    "    result = number_one+number_two\n",
    "    Label(root,text=f\"Result: {result}\",font=\"courier 40\").grid(row=4,column=1,\n",
    "                                                                columnspan=2)\n",
    "\n",
    "def subtract():\n",
    "    number_one=float(first_number.get())\n",
    "    number_two=float(second_number.get())\n",
    "    result = number_one-number_two\n",
    "    Label(root,text=f\"Result: {result}\",font=\"courier 40\").grid(row=4,column=1,\n",
    "                                                                columnspan=2)\n",
    "def multiply():\n",
    "    number_one=float(first_number.get())\n",
    "    number_two=float(second_number.get())\n",
    "    result = number_one*number_two\n",
    "    Label(root,text=f\"Result: {result}\",font=\"courier 40\").grid(row=4,column=1,\n",
    "                                                                columnspan=2)\n",
    "\n",
    "def divide():\n",
    "    number_one=float(first_number.get())\n",
    "    number_two=float(second_number.get())\n",
    "    result = number_one/number_two\n",
    "    Label(root,text=f\"Result: {result}\",font=\"courier 40\").grid(row=4,column=1,\n",
    "                                                                columnspan=2)\n",
    "\n",
    "\n",
    "Label(root,text=\"Business Calculator\").grid(row=0,column=1,columnspan=2)\n",
    "Label(root,text=\"Number one: \").grid(row=1,column=1)\n",
    "first_number=Entry(root)\n",
    "first_number.grid(row=1,column=2)\n",
    "Label(root,text=\"Number two: \").grid(row=2,column=1)\n",
    "second_number=Entry(root)\n",
    "second_number.grid(row=2,column=2)\n",
    "button_frame= Frame(root)\n",
    "button_font=\"times 25\"\n",
    "button_frame.grid(row=3,column=1,columnspan=2)\n",
    "Button(button_frame,text=\"+\",command=add,font=button_font,bg=\"blue\").grid(row=3,column=1)\n",
    "Button(button_frame,text=\"-\",command=subtract,font=button_font).grid(row=3,column=2)\n",
    "Button(button_frame,text=\"X\",command=multiply,font=button_font).grid(row=3,column=3)\n",
    "Button(button_frame,text=\"/\",command=divide,font=button_font).grid(row=3,column=4)\n",
    "root.mainloop()"
   ]
  },
  {
   "cell_type": "code",
   "execution_count": 36,
   "id": "3203a07c",
   "metadata": {},
   "outputs": [],
   "source": [
    "from tkinter import *\n",
    "root= Tk(className=\" Business Calculator\")\n",
    "def add():\n",
    "    number_one=float(first_number.get())\n",
    "    number_two=float(second_number.get())\n",
    "    result = number_one+number_two\n",
    "    Label(root,text=f\"Result: {result}\",font=\"courier 40\").grid(row=3,column=1,\n",
    "                                                                columnspan=2)\n",
    "\n",
    "def subtract():\n",
    "    number_one=float(first_number.get())\n",
    "    number_two=float(second_number.get())\n",
    "    result = number_one-number_two\n",
    "    Label(root,text=f\"Result: {result}\",font=\"courier 40\").grid(row=3,column=1,\n",
    "                                                                columnspan=2)\n",
    "def multiply():\n",
    "    number_one=float(first_number.get())\n",
    "    number_two=float(second_number.get())\n",
    "    result = number_one*number_two\n",
    "    Label(root,text=f\"Result: {result}\",font=\"courier 40\").grid(row=3,column=1,\n",
    "                                                                columnspan=2)\n",
    "\n",
    "def divide():\n",
    "    number_one=float(first_number.get())\n",
    "    number_two=float(second_number.get())\n",
    "    result = number_one/number_two\n",
    "    Label(root,text=f\"Result: {result}\",font=\"courier 40\").grid(row=3,column=1,\n",
    "                                                                columnspan=2)\n",
    "    \n",
    "def clear():\n",
    "    first_number.delete(0,\"end\")\n",
    "    second_number.delete(0,\"end\")\n",
    "    \n",
    "\n",
    "\n",
    "Label(root,text=\"Business Calculator\").grid(row=0,column=1,columnspan=2)\n",
    "Label(root,text=\"Number one: \").grid(row=1,column=1)\n",
    "first_number=Entry(root)\n",
    "first_number.grid(row=1,column=2)\n",
    "Label(root,text=\"Number two: \").grid(row=2,column=1)\n",
    "second_number=Entry(root)\n",
    "second_number.grid(row=2,column=2)\n",
    "button_frame= Frame(root)\n",
    "button_font=\"times 25\"\n",
    "button_frame.grid(row=4,column=1,columnspan=2)\n",
    "Button(button_frame,text=\"+\",command=add,font=button_font,bg=\"blue\").grid(row=1,column=1)\n",
    "Button(button_frame,text=\"-\",command=subtract,font=button_font).grid(row=1,column=2)\n",
    "Button(button_frame,text=\"X\",command=multiply,font=button_font).grid(row=1,column=3)\n",
    "Button(button_frame,text=\"/\",command=divide,font=button_font).grid(row=1,column=4)\n",
    "Button(root,text=\"Clear\",command=clear).grid(row=5,column=1,columnspan=2)\n",
    "root.mainloop()"
   ]
  },
  {
   "cell_type": "code",
   "execution_count": 41,
   "id": "066f8c0d",
   "metadata": {},
   "outputs": [],
   "source": [
    "from tkinter import *\n",
    "root= Tk(className=\" Business Calculator\")\n",
    "def add():\n",
    "    number_one=float(first_number.get())\n",
    "    number_two=float(second_number.get())\n",
    "    result = number_one+number_two\n",
    "    result_label[\"text\"]=f\"Result: {result}\"\n",
    "\n",
    "\n",
    "def subtract():\n",
    "    number_one=float(first_number.get())\n",
    "    number_two=float(second_number.get())\n",
    "    result = number_one-number_two\n",
    "    result_label[\"text\"]=f\"Result: {result}\"\n",
    "\n",
    "def multiply():\n",
    "    number_one=float(first_number.get())\n",
    "    number_two=float(second_number.get())\n",
    "    result = number_one*number_two\n",
    "    result_label[\"text\"]=f\"Result: {result}\"\n",
    "\n",
    "\n",
    "def divide():\n",
    "    number_one=float(first_number.get())\n",
    "    number_two=float(second_number.get())\n",
    "    result = number_one/number_two\n",
    "    result_label[\"text\"]=f\"Result: {result}\"\n",
    "\n",
    "    \n",
    "def clear():\n",
    "    first_number.delete(0,\"end\")\n",
    "    second_number.delete(0,\"end\")\n",
    "    \n",
    "\n",
    "\n",
    "Label(root,text=\"Business Calculator\").grid(row=0,column=1,columnspan=2)\n",
    "Label(root,text=\"Number one: \").grid(row=1,column=1)\n",
    "first_number=Entry(root)\n",
    "first_number.grid(row=1,column=2)\n",
    "Label(root,text=\"Number two: \").grid(row=2,column=1)\n",
    "second_number=Entry(root)\n",
    "second_number.grid(row=2,column=2)\n",
    "button_frame= Frame(root)\n",
    "button_font=\"times 25\"\n",
    "result_label=Label(root,font=\"courier 40\")\n",
    "result_label.grid(row=3,column=1,columnspan=2)\n",
    "button_frame.grid(row=4,column=1,columnspan=2)\n",
    "Button(button_frame,text=\"+\",command=add,font=button_font,bg=\"blue\").grid(row=1,column=1)\n",
    "Button(button_frame,text=\"-\",command=subtract,font=button_font).grid(row=1,column=2)\n",
    "Button(button_frame,text=\"X\",command=multiply,font=button_font).grid(row=1,column=3)\n",
    "Button(button_frame,text=\"/\",command=divide,font=button_font).grid(row=1,column=4)\n",
    "Button(root,text=\"Clear\",command=clear).grid(row=5,column=1,columnspan=2)\n",
    "root.mainloop()"
   ]
  },
  {
   "cell_type": "code",
   "execution_count": null,
   "id": "699504d4",
   "metadata": {},
   "outputs": [],
   "source": []
  },
  {
   "cell_type": "markdown",
   "id": "3e9087b8",
   "metadata": {},
   "source": [
    "# Lambda Functions"
   ]
  },
  {
   "cell_type": "code",
   "execution_count": 42,
   "id": "cff42f3f",
   "metadata": {},
   "outputs": [],
   "source": [
    "def add_two(a,b):\n",
    "    return a+b"
   ]
  },
  {
   "cell_type": "code",
   "execution_count": 43,
   "id": "ec15a239",
   "metadata": {},
   "outputs": [
    {
     "data": {
      "text/plain": [
       "11"
      ]
     },
     "execution_count": 43,
     "metadata": {},
     "output_type": "execute_result"
    }
   ],
   "source": [
    "add_two(6,5)"
   ]
  },
  {
   "cell_type": "code",
   "execution_count": 44,
   "id": "d4387b75",
   "metadata": {},
   "outputs": [],
   "source": [
    "add_two_mod=lambda x,y:x+y"
   ]
  },
  {
   "cell_type": "code",
   "execution_count": 45,
   "id": "271678d5",
   "metadata": {},
   "outputs": [
    {
     "data": {
      "text/plain": [
       "10"
      ]
     },
     "execution_count": 45,
     "metadata": {},
     "output_type": "execute_result"
    }
   ],
   "source": [
    "add_two_mod(4,6)"
   ]
  },
  {
   "cell_type": "code",
   "execution_count": 49,
   "id": "70f0c842",
   "metadata": {},
   "outputs": [
    {
     "data": {
      "text/plain": [
       "900"
      ]
     },
     "execution_count": 49,
     "metadata": {},
     "output_type": "execute_result"
    }
   ],
   "source": [
    "(lambda y:y**2)()"
   ]
  },
  {
   "cell_type": "code",
   "execution_count": 57,
   "id": "a4f0c6ca",
   "metadata": {},
   "outputs": [],
   "source": [
    "from tkinter import *\n",
    "root= Tk(className=\" Business Calculator\")\n",
    "def act(operation):\n",
    "    \n",
    "    number_one=float(first_number.get())\n",
    "    number_two=float(second_number.get())\n",
    "    if operation==\"add\":\n",
    "        result = number_one+number_two\n",
    "    elif operation ==\"sub\":\n",
    "        result = number_one-number_two\n",
    "    elif operation ==\"multiply\":\n",
    "        result = number_one*number_two\n",
    "    else:\n",
    "        result = number_one/number_two\n",
    "        \n",
    "    result_label[\"text\"]=f\"Result: {result}\"\n",
    "\n",
    "    \n",
    "\n",
    "\n",
    "Label(root,text=\"Business Calculator\").grid(row=0,column=1,columnspan=2)\n",
    "Label(root,text=\"Number one: \").grid(row=1,column=1)\n",
    "first_number=Entry(root)\n",
    "first_number.grid(row=1,column=2)\n",
    "Label(root,text=\"Number two: \").grid(row=2,column=1)\n",
    "second_number=Entry(root)\n",
    "second_number.grid(row=2,column=2)\n",
    "button_frame= Frame(root)\n",
    "button_font=\"times 25\"\n",
    "result_label=Label(root,font=\"courier 40\")\n",
    "result_label.grid(row=3,column=1,columnspan=2)\n",
    "button_frame.grid(row=4,column=1,columnspan=2)\n",
    "Button(button_frame,text=\"+\",command=lambda:act(\"add\"),font=button_font,bg=\"blue\").grid(row=1,column=1)\n",
    "Button(button_frame,text=\"-\",command=lambda:act(\"sub\"),font=button_font).grid(row=1,column=2)\n",
    "Button(button_frame,text=\"X\",command=lambda:act(\"multiply\"),font=button_font).grid(row=1,column=3)\n",
    "Button(button_frame,text=\"/\",command=lambda:act(\"divide\"),font=button_font).grid(row=1,column=4)\n",
    "Button(root,text=\"Clear\",command=lambda:act()).grid(row=5,column=1,columnspan=2)\n",
    "root.mainloop()"
   ]
  },
  {
   "cell_type": "code",
   "execution_count": 65,
   "id": "7355485b",
   "metadata": {},
   "outputs": [
    {
     "name": "stderr",
     "output_type": "stream",
     "text": [
      "Exception in Tkinter callback\n",
      "Traceback (most recent call last):\n",
      "  File \"/Users/georgebsmith/opt/anaconda3/lib/python3.9/tkinter/__init__.py\", line 1892, in __call__\n",
      "    return self.func(*args)\n",
      "  File \"/var/folders/3d/pkg6m4_x11s9hw4jt5sb8zp00000gn/T/ipykernel_1851/2669108124.py\", line 27, in <lambda>\n",
      "    Button(button_frame,text=\"X\",command=lambda:act(\"x\"),font=button_font).grid(row=1,column=3)\n",
      "  File \"/var/folders/3d/pkg6m4_x11s9hw4jt5sb8zp00000gn/T/ipykernel_1851/2669108124.py\", line 7, in act\n",
      "    result=eval(number_one+operation+number_two)\n",
      "  File \"<string>\", line 1\n",
      "    23x10\n",
      "      ^\n",
      "SyntaxError: unexpected EOF while parsing\n"
     ]
    }
   ],
   "source": [
    "from tkinter import *\n",
    "root= Tk(className=\" Business Calculator\")\n",
    "def act(operation):\n",
    "    number_one=first_number.get()\n",
    "    number_two=second_number.get()\n",
    "    result=eval(number_one+operation+number_two)  \n",
    "    result_label[\"text\"]=f\"Result: {result}\"\n",
    "\n",
    "Label(root,text=\"Business Calculator\").grid(row=0,column=1,columnspan=2)\n",
    "Label(root,text=\"Number one: \").grid(row=1,column=1)\n",
    "first_number=Entry(root)\n",
    "first_number.grid(row=1,column=2)\n",
    "Label(root,text=\"Number two: \").grid(row=2,column=1)\n",
    "second_number=Entry(root)\n",
    "second_number.grid(row=2,column=2)\n",
    "button_frame= Frame(root)\n",
    "button_font=\"times 25\"\n",
    "result_label=Label(root,font=\"courier 40\")\n",
    "result_label.grid(row=3,column=1,columnspan=2)\n",
    "button_frame.grid(row=4,column=1,columnspan=2)\n",
    "Button(button_frame,text=\"+\",command=lambda:act(\"+\"),font=button_font,bg=\"blue\").grid(row=1,column=1)\n",
    "Button(button_frame,text=\"-\",command=lambda:act(\"-\"),font=button_font).grid(row=1,column=2)\n",
    "Button(button_frame,text=\"X\",command=lambda:act(\"*\"),font=button_font).grid(row=1,column=3)\n",
    "Button(button_frame,text=\"/\",command=lambda:act(\"/\"),font=button_font).grid(row=1,column=4)\n",
    "Button(root,text=\"Clear\",command=lambda:act()).grid(row=5,column=1,columnspan=2)\n",
    "root.mainloop()"
   ]
  },
  {
   "cell_type": "code",
   "execution_count": 58,
   "id": "edcf4e15",
   "metadata": {},
   "outputs": [
    {
     "data": {
      "text/plain": [
       "'12+6'"
      ]
     },
     "execution_count": 58,
     "metadata": {},
     "output_type": "execute_result"
    }
   ],
   "source": [
    "\"12+6\""
   ]
  },
  {
   "cell_type": "code",
   "execution_count": 59,
   "id": "f947842e",
   "metadata": {},
   "outputs": [
    {
     "data": {
      "text/plain": [
       "18"
      ]
     },
     "execution_count": 59,
     "metadata": {},
     "output_type": "execute_result"
    }
   ],
   "source": [
    "eval(\"12+6\")"
   ]
  },
  {
   "cell_type": "code",
   "execution_count": 60,
   "id": "44dbcbf2",
   "metadata": {},
   "outputs": [
    {
     "data": {
      "text/plain": [
       "72"
      ]
     },
     "execution_count": 60,
     "metadata": {},
     "output_type": "execute_result"
    }
   ],
   "source": [
    "eval(\"12*6\")"
   ]
  },
  {
   "cell_type": "code",
   "execution_count": 61,
   "id": "5086b434",
   "metadata": {},
   "outputs": [
    {
     "name": "stdout",
     "output_type": "stream",
     "text": [
      "72\n"
     ]
    }
   ],
   "source": [
    "print(eval(\"12*6\"))"
   ]
  },
  {
   "cell_type": "code",
   "execution_count": 64,
   "id": "74013b56",
   "metadata": {},
   "outputs": [
    {
     "data": {
      "text/plain": [
       "150"
      ]
     },
     "execution_count": 64,
     "metadata": {},
     "output_type": "execute_result"
    }
   ],
   "source": [
    "eval(\"80\"+\"+\"+\"70\")"
   ]
  },
  {
   "cell_type": "code",
   "execution_count": 66,
   "id": "3f9dfd6a",
   "metadata": {},
   "outputs": [
    {
     "data": {
      "text/plain": [
       "'12x5'"
      ]
     },
     "execution_count": 66,
     "metadata": {},
     "output_type": "execute_result"
    }
   ],
   "source": [
    "\"12x5\""
   ]
  },
  {
   "cell_type": "code",
   "execution_count": 67,
   "id": "23e54b6b",
   "metadata": {},
   "outputs": [
    {
     "ename": "SyntaxError",
     "evalue": "unexpected EOF while parsing (<string>, line 1)",
     "output_type": "error",
     "traceback": [
      "Traceback \u001b[0;36m(most recent call last)\u001b[0m:\n",
      "  File \u001b[1;32m\"/Users/georgebsmith/opt/anaconda3/lib/python3.9/site-packages/IPython/core/interactiveshell.py\"\u001b[0m, line \u001b[1;32m3444\u001b[0m, in \u001b[1;35mrun_code\u001b[0m\n    exec(code_obj, self.user_global_ns, self.user_ns)\n",
      "\u001b[0;36m  File \u001b[0;32m\"/var/folders/3d/pkg6m4_x11s9hw4jt5sb8zp00000gn/T/ipykernel_1851/3013839234.py\"\u001b[0;36m, line \u001b[0;32m1\u001b[0;36m, in \u001b[0;35m<module>\u001b[0;36m\u001b[0m\n\u001b[0;31m    eval(\"12x5\")\u001b[0m\n",
      "\u001b[0;36m  File \u001b[0;32m\"<string>\"\u001b[0;36m, line \u001b[0;32m1\u001b[0m\n\u001b[0;31m    12x5\u001b[0m\n\u001b[0m      ^\u001b[0m\n\u001b[0;31mSyntaxError\u001b[0m\u001b[0;31m:\u001b[0m unexpected EOF while parsing\n"
     ]
    }
   ],
   "source": [
    "eval(\"12x5\")"
   ]
  },
  {
   "cell_type": "code",
   "execution_count": 21,
   "id": "3d535c08",
   "metadata": {},
   "outputs": [],
   "source": [
    "from tkinter import *\n",
    "main = Tk(className=\" Basic Calculator\")\n",
    "display=\"\"\n",
    "def display_value(value):\n",
    "    global display\n",
    "    display=display+value\n",
    "#     text_entry.\n",
    "    text_entry.insert(0,display)\n",
    "    \n",
    "Label(main,text=\"Basic Calculator\",font=\"courier 40 bold\").grid(row=0,column=0,columnspan=2)\n",
    "text_entry=Entry(main,width=20,font=\"courier 35\",bd=10)\n",
    "text_entry.grid(row=1,column=0,columnspan=2)\n",
    "buttons_frame=Frame(main,bd=10,relief=\"raised\")\n",
    "buttons_frame.grid(row=2,column=0)\n",
    "display_buttons_font=\"courier 60\"\n",
    "Button(buttons_frame,text=\"1\",\n",
    "       command=lambda: display_value(\"1\"),\n",
    "       font=display_buttons_font).grid(row=0,column=0)\n",
    "Button(buttons_frame,\n",
    "       command=lambda: display_value(\"2\"),\n",
    "       text=\"2\",font=display_buttons_font).grid(row=0,column=1)\n",
    "Button(buttons_frame,text=\"3\",\n",
    "       command=lambda: display_value(\"3\"),\n",
    "       font=display_buttons_font).grid(row=0,column=2)\n",
    "# Button(buttons_frame,text=\"1\").grid(row=0,column=0)\n",
    "\n",
    "actions_frame=Frame(main,bd=10,relief=\"raised\")\n",
    "actions_frame.grid(row=2,column=1)\n",
    "Button(actions_frame,text=\"+\",\n",
    "       command=lambda: display_value(\"+\"),\n",
    "       font=display_buttons_font).grid(row=0,column=0)\n",
    "Button(actions_frame,text=\"-\",\n",
    "       command=lambda: display_value(\"-\"),\n",
    "       font=display_buttons_font).grid(row=0,column=1)\n",
    "\n",
    "Button(actions_frame,text=\"*\",\n",
    "       command=lambda: display_value(\"1\"),\n",
    "       font=display_buttons_font).grid(row=1,column=0)\n",
    "Button(actions_frame,text=chr(247),\n",
    "       command=lambda: display_value(\"/\"),\n",
    "       font=display_buttons_font).grid(row=1,column=1)\n",
    "\n",
    "Button(actions_frame,text=\"=\",font=display_buttons_font).grid(row=3,column=0,columnspan=2)\n",
    "\n",
    "\n",
    "\n",
    "\n",
    "main.mainloop()"
   ]
  },
  {
   "cell_type": "code",
   "execution_count": 13,
   "id": "68fa2d71",
   "metadata": {},
   "outputs": [],
   "source": [
    "a= 40\n",
    "def cal(b):\n",
    "    a=89\n",
    "    return a+b"
   ]
  },
  {
   "cell_type": "code",
   "execution_count": 14,
   "id": "ac450f8e",
   "metadata": {},
   "outputs": [
    {
     "data": {
      "text/plain": [
       "130"
      ]
     },
     "execution_count": 14,
     "metadata": {},
     "output_type": "execute_result"
    }
   ],
   "source": [
    "cal(90)"
   ]
  },
  {
   "cell_type": "code",
   "execution_count": 22,
   "id": "3a34a579",
   "metadata": {},
   "outputs": [],
   "source": [
    "from tkinter import *\n",
    "main = Tk(className=\" Basic Calculator\")\n",
    "display=\"\"\n",
    "def display_value(value):\n",
    "    global display\n",
    "    display=display+value\n",
    "    text_entry.delete(0,\"end\")\n",
    "    text_entry.insert(0,display)\n",
    "    \n",
    "Label(main,text=\"Basic Calculator\",font=\"courier 40 bold\").grid(row=0,column=0,columnspan=2)\n",
    "text_entry=Entry(main,width=20,font=\"courier 35\",bd=10)\n",
    "text_entry.grid(row=1,column=0,columnspan=2)\n",
    "buttons_frame=Frame(main,bd=10,relief=\"raised\")\n",
    "buttons_frame.grid(row=2,column=0)\n",
    "display_buttons_font=\"courier 60\"\n",
    "Button(buttons_frame,text=\"1\",\n",
    "       command=lambda: display_value(\"1\"),\n",
    "       font=display_buttons_font).grid(row=0,column=0)\n",
    "Button(buttons_frame,\n",
    "       command=lambda: display_value(\"2\"),\n",
    "       text=\"2\",font=display_buttons_font).grid(row=0,column=1)\n",
    "Button(buttons_frame,text=\"3\",\n",
    "       command=lambda: display_value(\"3\"),\n",
    "       font=display_buttons_font).grid(row=0,column=2)\n",
    "# Button(buttons_frame,text=\"1\").grid(row=0,column=0)\n",
    "\n",
    "actions_frame=Frame(main,bd=10,relief=\"raised\")\n",
    "actions_frame.grid(row=2,column=1)\n",
    "Button(actions_frame,text=\"+\",\n",
    "       command=lambda: display_value(\"+\"),\n",
    "       font=display_buttons_font).grid(row=0,column=0)\n",
    "Button(actions_frame,text=\"-\",\n",
    "       command=lambda: display_value(\"-\"),\n",
    "       font=display_buttons_font).grid(row=0,column=1)\n",
    "\n",
    "Button(actions_frame,text=\"*\",\n",
    "       command=lambda: display_value(\"1\"),\n",
    "       font=display_buttons_font).grid(row=1,column=0)\n",
    "Button(actions_frame,text=chr(247),\n",
    "       command=lambda: display_value(\"/\"),\n",
    "       font=display_buttons_font).grid(row=1,column=1)\n",
    "\n",
    "Button(actions_frame,text=\"=\",font=display_buttons_font).grid(row=3,column=0,columnspan=2)\n",
    "\n",
    "\n",
    "\n",
    "\n",
    "main.mainloop()"
   ]
  },
  {
   "cell_type": "code",
   "execution_count": 24,
   "id": "4a8f2637",
   "metadata": {},
   "outputs": [
    {
     "name": "stderr",
     "output_type": "stream",
     "text": [
      "Exception in Tkinter callback\n",
      "Traceback (most recent call last):\n",
      "  File \"/Users/georgebsmith/opt/anaconda3/lib/python3.9/tkinter/__init__.py\", line 1892, in __call__\n",
      "    return self.func(*args)\n",
      "  File \"/var/folders/3d/pkg6m4_x11s9hw4jt5sb8zp00000gn/T/ipykernel_4077/2640769879.py\", line 39, in <lambda>\n",
      "    command=lambda: display_value(\"-\"),\n",
      "  File \"/var/folders/3d/pkg6m4_x11s9hw4jt5sb8zp00000gn/T/ipykernel_4077/2640769879.py\", line 6, in display_value\n",
      "    display=display+value\n",
      "TypeError: unsupported operand type(s) for +: 'int' and 'str'\n"
     ]
    }
   ],
   "source": [
    "from tkinter import *\n",
    "main = Tk(className=\" Basic Calculator\")\n",
    "display=\"\"\n",
    "def display_value(value):\n",
    "    global display\n",
    "    display=display+value\n",
    "    text_entry.delete(0,\"end\")\n",
    "    text_entry.insert(0,display)\n",
    "def compute():\n",
    "    global display\n",
    "    result=eval(display)\n",
    "    text_entry.delete(0,\"end\")\n",
    "    display=result\n",
    "    text_entry.insert(0,result)\n",
    "    \n",
    "Label(main,text=\"Basic Calculator\",font=\"courier 40 bold\").grid(row=0,column=0,columnspan=2)\n",
    "text_entry=Entry(main,width=20,font=\"courier 35\",bd=10)\n",
    "text_entry.grid(row=1,column=0,columnspan=2)\n",
    "buttons_frame=Frame(main,bd=10,relief=\"raised\")\n",
    "buttons_frame.grid(row=2,column=0)\n",
    "display_buttons_font=\"courier 60\"\n",
    "Button(buttons_frame,text=\"1\",\n",
    "       command=lambda: display_value(\"1\"),\n",
    "       font=display_buttons_font).grid(row=0,column=0)\n",
    "Button(buttons_frame,\n",
    "       command=lambda: display_value(\"2\"),\n",
    "       text=\"2\",font=display_buttons_font).grid(row=0,column=1)\n",
    "Button(buttons_frame,text=\"3\",\n",
    "       command=lambda: display_value(\"3\"),\n",
    "       font=display_buttons_font).grid(row=0,column=2)\n",
    "# Button(buttons_frame,text=\"1\").grid(row=0,column=0)\n",
    "\n",
    "actions_frame=Frame(main,bd=10,relief=\"raised\")\n",
    "actions_frame.grid(row=2,column=1)\n",
    "Button(actions_frame,text=\"+\",\n",
    "       command=lambda: display_value(\"+\"),\n",
    "       font=display_buttons_font).grid(row=0,column=0)\n",
    "Button(actions_frame,text=\"-\",\n",
    "       command=lambda: display_value(\"-\"),\n",
    "       font=display_buttons_font).grid(row=0,column=1)\n",
    "\n",
    "Button(actions_frame,text=\"*\",\n",
    "       command=lambda: display_value(\"1\"),\n",
    "       font=display_buttons_font).grid(row=1,column=0)\n",
    "Button(actions_frame,text=chr(247),\n",
    "       command=lambda: display_value(\"/\"),\n",
    "       font=display_buttons_font).grid(row=1,column=1)\n",
    "\n",
    "Button(actions_frame,text=\"=\",\n",
    "       command=compute,\n",
    "       font=display_buttons_font).grid(row=3,column=0,columnspan=2)\n",
    "\n",
    "\n",
    "\n",
    "\n",
    "main.mainloop()"
   ]
  },
  {
   "cell_type": "code",
   "execution_count": 5,
   "id": "99c10e61",
   "metadata": {},
   "outputs": [],
   "source": [
    "from tkinter import *\n",
    "main = Tk(className=\" Basic Calculator\")\n",
    "display=\"\"\n",
    "def display_value(value):\n",
    "    global display\n",
    "    display=display+value\n",
    "    text_entry.delete(0,\"end\")\n",
    "    text_entry.insert(0,display)\n",
    "def compute():\n",
    "    global display\n",
    "    result=eval(display)\n",
    "    text_entry.delete(0,\"end\")\n",
    "    display=str(result)\n",
    "    text_entry.insert(0,result)\n",
    "    \n",
    "def back_space():\n",
    "    global display\n",
    "    result=display[:-1]\n",
    "    display=str(result)\n",
    "    text_entry.delete(0,\"end\")\n",
    "    text_entry.insert(0,result)\n",
    "    \n",
    "Label(main,text=\"Basic Calculator\",font=\"courier 40 bold\").grid(row=0,column=0,columnspan=2)\n",
    "text_entry=Entry(main,width=20,font=\"courier 35\",bd=10)\n",
    "text_entry.grid(row=1,column=0,columnspan=2)\n",
    "buttons_frame=Frame(main,bd=10,relief=\"raised\")\n",
    "buttons_frame.grid(row=2,column=0)\n",
    "display_buttons_font=\"courier 60\"\n",
    "Button(buttons_frame,text=\"1\",\n",
    "       command=lambda: display_value(\"1\"),\n",
    "       font=display_buttons_font).grid(row=0,column=0)\n",
    "Button(buttons_frame,\n",
    "       command=lambda: display_value(\"2\"),\n",
    "       text=\"2\",font=display_buttons_font).grid(row=0,column=1)\n",
    "Button(buttons_frame,text=\"3\",\n",
    "       command=lambda: display_value(\"3\"),\n",
    "       font=display_buttons_font).grid(row=0,column=2)\n",
    "# Button(buttons_frame,text=\"1\").grid(row=0,column=0)\n",
    "\n",
    "actions_frame=Frame(main,bd=10,relief=\"raised\")\n",
    "actions_frame.grid(row=2,column=1)\n",
    "Button(actions_frame,text=\"+\",\n",
    "       command=lambda: display_value(\"+\"),\n",
    "       font=display_buttons_font).grid(row=0,column=0)\n",
    "Button(actions_frame,text=\"-\",\n",
    "       command=lambda: display_value(\"-\"),\n",
    "       font=display_buttons_font).grid(row=0,column=1)\n",
    "\n",
    "Button(actions_frame,text=\"C\",\n",
    "       command=back_space,\n",
    "       font=display_buttons_font).grid(row=1,column=0)\n",
    "Button(actions_frame,text=chr(247),\n",
    "       command=lambda: display_value(\"/\"),\n",
    "       font=display_buttons_font).grid(row=1,column=1)\n",
    "\n",
    "Button(actions_frame,text=\"=\",\n",
    "       command=compute,\n",
    "       font=display_buttons_font).grid(row=3,column=0,columnspan=2)\n",
    "\n",
    "\n",
    "\n",
    "\n",
    "main.mainloop()"
   ]
  },
  {
   "cell_type": "code",
   "execution_count": null,
   "id": "d36f4f37",
   "metadata": {},
   "outputs": [],
   "source": []
  }
 ],
 "metadata": {
  "kernelspec": {
   "display_name": "Python 3 (ipykernel)",
   "language": "python",
   "name": "python3"
  },
  "language_info": {
   "codemirror_mode": {
    "name": "ipython",
    "version": 3
   },
   "file_extension": ".py",
   "mimetype": "text/x-python",
   "name": "python",
   "nbconvert_exporter": "python",
   "pygments_lexer": "ipython3",
   "version": "3.9.7"
  }
 },
 "nbformat": 4,
 "nbformat_minor": 5
}
