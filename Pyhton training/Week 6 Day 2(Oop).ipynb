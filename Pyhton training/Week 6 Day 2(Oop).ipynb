{
 "cells": [
  {
   "cell_type": "code",
   "execution_count": 1,
   "id": "2dc7d0e6",
   "metadata": {},
   "outputs": [],
   "source": [
    "class BankAccount:\n",
    "    def __init__(account_name,\n",
    "                 age,\n",
    "                 state,\n",
    "                 type_of_account,\n",
    "                 phone,\n",
    "                 address,\n",
    "                 initial_deposit=0,\n",
    "                ):\n",
    "        print(\"Account created\")"
   ]
  },
  {
   "cell_type": "code",
   "execution_count": 2,
   "id": "311182b2",
   "metadata": {},
   "outputs": [
    {
     "ename": "TypeError",
     "evalue": "__init__() missing 5 required positional arguments: 'age', 'state', 'type_of_account', 'phone', and 'address'",
     "output_type": "error",
     "traceback": [
      "\u001b[0;31m---------------------------------------------------------------------------\u001b[0m",
      "\u001b[0;31mTypeError\u001b[0m                                 Traceback (most recent call last)",
      "\u001b[0;32m/var/folders/3d/pkg6m4_x11s9hw4jt5sb8zp00000gn/T/ipykernel_75164/932842299.py\u001b[0m in \u001b[0;36m<module>\u001b[0;34m\u001b[0m\n\u001b[0;32m----> 1\u001b[0;31m \u001b[0maccount1\u001b[0m\u001b[0;34m=\u001b[0m\u001b[0mBankAccount\u001b[0m\u001b[0;34m(\u001b[0m\u001b[0;34m)\u001b[0m\u001b[0;34m\u001b[0m\u001b[0;34m\u001b[0m\u001b[0m\n\u001b[0m",
      "\u001b[0;31mTypeError\u001b[0m: __init__() missing 5 required positional arguments: 'age', 'state', 'type_of_account', 'phone', and 'address'"
     ]
    }
   ],
   "source": [
    "account1=BankAccount()\n",
    "account2=BankAccount()"
   ]
  },
  {
   "cell_type": "code",
   "execution_count": 3,
   "id": "72635864",
   "metadata": {},
   "outputs": [],
   "source": [
    "class BankAccount:\n",
    "    def __init__(self,account_name,\n",
    "                 age,\n",
    "                 state,\n",
    "                 type_of_account,\n",
    "                 phone,\n",
    "                 address,\n",
    "                 initial_deposit=0,\n",
    "                ):\n",
    "        print(\"Account created\")"
   ]
  },
  {
   "cell_type": "code",
   "execution_count": 4,
   "id": "5e01b383",
   "metadata": {},
   "outputs": [
    {
     "ename": "TypeError",
     "evalue": "__init__() missing 6 required positional arguments: 'account_name', 'age', 'state', 'type_of_account', 'phone', and 'address'",
     "output_type": "error",
     "traceback": [
      "\u001b[0;31m---------------------------------------------------------------------------\u001b[0m",
      "\u001b[0;31mTypeError\u001b[0m                                 Traceback (most recent call last)",
      "\u001b[0;32m/var/folders/3d/pkg6m4_x11s9hw4jt5sb8zp00000gn/T/ipykernel_75164/932842299.py\u001b[0m in \u001b[0;36m<module>\u001b[0;34m\u001b[0m\n\u001b[0;32m----> 1\u001b[0;31m \u001b[0maccount1\u001b[0m\u001b[0;34m=\u001b[0m\u001b[0mBankAccount\u001b[0m\u001b[0;34m(\u001b[0m\u001b[0;34m)\u001b[0m\u001b[0;34m\u001b[0m\u001b[0;34m\u001b[0m\u001b[0m\n\u001b[0m",
      "\u001b[0;31mTypeError\u001b[0m: __init__() missing 6 required positional arguments: 'account_name', 'age', 'state', 'type_of_account', 'phone', and 'address'"
     ]
    }
   ],
   "source": [
    "account1=BankAccount()"
   ]
  },
  {
   "cell_type": "code",
   "execution_count": 5,
   "id": "613e2ff3",
   "metadata": {},
   "outputs": [
    {
     "name": "stdout",
     "output_type": "stream",
     "text": [
      "Account created\n"
     ]
    }
   ],
   "source": [
    "account1=BankAccount(\"David\",32,\"Abia\",\n",
    "                     \"Current\",\"0810477613\",\"Helena Hotels\")"
   ]
  },
  {
   "cell_type": "code",
   "execution_count": 11,
   "id": "4550e9c3",
   "metadata": {},
   "outputs": [],
   "source": [
    "from random import randint\n",
    "class BankAccount:\n",
    "    def __init__(self,account_name,\n",
    "                 age,\n",
    "                 state,\n",
    "                 type_of_account,\n",
    "                 phone,\n",
    "                 address,\n",
    "                 initial_deposit=0,\n",
    "                ):\n",
    "        self.account_owner=account_name\n",
    "        self.age=age\n",
    "        self.state=state\n",
    "        self.type_of_account=type_of_account\n",
    "        self.phone=phone\n",
    "        self.address=address\n",
    "        self.initial_deposit=initial_deposit\n",
    "        self.balance=initial_deposit\n",
    "        self.account_limit=5_000_000\n",
    "        self.account_number =\"05\"\n",
    "        for i in range(8):\n",
    "            self.account_number+=str(randint(0,9))\n",
    "        \n",
    "        \n",
    "        "
   ]
  },
  {
   "cell_type": "code",
   "execution_count": 6,
   "id": "8022de69",
   "metadata": {},
   "outputs": [
    {
     "data": {
      "text/plain": [
       "5000000"
      ]
     },
     "execution_count": 6,
     "metadata": {},
     "output_type": "execute_result"
    }
   ],
   "source": [
    "5000000"
   ]
  },
  {
   "cell_type": "code",
   "execution_count": 7,
   "id": "4ab835d2",
   "metadata": {},
   "outputs": [
    {
     "data": {
      "text/plain": [
       "5000000"
      ]
     },
     "execution_count": 7,
     "metadata": {},
     "output_type": "execute_result"
    }
   ],
   "source": [
    "5_000_000"
   ]
  },
  {
   "cell_type": "code",
   "execution_count": 8,
   "id": "67ee866c",
   "metadata": {},
   "outputs": [
    {
     "data": {
      "text/plain": [
       "5000000.0"
      ]
     },
     "execution_count": 8,
     "metadata": {},
     "output_type": "execute_result"
    }
   ],
   "source": [
    "5e6"
   ]
  },
  {
   "cell_type": "code",
   "execution_count": 9,
   "id": "4b2f6297",
   "metadata": {},
   "outputs": [],
   "source": [
    "a=3,5,6"
   ]
  },
  {
   "cell_type": "code",
   "execution_count": 10,
   "id": "beaf23b7",
   "metadata": {},
   "outputs": [
    {
     "data": {
      "text/plain": [
       "(3, 5, 6)"
      ]
     },
     "execution_count": 10,
     "metadata": {},
     "output_type": "execute_result"
    }
   ],
   "source": [
    "a"
   ]
  },
  {
   "cell_type": "code",
   "execution_count": 12,
   "id": "0202635e",
   "metadata": {},
   "outputs": [],
   "source": [
    "account1=BankAccount(\"David\",32,\"Abia\",\n",
    "                     \"Current\",\"0810477613\",\"Helena Hotels\")"
   ]
  },
  {
   "cell_type": "code",
   "execution_count": 18,
   "id": "d8c57d70",
   "metadata": {},
   "outputs": [],
   "source": [
    "account2=BankAccount(\"Precious\",25,\"Abia\",\n",
    "                     \"Current\",\"0902356091\",\"Mandela Hostel\",1e7)"
   ]
  },
  {
   "cell_type": "code",
   "execution_count": 14,
   "id": "69ded3ac",
   "metadata": {},
   "outputs": [
    {
     "data": {
      "text/plain": [
       "5000000"
      ]
     },
     "execution_count": 14,
     "metadata": {},
     "output_type": "execute_result"
    }
   ],
   "source": [
    "account1.account_limit"
   ]
  },
  {
   "cell_type": "code",
   "execution_count": 15,
   "id": "46dd658b",
   "metadata": {},
   "outputs": [
    {
     "data": {
      "text/plain": [
       "'0508173732'"
      ]
     },
     "execution_count": 15,
     "metadata": {},
     "output_type": "execute_result"
    }
   ],
   "source": [
    "account2.account_number"
   ]
  },
  {
   "cell_type": "code",
   "execution_count": 16,
   "id": "8a0f8392",
   "metadata": {},
   "outputs": [
    {
     "data": {
      "text/plain": [
       "32"
      ]
     },
     "execution_count": 16,
     "metadata": {},
     "output_type": "execute_result"
    }
   ],
   "source": [
    "account1.age"
   ]
  },
  {
   "cell_type": "code",
   "execution_count": 17,
   "id": "855f268f",
   "metadata": {},
   "outputs": [
    {
     "data": {
      "text/plain": [
       "25"
      ]
     },
     "execution_count": 17,
     "metadata": {},
     "output_type": "execute_result"
    }
   ],
   "source": [
    "account2.age"
   ]
  },
  {
   "cell_type": "code",
   "execution_count": 19,
   "id": "274ff9f5",
   "metadata": {},
   "outputs": [
    {
     "data": {
      "text/plain": [
       "10000000.0"
      ]
     },
     "execution_count": 19,
     "metadata": {},
     "output_type": "execute_result"
    }
   ],
   "source": [
    "account2.balance"
   ]
  },
  {
   "cell_type": "code",
   "execution_count": 20,
   "id": "e2c692c4",
   "metadata": {},
   "outputs": [
    {
     "data": {
      "text/plain": [
       "10000000.0"
      ]
     },
     "execution_count": 20,
     "metadata": {},
     "output_type": "execute_result"
    }
   ],
   "source": [
    "account2.initial_deposit"
   ]
  },
  {
   "cell_type": "code",
   "execution_count": 26,
   "id": "759bd6a0",
   "metadata": {},
   "outputs": [],
   "source": [
    "from random import randint\n",
    "class BankAccount:\n",
    "    def __init__(self,account_name,\n",
    "                 age,\n",
    "                 state,\n",
    "                 type_of_account,\n",
    "                 phone,\n",
    "                 address,\n",
    "                 initial_deposit=0,\n",
    "                ):\n",
    "        self.account_owner=account_name\n",
    "        self.age=age\n",
    "        self.state=state\n",
    "        self.type_of_account=type_of_account\n",
    "        self.phone=phone\n",
    "        self.address=address\n",
    "        self.initial_deposit=initial_deposit\n",
    "        self.balance=initial_deposit\n",
    "        self.account_limit=5_000_000\n",
    "        self.account_number =\"05\"\n",
    "        for i in range(8):\n",
    "            self.account_number+=str(randint(0,9))\n",
    "            \n",
    "    def make_deposit(self,amount):\n",
    "        self.balance +=amount\n",
    "\n",
    "        \n",
    "        "
   ]
  },
  {
   "cell_type": "code",
   "execution_count": 27,
   "id": "911b163a",
   "metadata": {},
   "outputs": [],
   "source": [
    "account1=BankAccount(\"David\",32,\"Abia\",\n",
    "                     \"Current\",\"0810477613\",\"Helena Hotels\")"
   ]
  },
  {
   "cell_type": "code",
   "execution_count": 23,
   "id": "a4df3dbe",
   "metadata": {},
   "outputs": [
    {
     "data": {
      "text/plain": [
       "0"
      ]
     },
     "execution_count": 23,
     "metadata": {},
     "output_type": "execute_result"
    }
   ],
   "source": [
    "account1.balance"
   ]
  },
  {
   "cell_type": "code",
   "execution_count": 28,
   "id": "901b6543",
   "metadata": {},
   "outputs": [],
   "source": [
    "account1.make_deposit(5000)"
   ]
  },
  {
   "cell_type": "code",
   "execution_count": 29,
   "id": "c192cff9",
   "metadata": {},
   "outputs": [
    {
     "data": {
      "text/plain": [
       "5000"
      ]
     },
     "execution_count": 29,
     "metadata": {},
     "output_type": "execute_result"
    }
   ],
   "source": [
    "account1.balance"
   ]
  },
  {
   "cell_type": "code",
   "execution_count": 30,
   "id": "c6cababb",
   "metadata": {},
   "outputs": [
    {
     "data": {
      "text/plain": [
       "0"
      ]
     },
     "execution_count": 30,
     "metadata": {},
     "output_type": "execute_result"
    }
   ],
   "source": [
    "account1.initial_deposit"
   ]
  },
  {
   "cell_type": "code",
   "execution_count": 31,
   "id": "1d6fa6c0",
   "metadata": {},
   "outputs": [],
   "source": [
    "from random import randint\n",
    "class BankAccount:\n",
    "    def __init__(self,account_name,\n",
    "                 age,\n",
    "                 state,\n",
    "                 type_of_account,\n",
    "                 phone,\n",
    "                 address,\n",
    "                 initial_deposit=0,\n",
    "                ):\n",
    "        self.account_owner=account_name\n",
    "        self.age=age\n",
    "        self.state=state\n",
    "        self.type_of_account=type_of_account\n",
    "        self.phone=phone\n",
    "        self.address=address\n",
    "        self.initial_deposit=initial_deposit\n",
    "        self.balance=initial_deposit\n",
    "        self.account_limit=5_000_000\n",
    "        self.account_number =\"05\"\n",
    "        for i in range(8):\n",
    "            self.account_number+=str(randint(0,9))\n",
    "            \n",
    "    def make_deposit(self,amount):\n",
    "        if amount<50:\n",
    "            print(\"Minimum deposit is 50\")\n",
    "        else:\n",
    "            self.balance +=amount\n",
    "\n",
    "        \n",
    "        "
   ]
  },
  {
   "cell_type": "code",
   "execution_count": 32,
   "id": "8401c058",
   "metadata": {},
   "outputs": [],
   "source": [
    "account1=BankAccount(\"David\",32,\"Abia\",\n",
    "                     \"Current\",\"0810477613\",\"Helena Hotels\")"
   ]
  },
  {
   "cell_type": "code",
   "execution_count": 33,
   "id": "ce350219",
   "metadata": {},
   "outputs": [],
   "source": [
    "account1.make_deposit(3000)"
   ]
  },
  {
   "cell_type": "code",
   "execution_count": 34,
   "id": "9c3101f3",
   "metadata": {},
   "outputs": [
    {
     "data": {
      "text/plain": [
       "3000"
      ]
     },
     "execution_count": 34,
     "metadata": {},
     "output_type": "execute_result"
    }
   ],
   "source": [
    "account1.balance"
   ]
  },
  {
   "cell_type": "code",
   "execution_count": 35,
   "id": "2c2b79c6",
   "metadata": {},
   "outputs": [
    {
     "name": "stdout",
     "output_type": "stream",
     "text": [
      "Minimum deposit is 50\n"
     ]
    }
   ],
   "source": [
    "account1.make_deposit(40)"
   ]
  },
  {
   "cell_type": "code",
   "execution_count": 36,
   "id": "ecb4e459",
   "metadata": {},
   "outputs": [
    {
     "data": {
      "text/plain": [
       "3000"
      ]
     },
     "execution_count": 36,
     "metadata": {},
     "output_type": "execute_result"
    }
   ],
   "source": [
    "account1.balance"
   ]
  },
  {
   "cell_type": "code",
   "execution_count": 37,
   "id": "74e139ed",
   "metadata": {},
   "outputs": [],
   "source": [
    "from math import pi\n",
    "class Circle:\n",
    "    def __init__(self,radius):\n",
    "        self.radius =radius\n",
    "        \n",
    "    def get_area(self):\n",
    "        return pi*self.radius**2\n",
    "    \n",
    "    def get_perimeter(self):\n",
    "        return 2*pi*self.radius\n",
    "        "
   ]
  },
  {
   "cell_type": "code",
   "execution_count": 38,
   "id": "c1f3c10f",
   "metadata": {},
   "outputs": [],
   "source": [
    "my_circle = Circle(2)"
   ]
  },
  {
   "cell_type": "code",
   "execution_count": 39,
   "id": "f092aa0d",
   "metadata": {},
   "outputs": [
    {
     "data": {
      "text/plain": [
       "12.566370614359172"
      ]
     },
     "execution_count": 39,
     "metadata": {},
     "output_type": "execute_result"
    }
   ],
   "source": [
    "my_circle.get_area()"
   ]
  },
  {
   "cell_type": "code",
   "execution_count": 40,
   "id": "210aa7f2",
   "metadata": {},
   "outputs": [
    {
     "data": {
      "text/plain": [
       "12.566370614359172"
      ]
     },
     "execution_count": 40,
     "metadata": {},
     "output_type": "execute_result"
    }
   ],
   "source": [
    "my_circle.get_perimeter()"
   ]
  },
  {
   "cell_type": "code",
   "execution_count": 41,
   "id": "65e851f2",
   "metadata": {},
   "outputs": [],
   "source": [
    "class Vector:\n",
    "    def __init__(self,x,y,z):\n",
    "        self.x=x\n",
    "        self.y=y\n",
    "        self.z=z\n",
    "        \n",
    "    ## Compute method to get magnitude\n",
    "    "
   ]
  },
  {
   "cell_type": "code",
   "execution_count": 42,
   "id": "59452898",
   "metadata": {},
   "outputs": [],
   "source": [
    "v1=Vector(1,4,6)"
   ]
  },
  {
   "cell_type": "code",
   "execution_count": 43,
   "id": "3ad7651d",
   "metadata": {},
   "outputs": [],
   "source": [
    "v2=Vector(4,6,0)"
   ]
  },
  {
   "cell_type": "code",
   "execution_count": 44,
   "id": "55763a37",
   "metadata": {},
   "outputs": [
    {
     "ename": "TypeError",
     "evalue": "unsupported operand type(s) for +: 'Vector' and 'Vector'",
     "output_type": "error",
     "traceback": [
      "\u001b[0;31m---------------------------------------------------------------------------\u001b[0m",
      "\u001b[0;31mTypeError\u001b[0m                                 Traceback (most recent call last)",
      "\u001b[0;32m/var/folders/3d/pkg6m4_x11s9hw4jt5sb8zp00000gn/T/ipykernel_75164/1550407469.py\u001b[0m in \u001b[0;36m<module>\u001b[0;34m\u001b[0m\n\u001b[0;32m----> 1\u001b[0;31m \u001b[0mv1\u001b[0m\u001b[0;34m+\u001b[0m\u001b[0mv2\u001b[0m\u001b[0;34m\u001b[0m\u001b[0;34m\u001b[0m\u001b[0m\n\u001b[0m",
      "\u001b[0;31mTypeError\u001b[0m: unsupported operand type(s) for +: 'Vector' and 'Vector'"
     ]
    }
   ],
   "source": [
    "v1+v2"
   ]
  },
  {
   "cell_type": "code",
   "execution_count": 46,
   "id": "47b5053b",
   "metadata": {},
   "outputs": [
    {
     "data": {
      "text/plain": [
       "__main__.Vector"
      ]
     },
     "execution_count": 46,
     "metadata": {},
     "output_type": "execute_result"
    }
   ],
   "source": [
    "type(v1)"
   ]
  },
  {
   "cell_type": "code",
   "execution_count": 47,
   "id": "b42f49e4",
   "metadata": {},
   "outputs": [
    {
     "data": {
      "text/plain": [
       "<__main__.Vector at 0x7fd51cefe7c0>"
      ]
     },
     "execution_count": 47,
     "metadata": {},
     "output_type": "execute_result"
    }
   ],
   "source": [
    "v1"
   ]
  },
  {
   "cell_type": "code",
   "execution_count": 48,
   "id": "460531d7",
   "metadata": {},
   "outputs": [],
   "source": [
    "class Vector:\n",
    "    def __init__(self,x,y,z):\n",
    "        self.x=x\n",
    "        self.y=y\n",
    "        self.z=z\n",
    "        \n",
    "    def __add__(self,other_vector):\n",
    "        x=self.x+other_vector.x\n",
    "        y=self.y+other_vector.y\n",
    "        z=self.z+other_vector.z\n",
    "        return (x,y,z)\n",
    "        \n",
    "        \n",
    "        \n",
    "    ## Compute method to get magnitude\n",
    "    "
   ]
  },
  {
   "cell_type": "code",
   "execution_count": 49,
   "id": "840aad53",
   "metadata": {},
   "outputs": [],
   "source": [
    "v1=Vector(1,4,6)\n",
    "v2=Vector(5,7,-3)"
   ]
  },
  {
   "cell_type": "code",
   "execution_count": 50,
   "id": "11509620",
   "metadata": {},
   "outputs": [
    {
     "data": {
      "text/plain": [
       "(6, 11, 3)"
      ]
     },
     "execution_count": 50,
     "metadata": {},
     "output_type": "execute_result"
    }
   ],
   "source": [
    "v1+v2"
   ]
  },
  {
   "cell_type": "code",
   "execution_count": null,
   "id": "a5a25fdf",
   "metadata": {},
   "outputs": [],
   "source": []
  }
 ],
 "metadata": {
  "kernelspec": {
   "display_name": "Python 3 (ipykernel)",
   "language": "python",
   "name": "python3"
  },
  "language_info": {
   "codemirror_mode": {
    "name": "ipython",
    "version": 3
   },
   "file_extension": ".py",
   "mimetype": "text/x-python",
   "name": "python",
   "nbconvert_exporter": "python",
   "pygments_lexer": "ipython3",
   "version": "3.9.7"
  }
 },
 "nbformat": 4,
 "nbformat_minor": 5
}
