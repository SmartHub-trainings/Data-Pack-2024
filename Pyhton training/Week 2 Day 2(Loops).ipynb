{
 "cells": [
  {
   "cell_type": "code",
   "execution_count": 1,
   "id": "ecc605eb-e5bf-4463-8a4c-6336a954e8a1",
   "metadata": {},
   "outputs": [],
   "source": [
    "## 35"
   ]
  },
  {
   "cell_type": "code",
   "execution_count": 13,
   "id": "9abc00ce-6e5d-430e-867a-8212608038c4",
   "metadata": {},
   "outputs": [
    {
     "name": "stdin",
     "output_type": "stream",
     "text": [
      "Enter the human year:  5\n"
     ]
    },
    {
     "name": "stdout",
     "output_type": "stream",
     "text": [
      "33.0 Dog years\n"
     ]
    }
   ],
   "source": [
    "human_year=int(input(\"Enter the human year: \"))\n",
    "first_two_years=10.5*human_year\n",
    "human_year_more_than_2=10.5*2+(human_year-2)*4\n",
    "if human_year<=0:\n",
    "    print(\"Invalid input\")\n",
    "elif human_year<=2:\n",
    "    print(f\"{first_two_years} Dog years\")\n",
    "else:\n",
    "    print(f\"{human_year_more_than_2} Dog years\")"
   ]
  },
  {
   "cell_type": "code",
   "execution_count": 23,
   "id": "e92afbd6-651b-4be6-8ec1-0ad4a747e9da",
   "metadata": {},
   "outputs": [
    {
     "name": "stdin",
     "output_type": "stream",
     "text": [
      "Enter the human year:  0\n"
     ]
    },
    {
     "name": "stdout",
     "output_type": "stream",
     "text": [
      "Error\n",
      "0.0 Dog years\n"
     ]
    }
   ],
   "source": [
    "human_year=int(input(\"Enter the human year: \"))\n",
    "if human_year<=0:\n",
    "    print(\"Error\")\n",
    "first_two_human_years=10.5*2\n",
    "cal1=10.5*human_year\n",
    "if human_year<=2:\n",
    "    print(f\"{cal1} Dog years\")\n",
    "cal2=first_two_human_years+4*(human_year-2)\n",
    "if human_year>2:\n",
    "    print(f\"{cal2} Dog years\")"
   ]
  },
  {
   "cell_type": "code",
   "execution_count": 35,
   "id": "9cf8c82d-64e1-49f4-82b3-d0ebc01c3849",
   "metadata": {},
   "outputs": [
    {
     "name": "stdin",
     "output_type": "stream",
     "text": [
      "Enter the human year:  0\n"
     ]
    },
    {
     "name": "stdout",
     "output_type": "stream",
     "text": [
      "Error\n"
     ]
    }
   ],
   "source": [
    "human_year=int(input(\"Enter the human year: \"))\n",
    "first_two_human_years=10.5*2\n",
    "if human_year<=0:\n",
    "    print(\"Error\")\n",
    "elif human_year<=2:\n",
    "    cal1=10.5*human_year\n",
    "    print(f\"{cal1} Dog years\")\n",
    "else:\n",
    "    cal2=first_two_human_years+4*(human_year-2)\n",
    "    print(f\"{cal2} Dog years\")"
   ]
  },
  {
   "cell_type": "code",
   "execution_count": 43,
   "id": "11cd2b77-f0ed-4b92-82ff-a1cae1f30d78",
   "metadata": {},
   "outputs": [
    {
     "name": "stdin",
     "output_type": "stream",
     "text": [
      "Enter month:  feBruary\n"
     ]
    },
    {
     "name": "stdout",
     "output_type": "stream",
     "text": [
      "28 days or 29 days\n"
     ]
    }
   ],
   "source": [
    "month=input(\"Enter month: \").title()\n",
    "if (month==\"January\" \n",
    "    or month ==\"March\" \n",
    "    or month==\"May\" \n",
    "    or month==\"July\" \n",
    "    or month==\"August\" \n",
    "    or month==\"October\"\n",
    "    or month==\"December\"):\n",
    "    print(\"31 days\")\n",
    "elif month==\"February\":\n",
    "    print(\"28 days or 29 days\")\n",
    "else:\n",
    "    print(\"30 days\")"
   ]
  },
  {
   "cell_type": "code",
   "execution_count": 45,
   "id": "f8153f6d-2731-4466-840a-6f63f89f134b",
   "metadata": {},
   "outputs": [
    {
     "name": "stdin",
     "output_type": "stream",
     "text": [
      "Enter month:  january\n"
     ]
    },
    {
     "name": "stdout",
     "output_type": "stream",
     "text": [
      "31 days\n"
     ]
    }
   ],
   "source": [
    "month=input(\"Enter month: \").title()\n",
    "months_with_31_days=[\"January\",\"March\" ,\"May\" ] \n",
    "if (month in months_with_31_days):\n",
    "    print(\"31 days\")\n",
    "elif month==\"February\":\n",
    "    print(\"28 days or 29 days\")\n",
    "else:\n",
    "    print(\"30 days\")"
   ]
  },
  {
   "cell_type": "code",
   "execution_count": 47,
   "id": "6f8500cb-4527-4491-8164-b809cc485224",
   "metadata": {},
   "outputs": [
    {
     "name": "stdout",
     "output_type": "stream",
     "text": [
      "The Zen of Python, by Tim Peters\n",
      "\n",
      "Beautiful is better than ugly.\n",
      "Explicit is better than implicit.\n",
      "Simple is better than complex.\n",
      "Complex is better than complicated.\n",
      "Flat is better than nested.\n",
      "Sparse is better than dense.\n",
      "Readability counts.\n",
      "Special cases aren't special enough to break the rules.\n",
      "Although practicality beats purity.\n",
      "Errors should never pass silently.\n",
      "Unless explicitly silenced.\n",
      "In the face of ambiguity, refuse the temptation to guess.\n",
      "There should be one-- and preferably only one --obvious way to do it.\n",
      "Although that way may not be obvious at first unless you're Dutch.\n",
      "Now is better than never.\n",
      "Although never is often better than *right* now.\n",
      "If the implementation is hard to explain, it's a bad idea.\n",
      "If the implementation is easy to explain, it may be a good idea.\n",
      "Namespaces are one honking great idea -- let's do more of those!\n"
     ]
    }
   ],
   "source": [
    "import this"
   ]
  },
  {
   "cell_type": "code",
   "execution_count": 65,
   "id": "2d4c2deb-61e3-483f-89c8-0ff81cc829ce",
   "metadata": {},
   "outputs": [
    {
     "name": "stdout",
     "output_type": "stream",
     "text": [
      "Menu:\n",
      "1. Garri and Soup(1200/plate)\n",
      "2. Jollof rice and Chicken(4500/plate)\n"
     ]
    },
    {
     "name": "stdin",
     "output_type": "stream",
     "text": [
      "Choose 1 or 2:  8\n"
     ]
    },
    {
     "name": "stdout",
     "output_type": "stream",
     "text": [
      "You chosed Rice and Chicken\n"
     ]
    },
    {
     "name": "stdin",
     "output_type": "stream",
     "text": [
      "Enter number of plates:  6\n"
     ]
    },
    {
     "name": "stdout",
     "output_type": "stream",
     "text": [
      "Total cost: 27000\n",
      "You have a discount of 2700.0\n",
      "Final Amount to pay is 24300.0\n"
     ]
    }
   ],
   "source": [
    "menu =\"Menu:\\n1. Garri and Soup(1200/plate)\\n2. Jollof rice and Chicken(4500/plate)\"\n",
    "print(menu)\n",
    "price_of_rice=4500\n",
    "price_of_swallow=1200\n",
    "choice_of_meal=input(\"Choose 1 or 2: \")\n",
    "if choice_of_meal==\"1\":\n",
    "    print(\"You chosed Garri and Soup\")\n",
    "else:\n",
    "    print(\"You chosed Rice and Chicken\")\n",
    "number_of_plates=int(input(\"Enter number of plates: \"))\n",
    "if choice_of_meal==\"1\":\n",
    "    total_cost = number_of_plates*price_of_swallow\n",
    "else:\n",
    "    total_cost = number_of_plates*price_of_rice\n",
    "print(f\"Total cost: {total_cost}\")\n",
    "if total_cost>=10000:\n",
    "    discount=0.1*total_cost\n",
    "    amount_to_pay=total_cost-discount\n",
    "    print(f\"You have a discount of {discount}\")\n",
    "    print(f\"Final Amount to pay is {amount_to_pay}\")"
   ]
  },
  {
   "cell_type": "code",
   "execution_count": 69,
   "id": "68a7261b-71ef-4001-92e4-2244190b7389",
   "metadata": {},
   "outputs": [
    {
     "name": "stdout",
     "output_type": "stream",
     "text": [
      "this\n",
      "is\n",
      "happening\n"
     ]
    }
   ],
   "source": [
    "print(\"this\\nis\\nhappening\")"
   ]
  },
  {
   "cell_type": "markdown",
   "id": "7049a7b0-15f7-4b29-9655-89f80818bb22",
   "metadata": {},
   "source": [
    "## Loops "
   ]
  },
  {
   "cell_type": "code",
   "execution_count": 74,
   "id": "c240b52d-a881-4bd0-acdf-1cd380440532",
   "metadata": {},
   "outputs": [
    {
     "data": {
      "text/plain": [
       "[0, 1, 2, 3]"
      ]
     },
     "execution_count": 74,
     "metadata": {},
     "output_type": "execute_result"
    }
   ],
   "source": [
    "list(range(4))"
   ]
  },
  {
   "cell_type": "code",
   "execution_count": 76,
   "id": "2a9552a0-60e2-45e7-adf9-a9813699ad46",
   "metadata": {},
   "outputs": [
    {
     "data": {
      "text/plain": [
       "[0, 1, 2]"
      ]
     },
     "execution_count": 76,
     "metadata": {},
     "output_type": "execute_result"
    }
   ],
   "source": [
    "list(range(3))"
   ]
  },
  {
   "cell_type": "code",
   "execution_count": 78,
   "id": "5dfaca19-1be2-4eb8-b9d0-b13f7c93e7c9",
   "metadata": {},
   "outputs": [
    {
     "data": {
      "text/plain": [
       "[0, 1, 2, 3, 4, 5, 6, 7, 8, 9]"
      ]
     },
     "execution_count": 78,
     "metadata": {},
     "output_type": "execute_result"
    }
   ],
   "source": [
    "list(range(10))"
   ]
  },
  {
   "cell_type": "code",
   "execution_count": 80,
   "id": "5e6c287b-8d4d-4ddf-96e2-bde0ee8d601d",
   "metadata": {},
   "outputs": [
    {
     "data": {
      "text/plain": [
       "[2, 3, 4, 5]"
      ]
     },
     "execution_count": 80,
     "metadata": {},
     "output_type": "execute_result"
    }
   ],
   "source": [
    "list(range(2,6))"
   ]
  },
  {
   "cell_type": "code",
   "execution_count": 82,
   "id": "dcc3f4f4-047d-493e-9a2a-3d2e91960d89",
   "metadata": {},
   "outputs": [
    {
     "data": {
      "text/plain": [
       "[2, 5, 8]"
      ]
     },
     "execution_count": 82,
     "metadata": {},
     "output_type": "execute_result"
    }
   ],
   "source": [
    "list(range(2,10,3))"
   ]
  },
  {
   "cell_type": "code",
   "execution_count": 86,
   "id": "a3a82014-224f-4b1a-8c8a-3e9a46922437",
   "metadata": {},
   "outputs": [
    {
     "name": "stdout",
     "output_type": "stream",
     "text": [
      "Hello\n",
      "Hello\n",
      "Hello\n",
      "Hello\n",
      "Hello\n",
      "Hello\n",
      "Hello\n",
      "Hello\n",
      "Hello\n",
      "Hello\n"
     ]
    }
   ],
   "source": [
    "print(\"Hello\")\n",
    "print(\"Hello\")\n",
    "print(\"Hello\")\n",
    "print(\"Hello\")\n",
    "print(\"Hello\")\n",
    "print(\"Hello\")\n",
    "print(\"Hello\")\n",
    "print(\"Hello\")\n",
    "print(\"Hello\")\n",
    "print(\"Hello\")"
   ]
  },
  {
   "cell_type": "code",
   "execution_count": 98,
   "id": "b06ab678-b85f-42d6-9c44-93d5bbe567a2",
   "metadata": {},
   "outputs": [
    {
     "name": "stdout",
     "output_type": "stream",
     "text": [
      "Hello\n",
      "Hello\n",
      "Hello\n",
      "Hello\n",
      "Hello\n"
     ]
    }
   ],
   "source": [
    "for i in range(5):\n",
    "    print(\"Hello\")"
   ]
  },
  {
   "cell_type": "code",
   "execution_count": 94,
   "id": "7b2f013a-4ce8-4113-992e-f16f7615ce5f",
   "metadata": {},
   "outputs": [
    {
     "name": "stdout",
     "output_type": "stream",
     "text": [
      "0\n",
      "1\n",
      "2\n",
      "3\n",
      "4\n"
     ]
    }
   ],
   "source": [
    "for valentine in range(5):\n",
    "    print(valentine)"
   ]
  },
  {
   "cell_type": "code",
   "execution_count": 106,
   "id": "770f6310-9c45-4399-b338-175cf90617b1",
   "metadata": {},
   "outputs": [
    {
     "name": "stdout",
     "output_type": "stream",
     "text": [
      "0\n",
      "3\n",
      "6\n",
      "9\n",
      "12\n"
     ]
    }
   ],
   "source": [
    "for valentine in range(5):\n",
    "    print(valentine*3)"
   ]
  },
  {
   "cell_type": "code",
   "execution_count": null,
   "id": "a8c2cd5c-e20d-406c-bda5-98626bb86d61",
   "metadata": {},
   "outputs": [],
   "source": [
    "for number in range(101):\n",
    "    print(number*2)"
   ]
  },
  {
   "cell_type": "code",
   "execution_count": 108,
   "id": "f023a616-bf27-4eae-bb8b-219e9201025b",
   "metadata": {},
   "outputs": [
    {
     "name": "stdout",
     "output_type": "stream",
     "text": [
      "0\n",
      "2\n",
      "4\n",
      "6\n",
      "8\n",
      "10\n",
      "12\n",
      "14\n",
      "16\n",
      "18\n",
      "20\n",
      "22\n",
      "24\n",
      "26\n",
      "28\n",
      "30\n",
      "32\n",
      "34\n",
      "36\n",
      "38\n",
      "40\n",
      "42\n",
      "44\n",
      "46\n",
      "48\n",
      "50\n",
      "52\n",
      "54\n",
      "56\n",
      "58\n",
      "60\n",
      "62\n",
      "64\n",
      "66\n",
      "68\n",
      "70\n",
      "72\n",
      "74\n",
      "76\n",
      "78\n",
      "80\n",
      "82\n",
      "84\n",
      "86\n",
      "88\n",
      "90\n",
      "92\n",
      "94\n",
      "96\n",
      "98\n",
      "100\n"
     ]
    }
   ],
   "source": [
    "for number in range(0,101,2):\n",
    "    print(number)\n",
    "    "
   ]
  },
  {
   "cell_type": "code",
   "execution_count": 110,
   "id": "578c1c23-4c55-4089-b789-7ae60e226371",
   "metadata": {},
   "outputs": [
    {
     "name": "stdout",
     "output_type": "stream",
     "text": [
      "0\n",
      "2\n",
      "4\n",
      "6\n",
      "8\n",
      "10\n",
      "12\n",
      "14\n",
      "16\n",
      "18\n",
      "20\n",
      "22\n",
      "24\n",
      "26\n",
      "28\n",
      "30\n",
      "32\n",
      "34\n",
      "36\n",
      "38\n",
      "40\n",
      "42\n",
      "44\n",
      "46\n",
      "48\n",
      "50\n",
      "52\n",
      "54\n",
      "56\n",
      "58\n",
      "60\n",
      "62\n",
      "64\n",
      "66\n",
      "68\n",
      "70\n",
      "72\n",
      "74\n",
      "76\n",
      "78\n",
      "80\n",
      "82\n",
      "84\n",
      "86\n",
      "88\n",
      "90\n",
      "92\n",
      "94\n",
      "96\n",
      "98\n",
      "100\n"
     ]
    }
   ],
   "source": [
    "for number in range(101):\n",
    "    if number%2==0:\n",
    "        print(number)\n",
    "    "
   ]
  },
  {
   "cell_type": "code",
   "execution_count": 112,
   "id": "2f53c2ef-4246-4069-b4a0-abdd035deec4",
   "metadata": {},
   "outputs": [
    {
     "name": "stdout",
     "output_type": "stream",
     "text": [
      "4\n",
      "34\n",
      "64\n",
      "46\n"
     ]
    }
   ],
   "source": [
    "for number in [3,5,4,5,34,65,345,64,46,3]:\n",
    "    if number%2==0:\n",
    "        print(number)"
   ]
  },
  {
   "cell_type": "code",
   "execution_count": 120,
   "id": "d02ea3f4-e82f-41ce-a109-a66508b945ae",
   "metadata": {},
   "outputs": [
    {
     "name": "stdin",
     "output_type": "stream",
     "text": [
      "Enter your name: jsjs\n"
     ]
    },
    {
     "name": "stdout",
     "output_type": "stream",
     "text": [
      "Fine, you can come in\n"
     ]
    },
    {
     "name": "stdin",
     "output_type": "stream",
     "text": [
      "Enter your name: sjjs\n"
     ]
    },
    {
     "name": "stdout",
     "output_type": "stream",
     "text": [
      "Fine, you can come in\n"
     ]
    },
    {
     "name": "stdin",
     "output_type": "stream",
     "text": [
      "Enter your name: djjjs\n"
     ]
    },
    {
     "name": "stdout",
     "output_type": "stream",
     "text": [
      "Fine, you can come in\n"
     ]
    },
    {
     "name": "stdin",
     "output_type": "stream",
     "text": [
      "Enter your name: djjjs\n"
     ]
    },
    {
     "name": "stdout",
     "output_type": "stream",
     "text": [
      "Fine, you can come in\n"
     ]
    },
    {
     "name": "stdin",
     "output_type": "stream",
     "text": [
      "Enter your name: djjjs\n"
     ]
    },
    {
     "name": "stdout",
     "output_type": "stream",
     "text": [
      "Fine, you can come in\n"
     ]
    }
   ],
   "source": [
    "for i in range(5):\n",
    "    name = input(\"Enter your name:\").upper()\n",
    "    if name.strip().startswith(\"P\"):\n",
    "        print(\"You're not allowed in\")\n",
    "    else: \n",
    "        print(\"Fine, you can come in\")"
   ]
  },
  {
   "cell_type": "code",
   "execution_count": null,
   "id": "817f5a31-c8ca-4d48-bd5c-e5603507943a",
   "metadata": {},
   "outputs": [],
   "source": [
    "jnjnjs"
   ]
  },
  {
   "cell_type": "code",
   "execution_count": 124,
   "id": "e006fc4c-6ddb-41ff-8c6d-eaf8d5664eb6",
   "metadata": {},
   "outputs": [
    {
     "name": "stdin",
     "output_type": "stream",
     "text": [
      "Enter your name: Precious\n",
      "Enter your name: david\n"
     ]
    },
    {
     "name": "stdout",
     "output_type": "stream",
     "text": [
      "You're not allowed in\n"
     ]
    },
    {
     "name": "stdin",
     "output_type": "stream",
     "text": [
      "Enter your name: prince\n",
      "Enter your name: yys\n"
     ]
    },
    {
     "name": "stdout",
     "output_type": "stream",
     "text": [
      "You're not allowed in\n"
     ]
    },
    {
     "name": "stdin",
     "output_type": "stream",
     "text": [
      "Enter your name: jkkks\n"
     ]
    },
    {
     "name": "stdout",
     "output_type": "stream",
     "text": [
      "You're not allowed in\n"
     ]
    }
   ],
   "source": [
    "for i in range(5):\n",
    "    name = input(\"Enter your name:\").upper()\n",
    "    if name.strip().startswith(\"P\"):\n",
    "        continue\n",
    "    else:\n",
    "        print(\"You're not allowed in\")"
   ]
  },
  {
   "cell_type": "code",
   "execution_count": 126,
   "id": "4e59f710-339b-443e-a4f2-312d41b7aef7",
   "metadata": {},
   "outputs": [
    {
     "name": "stdout",
     "output_type": "stream",
     "text": [
      "0\n",
      "2\n",
      "4\n",
      "6\n",
      "7\n",
      "8\n"
     ]
    }
   ],
   "source": [
    "for i in range(10):\n",
    "    if i in [1,3,5,9]:\n",
    "        continue\n",
    "    else:\n",
    "        print(i)"
   ]
  },
  {
   "cell_type": "code",
   "execution_count": 128,
   "id": "3a668a99-88b1-41b0-8519-bf965f6e2aa7",
   "metadata": {},
   "outputs": [
    {
     "name": "stdout",
     "output_type": "stream",
     "text": [
      "0\n"
     ]
    }
   ],
   "source": [
    "for i in range(10):\n",
    "    if i in [1,3,5,9]:\n",
    "        break\n",
    "    else:\n",
    "        print(i)"
   ]
  },
  {
   "cell_type": "code",
   "execution_count": 132,
   "id": "9a60ad82-b708-43d6-b68d-71c8c7702e40",
   "metadata": {},
   "outputs": [
    {
     "name": "stdout",
     "output_type": "stream",
     "text": [
      "4.95\t2.97\t1.98\n",
      "9.95\t5.97\t3.98\n",
      "14.95\t8.97\t5.98\n",
      "19.95\t11.97\t7.98\n",
      "24.95\t14.97\t9.98\n"
     ]
    }
   ],
   "source": [
    "prices =[4.95, 9.95, 14.95, 19.95,24.95]\n",
    "for price in prices:\n",
    "    discount = 0.6*price\n",
    "    new_price= price-discount\n",
    "    print(f\"{round(price,2)}\\t{round(discount,2)}\\t{round(new_price,2)}\")"
   ]
  },
  {
   "cell_type": "code",
   "execution_count": 136,
   "id": "438f9ded-5adb-4470-8297-92365388de30",
   "metadata": {},
   "outputs": [
    {
     "name": "stdout",
     "output_type": "stream",
     "text": [
      "Original price:4.95\tDiscount:2.97\tNew price:1.98\n",
      "Original price:9.95\tDiscount:5.97\tNew price:3.98\n",
      "Original price:14.95\tDiscount:8.97\tNew price:5.98\n",
      "Original price:19.95\tDiscount:11.97\tNew price:7.98\n",
      "Original price:24.95\tDiscount:14.97\tNew price:9.98\n"
     ]
    }
   ],
   "source": [
    "prices =[4.95, 9.95, 14.95, 19.95,24.95]\n",
    "for price in prices:\n",
    "    discount = 0.6*price\n",
    "    new_price= price-discount\n",
    "    print(f\"Original price:{round(price,2)}\\tDiscount:{round(discount,2)}\\tNew price:{round(new_price,2)}\")"
   ]
  },
  {
   "cell_type": "code",
   "execution_count": 142,
   "id": "25ad76c3-466b-429e-a5bb-abcf3c91ce17",
   "metadata": {},
   "outputs": [
    {
     "name": "stdout",
     "output_type": "stream",
     "text": [
      "Price\tDiscount\tNew Price\n",
      "4.95\t2.97\t\t1.98\n",
      "9.95\t5.97\t\t3.98\n",
      "14.95\t8.97\t\t5.98\n",
      "19.95\t11.97\t\t7.98\n",
      "24.95\t14.97\t\t9.98\n"
     ]
    }
   ],
   "source": [
    "prices =[4.95, 9.95, 14.95, 19.95,24.95]\n",
    "print(\"Price\\tDiscount\\tNew Price\")\n",
    "for price in prices:\n",
    "    discount = 0.6*price\n",
    "    new_price= price-discount\n",
    "    print(f\"{round(price,2)}\\t{round(discount,2)}\\t\\t{round(new_price,2)}\")"
   ]
  },
  {
   "cell_type": "code",
   "execution_count": null,
   "id": "0f91c57d-7a52-43ba-b720-1979135bc625",
   "metadata": {},
   "outputs": [],
   "source": []
  }
 ],
 "metadata": {
  "kernelspec": {
   "display_name": "Python 3 (ipykernel)",
   "language": "python",
   "name": "python3"
  },
  "language_info": {
   "codemirror_mode": {
    "name": "ipython",
    "version": 3
   },
   "file_extension": ".py",
   "mimetype": "text/x-python",
   "name": "python",
   "nbconvert_exporter": "python",
   "pygments_lexer": "ipython3",
   "version": "3.12.7"
  }
 },
 "nbformat": 4,
 "nbformat_minor": 5
}
