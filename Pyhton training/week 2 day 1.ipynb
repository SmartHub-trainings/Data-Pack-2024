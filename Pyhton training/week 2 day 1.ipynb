{
 "cells": [
  {
   "cell_type": "code",
   "execution_count": 3,
   "id": "a8e4a2d8-a34b-4272-a060-01b9becf47ed",
   "metadata": {},
   "outputs": [
    {
     "name": "stdin",
     "output_type": "stream",
     "text": [
      "Enter a sentence: George is coming\n"
     ]
    },
    {
     "name": "stdout",
     "output_type": "stream",
     "text": [
      "Number of words is {number_of_words}\n"
     ]
    }
   ],
   "source": [
    "sentence =input(\"Enter a sentence:\")\n",
    "sentence_list=sentence.split(\" \")\n",
    "number_of_words=len(sentence_list)\n",
    "print(\"Number of words is {number_of_words}\")"
   ]
  },
  {
   "cell_type": "code",
   "execution_count": 4,
   "id": "32fa11c9-7482-461f-a17a-067e3711bd96",
   "metadata": {},
   "outputs": [
    {
     "name": "stdin",
     "output_type": "stream",
     "text": [
      "Enter a sentence: This is cool and i like it\n"
     ]
    },
    {
     "name": "stdout",
     "output_type": "stream",
     "text": [
      "Number of words is 7\n"
     ]
    }
   ],
   "source": [
    "sentence =input(\"Enter a sentence:\")\n",
    "sentence_list=sentence.split(\" \")\n",
    "number_of_words=len(sentence_list)\n",
    "print(f\"Number of words is {number_of_words}\")"
   ]
  },
  {
   "cell_type": "code",
   "execution_count": 5,
   "id": "b9ac9ea5-7d9e-4f3b-89fb-1ba54abe380e",
   "metadata": {},
   "outputs": [
    {
     "name": "stdin",
     "output_type": "stream",
     "text": [
      "Enter a sentence:   this   is   nice\n"
     ]
    },
    {
     "name": "stdout",
     "output_type": "stream",
     "text": [
      "Number of words is 9\n"
     ]
    }
   ],
   "source": [
    "sentence =input(\"Enter a sentence:\")\n",
    "sentence_list=sentence.split(\" \")\n",
    "number_of_words=len(sentence_list)\n",
    "porint\n",
    "print(f\"Number of words is {number_of_words}\")"
   ]
  },
  {
   "cell_type": "code",
   "execution_count": 7,
   "id": "508de212-67f9-4dd1-94e0-b8729599f3ef",
   "metadata": {},
   "outputs": [
    {
     "data": {
      "text/plain": [
       "['', '', 'this', '', '', 'is', '', '', 'nice']"
      ]
     },
     "execution_count": 7,
     "metadata": {},
     "output_type": "execute_result"
    }
   ],
   "source": [
    "sentence_list"
   ]
  },
  {
   "cell_type": "code",
   "execution_count": 8,
   "id": "035ed0da-3d58-4699-93db-0654c8445365",
   "metadata": {},
   "outputs": [
    {
     "name": "stdin",
     "output_type": "stream",
     "text": [
      "Enter a sentence:    this   is     nice    \n"
     ]
    },
    {
     "name": "stdout",
     "output_type": "stream",
     "text": [
      "['', '', '', 'this', '', '', 'is', '', '', '', '', 'nice', '', '', '', '']\n",
      "['this', '', '', 'is', '', '', '', '', 'nice']\n",
      "Number of words is 9\n"
     ]
    }
   ],
   "source": [
    "sentence =input(\"Enter a sentence:\")\n",
    "\n",
    "sentence_list=sentence.split(\" \")\n",
    "print(sentence_list)\n",
    "sentence_list=sentence.strip().split(\" \")\n",
    "print(sentence_list)\n",
    "number_of_words=len(sentence_list)\n",
    "\n",
    "print(f\"Number of words is {number_of_words}\")"
   ]
  },
  {
   "cell_type": "code",
   "execution_count": 9,
   "id": "bcee8044-83c2-4c62-8300-8a598ede65b6",
   "metadata": {},
   "outputs": [
    {
     "data": {
      "text/plain": [
       "'   this   is     nice    '"
      ]
     },
     "execution_count": 9,
     "metadata": {},
     "output_type": "execute_result"
    }
   ],
   "source": [
    "sentence"
   ]
  },
  {
   "cell_type": "code",
   "execution_count": 10,
   "id": "e36a3664-8749-462e-9946-17d0c23308d4",
   "metadata": {},
   "outputs": [
    {
     "data": {
      "text/plain": [
       "'   THIS   IS     NICE    '"
      ]
     },
     "execution_count": 10,
     "metadata": {},
     "output_type": "execute_result"
    }
   ],
   "source": [
    "sentence.upper()"
   ]
  },
  {
   "cell_type": "code",
   "execution_count": 11,
   "id": "f62c055a-738e-4a50-bdba-6ff1d6423506",
   "metadata": {},
   "outputs": [
    {
     "data": {
      "text/plain": [
       "'   this   is     nice    '"
      ]
     },
     "execution_count": 11,
     "metadata": {},
     "output_type": "execute_result"
    }
   ],
   "source": [
    "sentence"
   ]
  },
  {
   "cell_type": "markdown",
   "id": "a9bebad6-f3f8-42c1-9c62-a55a0239ab8c",
   "metadata": {},
   "source": [
    "## Boolean data types and conditional control structures"
   ]
  },
  {
   "cell_type": "code",
   "execution_count": 12,
   "id": "b804b582-7bbd-4c7a-9f48-ad78c2057bc6",
   "metadata": {},
   "outputs": [
    {
     "data": {
      "text/plain": [
       "True"
      ]
     },
     "execution_count": 12,
     "metadata": {},
     "output_type": "execute_result"
    }
   ],
   "source": [
    "True"
   ]
  },
  {
   "cell_type": "code",
   "execution_count": 13,
   "id": "4ee827ac-0051-4463-a12b-69ea71b66ead",
   "metadata": {},
   "outputs": [
    {
     "data": {
      "text/plain": [
       "False"
      ]
     },
     "execution_count": 13,
     "metadata": {},
     "output_type": "execute_result"
    }
   ],
   "source": [
    "False"
   ]
  },
  {
   "cell_type": "code",
   "execution_count": 14,
   "id": "6874e4b8-3387-4615-af35-c39c4b1bfb98",
   "metadata": {},
   "outputs": [
    {
     "data": {
      "text/plain": [
       "False"
      ]
     },
     "execution_count": 14,
     "metadata": {},
     "output_type": "execute_result"
    }
   ],
   "source": [
    " 5>9"
   ]
  },
  {
   "cell_type": "code",
   "execution_count": 15,
   "id": "b2daca41-5309-48ca-9f08-9e3f5d8a6b1b",
   "metadata": {},
   "outputs": [
    {
     "data": {
      "text/plain": [
       "True"
      ]
     },
     "execution_count": 15,
     "metadata": {},
     "output_type": "execute_result"
    }
   ],
   "source": [
    "6>=6"
   ]
  },
  {
   "cell_type": "code",
   "execution_count": 16,
   "id": "ca4ecd17-9563-4212-a3f7-2f59e2972522",
   "metadata": {},
   "outputs": [
    {
     "data": {
      "text/plain": [
       "False"
      ]
     },
     "execution_count": 16,
     "metadata": {},
     "output_type": "execute_result"
    }
   ],
   "source": [
    "\"Precious\"==\"precious\""
   ]
  },
  {
   "cell_type": "code",
   "execution_count": 17,
   "id": "f58e3bb5-d59d-4a3e-a085-bf2decd31b97",
   "metadata": {},
   "outputs": [
    {
     "data": {
      "text/plain": [
       "False"
      ]
     },
     "execution_count": 17,
     "metadata": {},
     "output_type": "execute_result"
    }
   ],
   "source": [
    "\"Precious\">\"precious\""
   ]
  },
  {
   "cell_type": "code",
   "execution_count": 18,
   "id": "a015c15d-92b9-4e9b-990b-fbda5439fa61",
   "metadata": {},
   "outputs": [
    {
     "data": {
      "text/plain": [
       "False"
      ]
     },
     "execution_count": 18,
     "metadata": {},
     "output_type": "execute_result"
    }
   ],
   "source": [
    "\"Ada\">\"Anabel\""
   ]
  },
  {
   "cell_type": "code",
   "execution_count": 20,
   "id": "9b8410d0-0b1e-4836-ad9f-45714d61f231",
   "metadata": {},
   "outputs": [],
   "source": [
    "Precious='precious'"
   ]
  },
  {
   "cell_type": "code",
   "execution_count": 21,
   "id": "2a60d8df-f801-408f-af83-7fab16580dfc",
   "metadata": {},
   "outputs": [
    {
     "data": {
      "text/plain": [
       "'precious'"
      ]
     },
     "execution_count": 21,
     "metadata": {},
     "output_type": "execute_result"
    }
   ],
   "source": [
    "Precious"
   ]
  },
  {
   "cell_type": "code",
   "execution_count": 28,
   "id": "2244ba68-af4b-47e5-a4d2-ae80353dd5e3",
   "metadata": {},
   "outputs": [
    {
     "name": "stdin",
     "output_type": "stream",
     "text": [
      "Enter age: 12\n"
     ]
    },
    {
     "name": "stdout",
     "output_type": "stream",
     "text": [
      "False\n",
      "Gettat!!!\n"
     ]
    }
   ],
   "source": [
    "age =int(input(\"Enter age:\" ))\n",
    "print(age>=18)\n",
    "if age>=18:\n",
    "    print(\"You're an Adult\")\n",
    "else:\n",
    "    print(\"Gettat!!!\")\n",
    "    \n",
    "               "
   ]
  },
  {
   "cell_type": "code",
   "execution_count": 30,
   "id": "070e8abd-5c1a-48c3-bede-2c4a62e210b7",
   "metadata": {},
   "outputs": [
    {
     "name": "stdin",
     "output_type": "stream",
     "text": [
      "Enter age: 14\n"
     ]
    },
    {
     "name": "stdout",
     "output_type": "stream",
     "text": [
      "False\n",
      "Gettat!!!\n"
     ]
    }
   ],
   "source": [
    "age =int(input(\"Enter age:\" ))\n",
    "print(age>=18)\n",
    "if age>=18:\n",
    "    print(\"You're an Adult\")\n",
    "\n",
    "if age<18:\n",
    "    print(\"Gettat!!!\")"
   ]
  },
  {
   "cell_type": "code",
   "execution_count": 35,
   "id": "fb9d130e-a57d-46c7-b52b-1aacc9e792bd",
   "metadata": {},
   "outputs": [
    {
     "name": "stdin",
     "output_type": "stream",
     "text": [
      "Enter age: 17\n"
     ]
    }
   ],
   "source": [
    "age =int(input(\"Enter age:\" ))\n",
    "if age>=18:\n",
    "    print(\"You're an Adult\")\n"
   ]
  },
  {
   "cell_type": "code",
   "execution_count": 37,
   "id": "eab6e47d-bcd1-4b23-883f-3428ac70fcd0",
   "metadata": {},
   "outputs": [
    {
     "name": "stdin",
     "output_type": "stream",
     "text": [
      "Enter Score: 39\n"
     ]
    },
    {
     "name": "stdout",
     "output_type": "stream",
     "text": [
      "Happy to see you next year!!\n"
     ]
    }
   ],
   "source": [
    "score =int(input(\"Enter Score:\"))\n",
    "if score<40:\n",
    "    print(\"Happy to see you next year!!\")\n",
    "else:\n",
    "    print(\"See you in next class.\")"
   ]
  },
  {
   "cell_type": "code",
   "execution_count": 42,
   "id": "1cb33ce3-e5a5-4059-bec2-c4ebc31da274",
   "metadata": {},
   "outputs": [
    {
     "name": "stdin",
     "output_type": "stream",
     "text": [
      "Enter Score: 101\n"
     ]
    },
    {
     "name": "stdout",
     "output_type": "stream",
     "text": [
      "You're promoted to the next class.\n"
     ]
    }
   ],
   "source": [
    "score =int(input(\"Enter Score:\"))\n",
    "if score<40:\n",
    "    print(\"Sorry, you have to repeat this class.\")\n",
    "elif score<=50:\n",
    "    print(\"Sorry, you have to resit this exams.\")\n",
    "else:\n",
    "    print(\"You're promoted to the next class.\")"
   ]
  },
  {
   "cell_type": "code",
   "execution_count": null,
   "id": "78a1aca9-f962-4fe9-b315-ec43230b5bd3",
   "metadata": {},
   "outputs": [],
   "source": [
    "score =int(input(\"Enter Score:\"))\n",
    "if score<40:\n",
    "    print(\"Sorry, you have to repeat this class.\")\n",
    "elif score<=50:\n",
    "    print(\"Sorry, you have to resit this exams.\")\n",
    "else:\n",
    "    print(\"You're promoted to the next class.\")"
   ]
  },
  {
   "cell_type": "code",
   "execution_count": 45,
   "id": "9a199691-d6e9-461d-bc03-4fd86b618938",
   "metadata": {},
   "outputs": [
    {
     "name": "stdin",
     "output_type": "stream",
     "text": [
      "Enter Score: 20\n"
     ]
    },
    {
     "name": "stdout",
     "output_type": "stream",
     "text": [
      "Sorry, you have to repeat this class.\n"
     ]
    }
   ],
   "source": [
    "score =int(input(\"Enter Score:\"))\n",
    "if score <0:\n",
    "    print(\"Invalid entry!!\")\n",
    "elif score>100:\n",
    "    print(\"Invalid entry!!\")\n",
    "elif score<40:\n",
    "    print(\"Sorry, you have to repeat this class.\")\n",
    "elif score<=50:\n",
    "    print(\"Sorry, you have to resit this exams.\")\n",
    "else:\n",
    "    print(\"You're promoted to the next class.\")"
   ]
  },
  {
   "cell_type": "code",
   "execution_count": 48,
   "id": "b1fdfe19-3379-4b18-9c00-589032d89724",
   "metadata": {},
   "outputs": [
    {
     "name": "stdin",
     "output_type": "stream",
     "text": [
      "Enter Score: 56\n"
     ]
    },
    {
     "name": "stdout",
     "output_type": "stream",
     "text": [
      "You're promoted to the next class.\n"
     ]
    }
   ],
   "source": [
    "score =int(input(\"Enter Score:\"))\n",
    "if score <0 or score>100:\n",
    "    print(\"Invalid entry!!\")\n",
    "elif score<40:\n",
    "    print(\"Sorry, you have to repeat this class.\")\n",
    "elif score<=50:\n",
    "    print(\"Sorry, you have to resit this exams.\")\n",
    "else:\n",
    "    print(\"You're promoted to the next class.\")"
   ]
  },
  {
   "cell_type": "code",
   "execution_count": 49,
   "id": "7b65f587-1ed3-4488-8267-059d4edda304",
   "metadata": {},
   "outputs": [
    {
     "name": "stdout",
     "output_type": "stream",
     "text": [
      "Menu:\n",
      "1. Garri and Soup(1200/plate)\n",
      "2. Jollof rice and Chicken(4500/plate)\n"
     ]
    }
   ],
   "source": [
    "menu =\"\"\"Menu:\n",
    "1. Garri and Soup(1200/plate)\n",
    "2. Jollof rice and Chicken(4500/plate)\"\"\"\n",
    "print(menu)"
   ]
  },
  {
   "cell_type": "code",
   "execution_count": 50,
   "id": "6b46022a-d8b3-4a7d-9dbb-62b4e5a5b777",
   "metadata": {},
   "outputs": [
    {
     "name": "stdout",
     "output_type": "stream",
     "text": [
      "Menu:\n",
      "1. Garri and Soup(1200/plate)\n",
      "2. Jollof rice and Chicken(4500/plate)\n"
     ]
    },
    {
     "name": "stdin",
     "output_type": "stream",
     "text": [
      "Choose 1 or 2:  1\n"
     ]
    },
    {
     "name": "stdout",
     "output_type": "stream",
     "text": [
      "You chosed Rice and Chicken\n"
     ]
    }
   ],
   "source": [
    "menu =\"\"\"Menu:\n",
    "1. Garri and Soup(1200/plate)\n",
    "2. Jollof rice and Chicken(4500/plate)\"\"\"\n",
    "print(menu)\n",
    "choice_of_meal=input(\"Choose 1 or 2: \")\n",
    "if choice_of_meal==1:\n",
    "    print(\"You chosed Garri and Soup\")\n",
    "else:\n",
    "    print(\"You chosed Rice and Chicken\")"
   ]
  },
  {
   "cell_type": "code",
   "execution_count": null,
   "id": "94056d01-db1a-4efb-b089-653f9fb9858c",
   "metadata": {},
   "outputs": [],
   "source": []
  }
 ],
 "metadata": {
  "kernelspec": {
   "display_name": "Python 3 (ipykernel)",
   "language": "python",
   "name": "python3"
  },
  "language_info": {
   "codemirror_mode": {
    "name": "ipython",
    "version": 3
   },
   "file_extension": ".py",
   "mimetype": "text/x-python",
   "name": "python",
   "nbconvert_exporter": "python",
   "pygments_lexer": "ipython3",
   "version": "3.12.7"
  }
 },
 "nbformat": 4,
 "nbformat_minor": 5
}
